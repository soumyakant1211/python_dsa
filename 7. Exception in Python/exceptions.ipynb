{
 "cells": [
  {
   "cell_type": "markdown",
   "id": "4a25bd38",
   "metadata": {},
   "source": [
    "Exception Handling in Python allows you to handle errors gracefully and take corrctive actions without stopping the execution of the program. This notebook will cover the basics of exception including how to use try, except, else and finnaly blocks."
   ]
  },
  {
   "cell_type": "markdown",
   "id": "1142f034",
   "metadata": {},
   "source": [
    "#### What are Exceptions?\n",
    "\n",
    "Exceptions are the events that disrupt the normal flow of the program. They occur when an error is encountered during the program execution. Exceptions are used to handle runtime errors and provide a way to manage the flow of the program. They are used to handle unexpected events that may occur during the execution of the program. Common exceptions include:\n",
    "\n",
    "1. ZeroDivisionError: Raised when the second argument of a division or modulo operation is zero.\n",
    "2. TypeError: Raised when a function or operation is applied to an object of an incorrect type.\n",
    "3. ValueError: Raised when a function or operation receives an argument with an incorrect value.\n",
    "4. FileNotFoundError: Raised when a file does not exist."
   ]
  },
  {
   "cell_type": "code",
   "execution_count": 1,
   "id": "ebb964d7",
   "metadata": {},
   "outputs": [],
   "source": [
    "# Nameerror\n",
    "# uncomment the next line to run the code\n",
    "\n",
    "# a = b"
   ]
  },
  {
   "cell_type": "code",
   "execution_count": 2,
   "id": "1e3c1773",
   "metadata": {},
   "outputs": [
    {
     "name": "stdout",
     "output_type": "stream",
     "text": [
      "The variable 'b' is not defined\n"
     ]
    }
   ],
   "source": [
    "# exception handling -> try-except block\n",
    "\n",
    "try:\n",
    "    a = b\n",
    "except:\n",
    "    print(\"The variable 'b' is not defined\")"
   ]
  },
  {
   "cell_type": "code",
   "execution_count": 3,
   "id": "fb0757c4",
   "metadata": {},
   "outputs": [
    {
     "name": "stdout",
     "output_type": "stream",
     "text": [
      "name 'b' is not defined\n"
     ]
    }
   ],
   "source": [
    "# another way of dispalying the exception message\n",
    "\n",
    "try:\n",
    "    a = b\n",
    "except NameError as e:\n",
    "    print(e)"
   ]
  },
  {
   "cell_type": "code",
   "execution_count": 4,
   "id": "13b38f02",
   "metadata": {},
   "outputs": [],
   "source": [
    "# ZeroDivisionError\n",
    "# uncomment the next line to run the code\n",
    "\n",
    "# result = 10 / 0"
   ]
  },
  {
   "cell_type": "code",
   "execution_count": 5,
   "id": "647603d7",
   "metadata": {},
   "outputs": [
    {
     "name": "stdout",
     "output_type": "stream",
     "text": [
      "You cannot divide by zero\n",
      "division by zero\n"
     ]
    }
   ],
   "source": [
    "# handling ZeroDivisionError\n",
    "\n",
    "try:\n",
    "    result = 10 / 0\n",
    "except ZeroDivisionError as e:\n",
    "    print(\"You cannot divide by zero\")\n",
    "    print(e)"
   ]
  },
  {
   "cell_type": "markdown",
   "id": "e2915e82",
   "metadata": {},
   "source": [
    "Exception is the main class of every exception raised. Let, whatever be the type of exception they are all derived from the Exception class. So, we can use Exception class as a base class for our custom exception class."
   ]
  },
  {
   "cell_type": "code",
   "execution_count": 6,
   "id": "15e6dce8",
   "metadata": {},
   "outputs": [
    {
     "name": "stdout",
     "output_type": "stream",
     "text": [
      "An error occurred\n",
      "name 'b' is not defined\n"
     ]
    }
   ],
   "source": [
    "try:\n",
    "    result = 10 / 20\n",
    "    a = b\n",
    "except ZeroDivisionError as e:\n",
    "    print(\"You cannot divide by zero\")\n",
    "    print(e)\n",
    "except Exception as ex:\n",
    "    print(\"An error occurred\")\n",
    "    print(ex)"
   ]
  },
  {
   "cell_type": "code",
   "execution_count": 7,
   "id": "08d0024d",
   "metadata": {},
   "outputs": [
    {
     "name": "stdout",
     "output_type": "stream",
     "text": [
      "You cannot divide by zero\n"
     ]
    }
   ],
   "source": [
    "try:\n",
    "    num = int(input(\"Enter a number: \"))\n",
    "    result = 10 / num\n",
    "except ValueError:\n",
    "    print(\"You must enter a number\")\n",
    "except ZeroDivisionError:\n",
    "    print(\"You cannot divide by zero\")\n",
    "except Exception as ex:\n",
    "    print(\"An error occurred\")\n",
    "    print(ex)"
   ]
  },
  {
   "cell_type": "code",
   "execution_count": 8,
   "id": "5c126fec",
   "metadata": {},
   "outputs": [
    {
     "name": "stdout",
     "output_type": "stream",
     "text": [
      "You must enter a number\n"
     ]
    }
   ],
   "source": [
    "# try-except-else block\n",
    "\n",
    "try:\n",
    "    num = int(input(\"Enter a number: \"))\n",
    "    result = 10 / num\n",
    "except ValueError:\n",
    "    print(\"You must enter a number\")\n",
    "except ZeroDivisionError:\n",
    "    print(\"You cannot divide by zero\")\n",
    "except Exception as ex:\n",
    "    print(\"An error occurred\")\n",
    "    print(ex)\n",
    "else:\n",
    "    print(\"No exception occurred\")\n",
    "    print(result)"
   ]
  },
  {
   "cell_type": "code",
   "execution_count": 9,
   "id": "2a0521fc",
   "metadata": {},
   "outputs": [
    {
     "name": "stdout",
     "output_type": "stream",
     "text": [
      "No exception occurred\n",
      "5.0\n",
      "This block will always execute\n",
      "Goodbye!\n"
     ]
    }
   ],
   "source": [
    "# try-except-else-finally block\n",
    "\n",
    "try:\n",
    "    num = int(input(\"Enter a number: \"))\n",
    "    result = 10 / num\n",
    "except ValueError:\n",
    "    print(\"You must enter a number\")\n",
    "except ZeroDivisionError:\n",
    "    print(\"You cannot divide by zero\")\n",
    "except Exception as ex:\n",
    "    print(\"An error occurred\")\n",
    "    print(ex)\n",
    "else:\n",
    "    print(\"No exception occurred\")\n",
    "    print(result)\n",
    "finally:\n",
    "    print(\"This block will always execute\")\n",
    "    print(\"Goodbye!\")"
   ]
  },
  {
   "cell_type": "markdown",
   "id": "8672bfaa",
   "metadata": {},
   "source": [
    "Note: Finally block  always get executed irrespective of which try-except-else block executed"
   ]
  },
  {
   "cell_type": "code",
   "execution_count": 10,
   "id": "266750e5",
   "metadata": {},
   "outputs": [
    {
     "name": "stdout",
     "output_type": "stream",
     "text": [
      "The file does not exist\n",
      "[Errno 2] No such file or directory: 'test.txt'\n"
     ]
    }
   ],
   "source": [
    "# File handling and exception handling\n",
    "\n",
    "try:\n",
    "    file = open(\"test.txt\", \"r\")\n",
    "    content = file.read()\n",
    "    print(content)\n",
    "except FileNotFoundError as e:\n",
    "    print(\"The file does not exist\")\n",
    "    print(e)\n",
    "finally:\n",
    "    if 'file' in locals() and not file.closed():\n",
    "        file.close()\n",
    "        print(\"File closed\")"
   ]
  },
  {
   "cell_type": "code",
   "execution_count": 11,
   "id": "612fe557",
   "metadata": {},
   "outputs": [
    {
     "name": "stdout",
     "output_type": "stream",
     "text": [
      "Hello, World!\n",
      "This is a test.\n",
      "\n",
      "An error occurred\n",
      "name 'b' is not defined\n",
      "File closed\n"
     ]
    }
   ],
   "source": [
    "try:\n",
    "    file = open(\"example.txt\", \"r\")\n",
    "    content = file.read()\n",
    "    print(content)\n",
    "    a = b\n",
    "except FileNotFoundError as e:\n",
    "    print(\"The file does not exist\")\n",
    "    print(e)\n",
    "except Exception as ex:\n",
    "    print(\"An error occurred\")\n",
    "    print(ex)\n",
    "finally:\n",
    "    if 'file' in locals() or not file.closed():\n",
    "        file.close()\n",
    "        print(\"File closed\")"
   ]
  }
 ],
 "metadata": {
  "kernelspec": {
   "display_name": "Python 3",
   "language": "python",
   "name": "python3"
  },
  "language_info": {
   "codemirror_mode": {
    "name": "ipython",
    "version": 3
   },
   "file_extension": ".py",
   "mimetype": "text/x-python",
   "name": "python",
   "nbconvert_exporter": "python",
   "pygments_lexer": "ipython3",
   "version": "3.11.11"
  }
 },
 "nbformat": 4,
 "nbformat_minor": 5
}

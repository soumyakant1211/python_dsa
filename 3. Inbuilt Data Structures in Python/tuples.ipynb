{
 "cells": [
  {
   "cell_type": "markdown",
   "id": "e59c6adc",
   "metadata": {},
   "source": [
    "Tuples are ordered collections of items that are immutable. They are similar to lists but immutability makes them different."
   ]
  },
  {
   "cell_type": "code",
   "execution_count": 67,
   "id": "0088497e",
   "metadata": {},
   "outputs": [
    {
     "name": "stdout",
     "output_type": "stream",
     "text": [
      "()\n",
      "<class 'tuple'>\n"
     ]
    }
   ],
   "source": [
    "emptyTuple = ()\n",
    "print(emptyTuple)\n",
    "print(type(emptyTuple))"
   ]
  },
  {
   "cell_type": "code",
   "execution_count": 68,
   "id": "762df7e6",
   "metadata": {},
   "outputs": [
    {
     "name": "stdout",
     "output_type": "stream",
     "text": [
      "()\n",
      "<class 'tuple'>\n"
     ]
    }
   ],
   "source": [
    "tpl = tuple()\n",
    "print(tpl)\n",
    "print(type(tpl))"
   ]
  },
  {
   "cell_type": "code",
   "execution_count": 69,
   "id": "9585f3a4",
   "metadata": {},
   "outputs": [
    {
     "data": {
      "text/plain": [
       "(1, 2, 3, 4, 5)"
      ]
     },
     "execution_count": 69,
     "metadata": {},
     "output_type": "execute_result"
    }
   ],
   "source": [
    "numbers = tuple([1, 2, 3, 4, 5])\n",
    "numbers"
   ]
  },
  {
   "cell_type": "markdown",
   "id": "ac24d052",
   "metadata": {},
   "source": [
    "A list can be converted to tuple and vice versa."
   ]
  },
  {
   "cell_type": "code",
   "execution_count": 70,
   "id": "c0600d46",
   "metadata": {},
   "outputs": [
    {
     "name": "stdout",
     "output_type": "stream",
     "text": [
      "(1, 'Soumya', 3.14, True)\n"
     ]
    }
   ],
   "source": [
    "mixedTuple = (1,'Soumya', 3.14, True)\n",
    "print(mixedTuple)"
   ]
  },
  {
   "cell_type": "markdown",
   "id": "13699af4",
   "metadata": {},
   "source": [
    "Accessing Tuple Elements"
   ]
  },
  {
   "cell_type": "code",
   "execution_count": 71,
   "id": "2ae7cac1",
   "metadata": {},
   "outputs": [
    {
     "name": "stdout",
     "output_type": "stream",
     "text": [
      "1\n",
      "4\n",
      "(1, 2, 3, 4)\n",
      "(1, 2, 3, 4)\n",
      "(1, 2, 3, 4, 5)\n",
      "(5, 4, 3, 2, 1)\n",
      "5\n"
     ]
    }
   ],
   "source": [
    "print(numbers[0])\n",
    "print(numbers[-2])\n",
    "print(numbers[:-1])\n",
    "print(numbers[0:4])\n",
    "print(numbers[::])\n",
    "print(numbers[::-1])\n",
    "print(numbers[-1])"
   ]
  },
  {
   "cell_type": "markdown",
   "id": "856e50a1",
   "metadata": {},
   "source": [
    "Tuple Operations"
   ]
  },
  {
   "cell_type": "code",
   "execution_count": 72,
   "id": "5e097616",
   "metadata": {},
   "outputs": [
    {
     "name": "stdout",
     "output_type": "stream",
     "text": [
      "(1, 2, 3, 4, 5, 1, 'Soumya', 3.14, True)\n",
      "(1, 'Soumya', 3.14, True, 1, 'Soumya', 3.14, True, 1, 'Soumya', 3.14, True)\n"
     ]
    }
   ],
   "source": [
    "# Concatenation of Tuples\n",
    "\n",
    "new = numbers + mixedTuple\n",
    "print(new)\n",
    "\n",
    "# Duplicating values in tuples\n",
    "\n",
    "print(mixedTuple * 3)"
   ]
  },
  {
   "cell_type": "markdown",
   "id": "06e36583",
   "metadata": {},
   "source": [
    "Immutable Nature of Tuples does not allow the elements of tuple to change, once assigned."
   ]
  },
  {
   "cell_type": "code",
   "execution_count": 73,
   "id": "6f5322a2",
   "metadata": {},
   "outputs": [
    {
     "name": "stdout",
     "output_type": "stream",
     "text": [
      "[1, 2, 3, 4, 5]\n",
      "[10, 2, 3, 4, 5]\n"
     ]
    }
   ],
   "source": [
    "# Examples of Mutability\n",
    "\n",
    "lst = [1, 2, 3, 4, 5]\n",
    "print(lst)\n",
    "lst[0] = 10\n",
    "print(lst)"
   ]
  },
  {
   "cell_type": "code",
   "execution_count": 74,
   "id": "832df59e",
   "metadata": {},
   "outputs": [],
   "source": [
    "# Example of immutablity (Typeerror)\n",
    "\n",
    "# numbers[0] = 10\n",
    "# print(numbers)  # Output: [10, 2, 3, 4, 5]"
   ]
  },
  {
   "cell_type": "markdown",
   "id": "24565536",
   "metadata": {},
   "source": [
    "Tuple Methods"
   ]
  },
  {
   "cell_type": "code",
   "execution_count": 75,
   "id": "85a9a792",
   "metadata": {},
   "outputs": [
    {
     "name": "stdout",
     "output_type": "stream",
     "text": [
      "1\n",
      "2\n",
      "5\n",
      "1\n",
      "5\n"
     ]
    }
   ],
   "source": [
    "# count\n",
    "\n",
    "print(numbers.count(1))\n",
    "\n",
    "# index\n",
    "\n",
    "print(numbers.index(3))\n",
    "\n",
    "# len\n",
    "\n",
    "print(len(numbers))\n",
    "\n",
    "# min\n",
    "\n",
    "print(min(numbers))\n",
    "\n",
    "# max\n",
    "\n",
    "print(max(numbers))\n"
   ]
  },
  {
   "cell_type": "markdown",
   "id": "dc06a3e3",
   "metadata": {},
   "source": [
    "Packing and Unpacking of Tuples"
   ]
  },
  {
   "cell_type": "code",
   "execution_count": 76,
   "id": "8b30c0e2",
   "metadata": {},
   "outputs": [
    {
     "name": "stdout",
     "output_type": "stream",
     "text": [
      "(1, 'Soumya', 3.14, True)\n",
      "1\n",
      "Soumya\n",
      "3.14\n",
      "True\n",
      "1\n",
      "['Soumya', 3.14]\n",
      "True\n"
     ]
    }
   ],
   "source": [
    "# packing of tuples\n",
    "\n",
    "packedTuple = 1, \"Soumya\", 3.14, True\n",
    "print(packedTuple)\n",
    "\n",
    "# unpacking of tuples\n",
    "\n",
    "a, b, c, d = packedTuple\n",
    "print(a)\n",
    "print(b)\n",
    "print(c)\n",
    "print(d)\n",
    "\n",
    "# unpacking of tuples with * operator\n",
    "# * operator unpacks the tuple into a list\n",
    "\n",
    "a, *b, c = packedTuple\n",
    "print(a)\n",
    "print(b)\n",
    "print(c)"
   ]
  },
  {
   "cell_type": "markdown",
   "id": "a3512b67",
   "metadata": {},
   "source": [
    "Nested Tuple"
   ]
  },
  {
   "cell_type": "code",
   "execution_count": 77,
   "id": "569ae64c",
   "metadata": {},
   "outputs": [
    {
     "name": "stdout",
     "output_type": "stream",
     "text": [
      "[(1, 2, 3), (4, 5, 6), (7, 8, 9)]\n",
      "2\n",
      "6\n",
      "7\n"
     ]
    }
   ],
   "source": [
    "nestedTuple = [(1, 2, 3), (4, 5, 6), (7, 8, 9)]\n",
    "print(nestedTuple)\n",
    "\n",
    "# accessing elements in a nested tuple\n",
    "\n",
    "print(nestedTuple[0][1])\n",
    "print(nestedTuple[1][2])\n",
    "print(nestedTuple[2][0])"
   ]
  },
  {
   "cell_type": "code",
   "execution_count": 78,
   "id": "d7bc48ba",
   "metadata": {},
   "outputs": [
    {
     "name": "stdout",
     "output_type": "stream",
     "text": [
      "1 2 3 \n",
      "4 5 6 \n",
      "7 8 9 \n"
     ]
    }
   ],
   "source": [
    "# Iterating over nested tuple\n",
    "\n",
    "for subtuple in nestedTuple:\n",
    "    for item in subtuple:\n",
    "        print(item, end=\" \")\n",
    "    print()"
   ]
  }
 ],
 "metadata": {
  "kernelspec": {
   "display_name": "base",
   "language": "python",
   "name": "python3"
  },
  "language_info": {
   "codemirror_mode": {
    "name": "ipython",
    "version": 3
   },
   "file_extension": ".py",
   "mimetype": "text/x-python",
   "name": "python",
   "nbconvert_exporter": "python",
   "pygments_lexer": "ipython3",
   "version": "3.12.7"
  }
 },
 "nbformat": 4,
 "nbformat_minor": 5
}

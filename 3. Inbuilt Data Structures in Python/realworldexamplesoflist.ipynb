{
 "cells": [
  {
   "cell_type": "markdown",
   "id": "c8141f90",
   "metadata": {},
   "source": [
    "# Managing a To Do List"
   ]
  },
  {
   "cell_type": "markdown",
   "id": "a51f5092",
   "metadata": {},
   "source": [
    "## Create a To Do List to keep track of your tasks"
   ]
  },
  {
   "cell_type": "code",
   "execution_count": 14,
   "id": "583f2a58",
   "metadata": {},
   "outputs": [
    {
     "name": "stdout",
     "output_type": "stream",
     "text": [
      "Don't forget to study Python!\n",
      "Remaining tasks:\n",
      "- Buy Groceries\n",
      "- Study Python\n",
      "- Go for a walk\n",
      "- Call a friend\n"
     ]
    }
   ],
   "source": [
    "# To Do List\n",
    "\n",
    "toDoList = [\"Buy Groceries\", \"Workout\", \"Study Python\"]\n",
    "\n",
    "# adding tasks to a ToDo List\n",
    "\n",
    "toDoList.append(\"Go for a walk\")\n",
    "toDoList.append(\"Call a friend\")\n",
    "\n",
    "# removing completed tasks from a ToDo List\n",
    "\n",
    "toDoList.remove(\"Workout\")\n",
    "\n",
    "# checking if a task is in a ToDo List\n",
    "\n",
    "if \"Study Python\" in toDoList:\n",
    "    print(\"Don't forget to study Python!\")\n",
    "\n",
    "# printing the remaining tasks\n",
    "\n",
    "print(\"Remaining tasks:\")\n",
    "for task in toDoList:\n",
    "    print(f\"- {task}\")"
   ]
  },
  {
   "cell_type": "markdown",
   "id": "bf7ff66d",
   "metadata": {},
   "source": [
    "# Organizing Student Grades"
   ]
  },
  {
   "cell_type": "markdown",
   "id": "6e6d5f71",
   "metadata": {},
   "source": [
    "## Create a list to store and calculate average grades for students"
   ]
  },
  {
   "cell_type": "code",
   "execution_count": 15,
   "id": "b11bdb3b",
   "metadata": {},
   "outputs": [
    {
     "name": "stdout",
     "output_type": "stream",
     "text": [
      "Average grade: 82.5\n",
      "Highest grade: 90\n",
      "Lowest grade: 76\n"
     ]
    }
   ],
   "source": [
    "# Organizing Student Grades\n",
    "\n",
    "grades = [76,78,80,83,88]\n",
    "\n",
    "# adding a new grade\n",
    "grades.append(90)\n",
    "\n",
    "# calculating average grade\n",
    "average_grade = sum(grades) / len(grades)\n",
    "\n",
    "# printing the average grade\n",
    "print(f\"Average grade: {average_grade}\")\n",
    "\n",
    "# finding highest and lowest grade\n",
    "highest_grade = max(grades)\n",
    "lowest_grade = min(grades)\n",
    "\n",
    "# printing the highest and lowest grade\n",
    "print(f\"Highest grade: {highest_grade}\")\n",
    "print(f\"Lowest grade: {lowest_grade}\")"
   ]
  },
  {
   "cell_type": "markdown",
   "id": "10db3533",
   "metadata": {},
   "source": [
    "# Managing an Inventory"
   ]
  },
  {
   "cell_type": "markdown",
   "id": "14596d1b",
   "metadata": {},
   "source": [
    "## Use a list to manage a inventory in a store"
   ]
  },
  {
   "cell_type": "code",
   "execution_count": 16,
   "id": "d68f4e54",
   "metadata": {},
   "outputs": [
    {
     "name": "stdout",
     "output_type": "stream",
     "text": [
      "kiwis are in stock\n",
      "Remaining items:\n",
      "- apples\n",
      "- bananas\n",
      "- kiwis\n",
      "- grapes\n"
     ]
    }
   ],
   "source": [
    "# Managing an inventory\n",
    "\n",
    "items = [\"apples\", \"bananas\", \"oranges\", \"kiwis\"]\n",
    "\n",
    "# adding an item to the inventory\n",
    "items.append(\"grapes\")\n",
    "\n",
    "# removing out of stock items from the inventory\n",
    "items.remove(\"oranges\")\n",
    "\n",
    "# checking if an item is in the inventory\n",
    "item = \"kiwis\"\n",
    "if item in items:\n",
    "    print(f\"{item} are in stock\")\n",
    "else:\n",
    "    print(f\"{item} are out of stock\")\n",
    "\n",
    "# printing the remaining items in the inventory\n",
    "print(\"Remaining items:\")\n",
    "for item in items:\n",
    "    print(f\"- {item}\")"
   ]
  },
  {
   "cell_type": "markdown",
   "id": "ded4d1c6",
   "metadata": {},
   "source": [
    "# Collecting User Feedback"
   ]
  },
  {
   "cell_type": "markdown",
   "id": "a963c33d",
   "metadata": {},
   "source": [
    "## Use a list to collect and analyze user feedback"
   ]
  },
  {
   "cell_type": "code",
   "execution_count": 17,
   "id": "45ff0298",
   "metadata": {},
   "outputs": [
    {
     "name": "stdout",
     "output_type": "stream",
     "text": [
      "Positive Feedback Count: 2\n",
      "User Feedback:\n",
      "- Great Service\n",
      "- Very Satisfied\n",
      "- Could be better\n",
      "- Excellent Experience\n",
      "- Not happy with the service\n"
     ]
    }
   ],
   "source": [
    "# collecting user feedback\n",
    "\n",
    "feedback = [\"Great Service\", \"Very Satisfied\", \"Could be better\", \"Excellent Experience\"]\n",
    "\n",
    "# adding new feedback\n",
    "feedback.append(\"Not happy with the service\")\n",
    "\n",
    "# counting the positive feedback\n",
    "positive_feedback_count = sum(1 for comment in feedback if \"great\" in comment.lower() or \"excellent\" in comment.lower())\n",
    "print(f\"Positive Feedback Count: {positive_feedback_count}\")\n",
    "\n",
    "# printing the feedback\n",
    "print(\"User Feedback:\")\n",
    "for comment in feedback:\n",
    "    print(f\"- {comment}\")"
   ]
  }
 ],
 "metadata": {
  "kernelspec": {
   "display_name": "base",
   "language": "python",
   "name": "python3"
  },
  "language_info": {
   "codemirror_mode": {
    "name": "ipython",
    "version": 3
   },
   "file_extension": ".py",
   "mimetype": "text/x-python",
   "name": "python",
   "nbconvert_exporter": "python",
   "pygments_lexer": "ipython3",
   "version": "3.12.7"
  }
 },
 "nbformat": 4,
 "nbformat_minor": 5
}

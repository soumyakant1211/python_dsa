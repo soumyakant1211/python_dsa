{
 "cells": [
  {
   "cell_type": "markdown",
   "id": "983db5ff",
   "metadata": {},
   "source": [
    "Lists are the ordered, mutable collections of items of different data types. They are defined by the list() function or by enclosing a sequence of items in square brackets. The items in a list are separated by commas. The list is an ordered collection, meaning that the items have a definite order. The list is mutable, meaning that the items can be modified."
   ]
  },
  {
   "cell_type": "markdown",
   "id": "53343abd",
   "metadata": {},
   "source": [
    "Ways of Creating Lists"
   ]
  },
  {
   "cell_type": "code",
   "execution_count": 228,
   "id": "840fa9ce",
   "metadata": {},
   "outputs": [
    {
     "name": "stdout",
     "output_type": "stream",
     "text": [
      "<class 'list'>\n"
     ]
    }
   ],
   "source": [
    "lst = []\n",
    "print(type(lst))"
   ]
  },
  {
   "cell_type": "code",
   "execution_count": 229,
   "id": "ebebfaac",
   "metadata": {},
   "outputs": [
    {
     "name": "stdout",
     "output_type": "stream",
     "text": [
      "<class 'list'>\n"
     ]
    }
   ],
   "source": [
    "lst1 = list()\n",
    "print(type(lst1))"
   ]
  },
  {
   "cell_type": "code",
   "execution_count": 230,
   "id": "607e7cc9",
   "metadata": {},
   "outputs": [
    {
     "name": "stdout",
     "output_type": "stream",
     "text": [
      "['Soumya', 'Krish', 'Jacob', 'Ankit']\n"
     ]
    }
   ],
   "source": [
    "names = [\"Soumya\", \"Krish\", \"Jacob\", \"Ankit\"]\n",
    "print(names)"
   ]
  },
  {
   "cell_type": "code",
   "execution_count": 231,
   "id": "20721707",
   "metadata": {},
   "outputs": [
    {
     "name": "stdout",
     "output_type": "stream",
     "text": [
      "['Soumya', 1, 3.14, True]\n"
     ]
    }
   ],
   "source": [
    "mixed_lst = [\"Soumya\", 1, 3.14, True]\n",
    "print(mixed_lst)"
   ]
  },
  {
   "cell_type": "markdown",
   "id": "88acf729",
   "metadata": {},
   "source": [
    "Accessing List Items"
   ]
  },
  {
   "cell_type": "code",
   "execution_count": 232,
   "id": "c2ee13a6",
   "metadata": {},
   "outputs": [
    {
     "name": "stdout",
     "output_type": "stream",
     "text": [
      "apple\n",
      "kiwi\n",
      "mango\n"
     ]
    }
   ],
   "source": [
    "fruits = [\"apple\", \"banana\", \"cherry\", \"kiwi\", \"mango\"]\n",
    "print(fruits[0])\n",
    "print(fruits[3])\n",
    "print(fruits[-1]) # same as fruits[len(fruits) - 1]"
   ]
  },
  {
   "cell_type": "code",
   "execution_count": 233,
   "id": "32390524",
   "metadata": {},
   "outputs": [
    {
     "name": "stdout",
     "output_type": "stream",
     "text": [
      "['banana', 'cherry', 'kiwi', 'mango']\n",
      "['apple', 'banana', 'cherry']\n",
      "['banana', 'cherry']\n",
      "['cherry', 'kiwi', 'mango']\n",
      "['cherry', 'kiwi']\n",
      "[]\n"
     ]
    }
   ],
   "source": [
    "print(fruits[1:])\n",
    "print(fruits[:3])\n",
    "print(fruits[1:3])\n",
    "print(fruits[-3:])\n",
    "print(fruits[-3:-1])\n",
    "print(fruits[-1:-2])"
   ]
  },
  {
   "cell_type": "markdown",
   "id": "3f9513f6",
   "metadata": {},
   "source": [
    "Modifying List Elements"
   ]
  },
  {
   "cell_type": "code",
   "execution_count": 234,
   "id": "ac6a6499",
   "metadata": {},
   "outputs": [
    {
     "name": "stdout",
     "output_type": "stream",
     "text": [
      "['apple', 'blackcurrant', 'cherry', 'kiwi', 'mango']\n",
      "['apple', 'b', 'l', 'a', 'c', 'k', 'c', 'u', 'r', 'r', 'e', 'n', 't']\n"
     ]
    }
   ],
   "source": [
    "fruits = [\"apple\", \"banana\", \"cherry\", \"kiwi\", \"mango\"]\n",
    "fruits[1] = \"blackcurrant\"\n",
    "print(fruits)\n",
    "\n",
    "fruits[1:] = \"blackcurrent\"\n",
    "print(fruits)\n"
   ]
  },
  {
   "cell_type": "markdown",
   "id": "0a87922b",
   "metadata": {},
   "source": [
    "List Methods"
   ]
  },
  {
   "cell_type": "code",
   "execution_count": 235,
   "id": "b884d878",
   "metadata": {},
   "outputs": [
    {
     "name": "stdout",
     "output_type": "stream",
     "text": [
      "['apple', 'banana', 'cherry', 'grapes', 'kiwi', 'mango', 'pomogranate']\n",
      "['apple', 'banana', 'cherry', 'grapes', 'kiwi', 'mango', 'pomogranate', 'orange']\n",
      "['apple', 'jackfruit', 'banana', 'cherry', 'grapes', 'kiwi', 'mango', 'pomogranate', 'orange']\n",
      "['apple', 'jackfruit', 'banana', 'cherry', 'grapes', 'kiwi', 'mango', 'pomogranate', 'orange', 'kiwi', 'blackcurrant']\n",
      "2\n",
      "0\n",
      "['jackfruit', 'banana', 'jackfruit', 'cherry', 'grapes', 'kiwi', 'mango', 'pomogranate', 'orange', 'kiwi', 'blackcurrant']\n",
      "['blackcurrant', 'kiwi', 'orange', 'pomogranate', 'mango', 'kiwi', 'grapes', 'cherry', 'jackfruit', 'banana', 'jackfruit']\n",
      "jackfruit\n",
      "kiwi\n",
      "[]\n"
     ]
    }
   ],
   "source": [
    "# Initial list of fruits\n",
    "fruits = [\"grapes\", \"pomogranate\", \"apple\", \"banana\", \"cherry\", \"kiwi\", \"mango\"]\n",
    "\n",
    "# sort() sorts the list in place and returns None, so printing it directly gives None\n",
    "fruits.sort()  # Sorts list alphabetically\n",
    "print(fruits)  # ['apple', 'banana', 'cherry', 'grapes', 'kiwi', 'mango', 'pomogranate']\n",
    "\n",
    "# append() adds an item to the end of the list\n",
    "fruits.append(\"orange\")\n",
    "print(fruits)  # ['apple', ..., 'pomogranate', 'orange']\n",
    "\n",
    "# insert(index, item) inserts an item at a specified position\n",
    "fruits.insert(1, \"jackfruit\")\n",
    "print(fruits)  # 'jackfruit' is inserted at index 1\n",
    "\n",
    "# extend() adds multiple items from another iterable (list) to the end\n",
    "fruits.extend([\"kiwi\", \"blackcurrant\"])\n",
    "print(fruits)  # Now contains two 'kiwi' and one 'blackcurrant'\n",
    "\n",
    "# insert another 'jackfruit' at index 3\n",
    "fruits.insert(3, \"jackfruit\")\n",
    "\n",
    "# count() returns the number of times a value occurs in the list\n",
    "print(fruits.count(\"jackfruit\"))  # 2\n",
    "\n",
    "# index() returns the first index of a specified value\n",
    "print(fruits.index(\"apple\"))  # Gets index of 'apple'\n",
    "\n",
    "# remove() removes the first occurrence of a specified value\n",
    "fruits.remove(\"apple\")\n",
    "print(fruits)  # 'apple' is removed from list\n",
    "\n",
    "# reverse() reverses the list in place\n",
    "fruits.reverse()\n",
    "print(fruits)  # List is now in reverse order\n",
    "\n",
    "# pop() removes and returns the last item if no index is given\n",
    "print(fruits.pop())  # Removes and returns last item\n",
    "\n",
    "# pop(index) removes and returns the item at specified index\n",
    "print(fruits.pop(1))  # Removes and returns second item\n",
    "\n",
    "# clear() removes all items from the list\n",
    "fruits.clear()\n",
    "print(fruits)  # Empty list []"
   ]
  },
  {
   "cell_type": "code",
   "execution_count": 236,
   "id": "aa511c85",
   "metadata": {},
   "outputs": [
    {
     "name": "stdout",
     "output_type": "stream",
     "text": [
      "['apple', 'banana', 'cherry']\n",
      "3\n",
      "['banana', 'cherry']\n"
     ]
    }
   ],
   "source": [
    "# Re-create the list for further demonstration\n",
    "fruits = [\"apple\", \"banana\", \"cherry\"]\n",
    "\n",
    "# copy() returns a shallow copy of the list\n",
    "copied_fruits = fruits.copy()\n",
    "print(copied_fruits)\n",
    "\n",
    "# len() returns the number of items in the list\n",
    "print(len(fruits))  # 3\n",
    "\n",
    "# list slicing to get part of a list\n",
    "print(fruits[1:])  # ['banana', 'cherry']"
   ]
  },
  {
   "cell_type": "markdown",
   "id": "ec04b2cd",
   "metadata": {},
   "source": [
    "Slicing of Lists"
   ]
  },
  {
   "cell_type": "code",
   "execution_count": 237,
   "id": "e1384ae2",
   "metadata": {},
   "outputs": [
    {
     "name": "stdout",
     "output_type": "stream",
     "text": [
      "[3, 4, 5, 6, 7, 8]\n",
      "[1, 2, 3, 4, 5]\n",
      "[6, 7, 8, 9, 10]\n",
      "[1, 3, 5, 7, 9]\n",
      "[10, 9, 8, 7, 6, 5, 4, 3, 2, 1]\n",
      "[10, 8, 6, 4, 2]\n"
     ]
    }
   ],
   "source": [
    "numbers = [1, 2, 3, 4, 5, 6, 7, 8, 9, 10]\n",
    "print(numbers[2:8])\n",
    "print(numbers[:5])\n",
    "print(numbers[5:])\n",
    "print(numbers[::2])\n",
    "print(numbers[::-1])\n",
    "print(numbers[::-2])"
   ]
  },
  {
   "cell_type": "markdown",
   "id": "896e81cc",
   "metadata": {},
   "source": [
    "Iterating over lists"
   ]
  },
  {
   "cell_type": "code",
   "execution_count": 238,
   "id": "fd57cd22",
   "metadata": {},
   "outputs": [
    {
     "name": "stdout",
     "output_type": "stream",
     "text": [
      "1\n",
      "2\n",
      "3\n",
      "4\n",
      "5\n",
      "6\n",
      "7\n",
      "8\n",
      "9\n",
      "10\n"
     ]
    }
   ],
   "source": [
    "for number in numbers:\n",
    "    print(number)"
   ]
  },
  {
   "cell_type": "markdown",
   "id": "cf6b0044",
   "metadata": {},
   "source": [
    "Iterating with Index"
   ]
  },
  {
   "cell_type": "code",
   "execution_count": 239,
   "id": "1df63a53",
   "metadata": {},
   "outputs": [
    {
     "name": "stdout",
     "output_type": "stream",
     "text": [
      "0 1\n",
      "1 2\n",
      "2 3\n",
      "3 4\n",
      "4 5\n",
      "5 6\n",
      "6 7\n",
      "7 8\n",
      "8 9\n",
      "9 10\n"
     ]
    }
   ],
   "source": [
    "for index, number in enumerate(numbers):\n",
    "    print(index, number)"
   ]
  },
  {
   "cell_type": "code",
   "execution_count": 240,
   "id": "d6f0ae0c",
   "metadata": {},
   "outputs": [
    {
     "name": "stdout",
     "output_type": "stream",
     "text": [
      "[0, 1, 4, 9, 16, 25, 36, 49, 64, 81]\n"
     ]
    }
   ],
   "source": [
    "lst = []\n",
    "for i in range(10):\n",
    "    lst.append(i ** 2)\n",
    "print(lst)"
   ]
  },
  {
   "cell_type": "markdown",
   "id": "9f950d3a",
   "metadata": {},
   "source": [
    "List Comprehension\n",
    "\n",
    "List Comprehension is a compact way to create lists in Python."
   ]
  },
  {
   "cell_type": "code",
   "execution_count": 241,
   "id": "5a943946",
   "metadata": {},
   "outputs": [
    {
     "name": "stdout",
     "output_type": "stream",
     "text": [
      "[0, 1, 4, 9, 16, 25, 36, 49, 64, 81]\n"
     ]
    }
   ],
   "source": [
    "squares = [i ** 2 for i in range(10)]\n",
    "print(squares)"
   ]
  },
  {
   "cell_type": "code",
   "execution_count": 242,
   "id": "3590a1a4",
   "metadata": {},
   "outputs": [
    {
     "name": "stdout",
     "output_type": "stream",
     "text": [
      "[0, 2, 4, 6, 8]\n"
     ]
    }
   ],
   "source": [
    "evens = [i for i in range(10) if i % 2 == 0]\n",
    "print(evens)"
   ]
  },
  {
   "cell_type": "markdown",
   "id": "513689e0",
   "metadata": {},
   "source": [
    "Nested List Comprehension"
   ]
  },
  {
   "cell_type": "code",
   "execution_count": 243,
   "id": "5fa45575",
   "metadata": {},
   "outputs": [
    {
     "name": "stdout",
     "output_type": "stream",
     "text": [
      "[(1, 4), (1, 5), (1, 6), (2, 4), (2, 5), (2, 6), (3, 4), (3, 5), (3, 6)]\n"
     ]
    }
   ],
   "source": [
    "lst1 = [1, 2, 3]\n",
    "lst2 = [4, 5, 6]\n",
    "pair = [(i, j) for i in lst1 for j in lst2]\n",
    "print(pair)"
   ]
  },
  {
   "cell_type": "markdown",
   "id": "33887c9d",
   "metadata": {},
   "source": [
    "List Comprehension with Function Calls"
   ]
  },
  {
   "cell_type": "code",
   "execution_count": 244,
   "id": "bfc205e5",
   "metadata": {},
   "outputs": [
    {
     "name": "stdout",
     "output_type": "stream",
     "text": [
      "[5, 6, 6, 4, 5]\n"
     ]
    }
   ],
   "source": [
    "words = [\"apple\", \"banana\", \"cherry\", \"kiwi\", \"mango\"]\n",
    "lengths = [len(word) for word in words]\n",
    "print(lengths)"
   ]
  },
  {
   "cell_type": "markdown",
   "id": "05c0af77",
   "metadata": {},
   "source": [
    "Nested Lists "
   ]
  },
  {
   "cell_type": "code",
   "execution_count": 245,
   "id": "2e309b51",
   "metadata": {},
   "outputs": [
    {
     "name": "stdout",
     "output_type": "stream",
     "text": [
      "[1, 2, 3, [4, 5, 6]]\n"
     ]
    }
   ],
   "source": [
    "lst1 = [1, 2, 3, [4, 5, 6]]\n",
    "print(lst1)\n"
   ]
  }
 ],
 "metadata": {
  "kernelspec": {
   "display_name": "base",
   "language": "python",
   "name": "python3"
  },
  "language_info": {
   "codemirror_mode": {
    "name": "ipython",
    "version": 3
   },
   "file_extension": ".py",
   "mimetype": "text/x-python",
   "name": "python",
   "nbconvert_exporter": "python",
   "pygments_lexer": "ipython3",
   "version": "3.12.7"
  }
 },
 "nbformat": 4,
 "nbformat_minor": 5
}

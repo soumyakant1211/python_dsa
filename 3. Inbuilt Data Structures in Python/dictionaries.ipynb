{
 "cells": [
  {
   "cell_type": "markdown",
   "id": "bc4a8195",
   "metadata": {},
   "source": [
    "Dictionaries are the unorder collection of items that store data in key-value pairs. Keys must be unique and immutable, while the values can be of any type."
   ]
  },
  {
   "cell_type": "markdown",
   "id": "024b97f9",
   "metadata": {},
   "source": [
    "We use curly braces to create a dictionary or by using dict()"
   ]
  },
  {
   "cell_type": "code",
   "execution_count": 255,
   "id": "9088432c",
   "metadata": {},
   "outputs": [],
   "source": [
    "emptyDict = {}\n",
    "emptyList = []"
   ]
  },
  {
   "cell_type": "code",
   "execution_count": 256,
   "id": "a17406c0",
   "metadata": {},
   "outputs": [
    {
     "name": "stdout",
     "output_type": "stream",
     "text": [
      "<class 'dict'>\n"
     ]
    }
   ],
   "source": [
    "emptyDict = dict()\n",
    "print(type(emptyDict))"
   ]
  },
  {
   "cell_type": "code",
   "execution_count": 257,
   "id": "dab85663",
   "metadata": {},
   "outputs": [
    {
     "name": "stdout",
     "output_type": "stream",
     "text": [
      "{'name': 'Soumyakant Tripathy', 'age': 25, 'grade': 'A'}\n",
      "<class 'dict'>\n"
     ]
    }
   ],
   "source": [
    "student = {\"name\":\"Soumyakant Tripathy\",\"age\":25,\"grade\":'A'}\n",
    "print(student)\n",
    "print(type(student))"
   ]
  },
  {
   "cell_type": "markdown",
   "id": "f1498a13",
   "metadata": {},
   "source": [
    "If we are using the same key with multiple values within a dictionary , then the last value will be stored in the dictionary. This is because dictionaries in Python are implemented as hash."
   ]
  },
  {
   "cell_type": "code",
   "execution_count": 258,
   "id": "cbb7b9e2",
   "metadata": {},
   "outputs": [
    {
     "name": "stdout",
     "output_type": "stream",
     "text": [
      "{'name': 'A', 'age': 25}\n"
     ]
    }
   ],
   "source": [
    "student = {\"name\":\"Soumyakant Tripathy\",\"age\":25,\"name\":'A'}\n",
    "print(student)"
   ]
  },
  {
   "cell_type": "markdown",
   "id": "2d506ceb",
   "metadata": {},
   "source": [
    "Accessing the Elements of a Dictionary using Keys"
   ]
  },
  {
   "cell_type": "code",
   "execution_count": 259,
   "id": "6fc92a60",
   "metadata": {},
   "outputs": [
    {
     "name": "stdout",
     "output_type": "stream",
     "text": [
      "Soumyakant Tripathy\n",
      "25\n",
      "A\n"
     ]
    }
   ],
   "source": [
    "student = {\"name\":\"Soumyakant Tripathy\",\"age\":25,\"grade\":'A'}\n",
    "print(student[\"name\"])\n",
    "print(student[\"age\"])\n",
    "print(student[\"grade\"])"
   ]
  },
  {
   "cell_type": "markdown",
   "id": "d597da20",
   "metadata": {},
   "source": [
    "Accessing the Elements of a Dictionary using get() method"
   ]
  },
  {
   "cell_type": "code",
   "execution_count": 260,
   "id": "c86ecc16",
   "metadata": {},
   "outputs": [
    {
     "name": "stdout",
     "output_type": "stream",
     "text": [
      "Soumyakant Tripathy\n",
      "25\n",
      "None\n",
      "Not Found\n"
     ]
    }
   ],
   "source": [
    "student = {\"name\":\"Soumyakant Tripathy\",\"age\":25,\"grade\":'A'}\n",
    "print(student.get(\"name\"))\n",
    "print(student.get(\"age\"))\n",
    "print(student.get(\"lastName\")) ## returns None because lastName is not present in the dictionary\n",
    "print(student.get(\"lastName\",\"Not Found\")) ## returns Not Found because lastName is not present in the dictionary"
   ]
  },
  {
   "cell_type": "markdown",
   "id": "96104106",
   "metadata": {},
   "source": [
    "Dictionaries are mutable, so wwe can add, update or delete elements from the dictionaries but the keys has to be unique."
   ]
  },
  {
   "cell_type": "code",
   "execution_count": 261,
   "id": "6573cba4",
   "metadata": {},
   "outputs": [
    {
     "name": "stdout",
     "output_type": "stream",
     "text": [
      "{'name': 'Soumyakant', 'age': 24, 'grade': 'A'}\n",
      "{'name': 'Soumyakant', 'age': 24, 'grade': 'A', 'lastName': 'Tripathy'}\n",
      "{'age': 24, 'grade': 'A', 'lastName': 'Tripathy'}\n"
     ]
    }
   ],
   "source": [
    "student = {\"name\":\"Soumyakant\",\"age\":25,\"grade\":'A'}\n",
    "\n",
    "## Updating the dictionary\n",
    "student[\"age\"] = 24\n",
    "print(student)\n",
    "\n",
    "## Adding new key-value pair\n",
    "student[\"lastName\"] = \"Tripathy\"\n",
    "print(student)\n",
    "\n",
    "## Deleting a key-value pair\n",
    "del student[\"name\"]\n",
    "print(student)"
   ]
  },
  {
   "cell_type": "markdown",
   "id": "86261db7",
   "metadata": {},
   "source": [
    "Common Dictionary Methods"
   ]
  },
  {
   "cell_type": "code",
   "execution_count": 262,
   "id": "660fe2d4",
   "metadata": {},
   "outputs": [
    {
     "name": "stdout",
     "output_type": "stream",
     "text": [
      "dict_keys(['name', 'age', 'grade'])\n",
      "dict_values(['Soumyakant Tripathy', 25, 'A'])\n",
      "dict_items([('name', 'Soumyakant Tripathy'), ('age', 25), ('grade', 'A')])\n",
      "3\n"
     ]
    }
   ],
   "source": [
    "## Getting Keys of a Dictionary\n",
    "student = {\"name\":\"Soumyakant Tripathy\",\"age\":25,\"grade\":'A'}\n",
    "print(student.keys())\n",
    "\n",
    "## Getting Values of a Dictionary\n",
    "print(student.values())\n",
    "\n",
    "## Getting Items of a Dictionary\n",
    "print(student.items())\n",
    "\n",
    "## Getting Length of a Dictionary\n",
    "print(len(student))"
   ]
  },
  {
   "cell_type": "markdown",
   "id": "3014bdc8",
   "metadata": {},
   "source": [
    "Shallow Copy"
   ]
  },
  {
   "cell_type": "code",
   "execution_count": 263,
   "id": "bd129f5f",
   "metadata": {},
   "outputs": [
    {
     "name": "stdout",
     "output_type": "stream",
     "text": [
      "{'name': 'Soumyakant Tripathy', 'age': 25, 'grade': 'A'}\n",
      "{'name': 'Soumyakant Tripathy', 'age': 25, 'grade': 'A'}\n"
     ]
    }
   ],
   "source": [
    "student_copy = student\n",
    "print(student)\n",
    "print(student_copy)"
   ]
  },
  {
   "cell_type": "code",
   "execution_count": 264,
   "id": "eb41d5bd",
   "metadata": {},
   "outputs": [
    {
     "name": "stdout",
     "output_type": "stream",
     "text": [
      "{'name': 'Soumyakanta Tripathy', 'age': 25, 'grade': 'A'}\n",
      "{'name': 'Soumyakanta Tripathy', 'age': 25, 'grade': 'A'}\n"
     ]
    }
   ],
   "source": [
    "student[\"name\"] = \"Soumyakanta Tripathy\"\n",
    "print(student)\n",
    "print(student_copy)"
   ]
  },
  {
   "cell_type": "code",
   "execution_count": 265,
   "id": "56f13f21",
   "metadata": {},
   "outputs": [
    {
     "name": "stdout",
     "output_type": "stream",
     "text": [
      "{'name': 'Soumya kanta Tripathy', 'age': 25, 'grade': 'A'}\n",
      "{'name': 'Soumyakanta Tripathy', 'age': 25, 'grade': 'A'}\n"
     ]
    }
   ],
   "source": [
    "student_copy1 = student.copy()\n",
    "student[\"name\"] = \"Soumya kanta Tripathy\"\n",
    "print(student)\n",
    "print(student_copy1)"
   ]
  },
  {
   "cell_type": "markdown",
   "id": "9732007a",
   "metadata": {},
   "source": [
    "You can use loops to iterate over dictionaries using its keys, values or items"
   ]
  },
  {
   "cell_type": "code",
   "execution_count": 266,
   "id": "18166891",
   "metadata": {},
   "outputs": [
    {
     "name": "stdout",
     "output_type": "stream",
     "text": [
      "name\n",
      "age\n",
      "grade\n"
     ]
    }
   ],
   "source": [
    "## Iterating over a key in Dictionary\n",
    "\n",
    "student = {\"name\":\"Soumyakant Tripathy\",\"age\":25,\"grade\":'A'}\n",
    "for key in student.keys():\n",
    "    print(key)"
   ]
  },
  {
   "cell_type": "code",
   "execution_count": 267,
   "id": "4553e4e4",
   "metadata": {},
   "outputs": [
    {
     "name": "stdout",
     "output_type": "stream",
     "text": [
      "Soumyakant Tripathy\n",
      "25\n",
      "A\n"
     ]
    }
   ],
   "source": [
    "## Iterating over a value in Dictionary\n",
    "\n",
    "student = {\"name\":\"Soumyakant Tripathy\",\"age\":25,\"grade\":'A'}\n",
    "for value in student.values():\n",
    "    print(value)\n"
   ]
  },
  {
   "cell_type": "code",
   "execution_count": 268,
   "id": "83c5287c",
   "metadata": {},
   "outputs": [
    {
     "name": "stdout",
     "output_type": "stream",
     "text": [
      "name : Soumyakant Tripathy\n",
      "age : 25\n",
      "grade : A\n"
     ]
    }
   ],
   "source": [
    "## Iterating over items in a Dictionary\n",
    "\n",
    "student = {\"name\":\"Soumyakant Tripathy\",\"age\":25,\"grade\":'A'}\n",
    "for key, value in student.items():\n",
    "    print(f\"{key} : {value}\")"
   ]
  },
  {
   "cell_type": "markdown",
   "id": "0348bbdc",
   "metadata": {},
   "source": [
    "Dictionary within another dictionary is known as Nested Dictionary."
   ]
  },
  {
   "cell_type": "code",
   "execution_count": 269,
   "id": "48b3687e",
   "metadata": {},
   "outputs": [
    {
     "name": "stdout",
     "output_type": "stream",
     "text": [
      "{'student1': {'name': 'Soumyakant', 'age': 25, 'grade': 'A'}, 'student2': {'name': 'Krish', 'age': 32, 'grade': 'A+'}, 'student3': {'name': 'Subhranshu', 'age': 24, 'grade': 'B'}}\n"
     ]
    }
   ],
   "source": [
    "students = {\n",
    "    \"student1\":{\"name\":\"Soumyakant\",\"age\":25,\"grade\":'A'},\n",
    "    \"student2\":{\"name\":\"Krish\",\"age\":32,\"grade\":'A+'},\n",
    "    \"student3\":{\"name\":\"Subhranshu\",\"age\":24,\"grade\":'B'}\n",
    "}\n",
    "# print the dictionary\n",
    "print(students)"
   ]
  },
  {
   "cell_type": "markdown",
   "id": "88a1b27d",
   "metadata": {},
   "source": [
    "Accessing Elements of a Nested Dictionary"
   ]
  },
  {
   "cell_type": "code",
   "execution_count": 270,
   "id": "de7735c8",
   "metadata": {},
   "outputs": [
    {
     "name": "stdout",
     "output_type": "stream",
     "text": [
      "Soumyakant\n",
      "32\n",
      "B\n"
     ]
    }
   ],
   "source": [
    "print(students[\"student1\"][\"name\"])\n",
    "print(students[\"student2\"][\"age\"])\n",
    "print(students[\"student3\"][\"grade\"])"
   ]
  },
  {
   "cell_type": "markdown",
   "id": "a7efd056",
   "metadata": {},
   "source": [
    "Iterating over a Nested Dictionary"
   ]
  },
  {
   "cell_type": "code",
   "execution_count": 271,
   "id": "5e979844",
   "metadata": {},
   "outputs": [
    {
     "name": "stdout",
     "output_type": "stream",
     "text": [
      "student1: {'name': 'Soumyakant', 'age': 25, 'grade': 'A'}\n",
      "\tname : Soumyakant\n",
      "\tage : 25\n",
      "\tgrade : A\n",
      "student2: {'name': 'Krish', 'age': 32, 'grade': 'A+'}\n",
      "\tname : Krish\n",
      "\tage : 32\n",
      "\tgrade : A+\n",
      "student3: {'name': 'Subhranshu', 'age': 24, 'grade': 'B'}\n",
      "\tname : Subhranshu\n",
      "\tage : 24\n",
      "\tgrade : B\n"
     ]
    }
   ],
   "source": [
    "for studentId, studentInfo in students.items():\n",
    "    print(f\"{studentId}: {studentInfo}\")\n",
    "    for key, value in studentInfo.items():\n",
    "        print(f\"\\t{key} : {value}\")\n"
   ]
  },
  {
   "cell_type": "markdown",
   "id": "3fc78c95",
   "metadata": {},
   "source": [
    "Dictionary Comprehension"
   ]
  },
  {
   "cell_type": "code",
   "execution_count": 272,
   "id": "70228bc9",
   "metadata": {},
   "outputs": [
    {
     "name": "stdout",
     "output_type": "stream",
     "text": [
      "{0: 0, 1: 1, 2: 4, 3: 9, 4: 16, 5: 25}\n"
     ]
    }
   ],
   "source": [
    "squares = {x: x ** 2 for x in range(6)}\n",
    "print(squares)"
   ]
  },
  {
   "cell_type": "markdown",
   "id": "10db8235",
   "metadata": {},
   "source": [
    "Conditional Dictionary Comprehension"
   ]
  },
  {
   "cell_type": "code",
   "execution_count": 273,
   "id": "dfa45b52",
   "metadata": {},
   "outputs": [
    {
     "name": "stdout",
     "output_type": "stream",
     "text": [
      "{0: 0, 2: 4, 4: 16, 6: 36, 8: 64}\n"
     ]
    }
   ],
   "source": [
    "evenSquares = {x: x ** 2 for x in range(10) if x % 2 == 0}\n",
    "print(evenSquares)"
   ]
  },
  {
   "cell_type": "markdown",
   "id": "8bdee767",
   "metadata": {},
   "source": [
    "Practical Example: Counting the frequency of numbers present in a list"
   ]
  },
  {
   "cell_type": "code",
   "execution_count": 274,
   "id": "bae9cabf",
   "metadata": {},
   "outputs": [
    {
     "name": "stdout",
     "output_type": "stream",
     "text": [
      "{1: 1, 2: 2, 3: 3, 4: 4, 5: 5}\n"
     ]
    }
   ],
   "source": [
    "numbers = [1,2,2,3,3,3,4,4,4,4,5,5,5,5,5]\n",
    "frequencies = {}\n",
    "for number in numbers:\n",
    "    if number in frequencies:\n",
    "        frequencies[number] += 1\n",
    "    else:\n",
    "        frequencies[number] = 1\n",
    "print(frequencies)"
   ]
  },
  {
   "cell_type": "markdown",
   "id": "8c2e14ac",
   "metadata": {},
   "source": [
    "Merging Dictionaries: We can use ** on any number of key value pairs, it is goin to be appended and it is known as keyword arguement (any value present as key value pair)"
   ]
  },
  {
   "cell_type": "code",
   "execution_count": 275,
   "id": "f1e516eb",
   "metadata": {},
   "outputs": [
    {
     "name": "stdout",
     "output_type": "stream",
     "text": [
      "{'a': 100, 'b': 500, 'c': 600}\n"
     ]
    }
   ],
   "source": [
    "dict1 = {'a': 100, 'b': 200}\n",
    "dict2 = {'b': 500, 'c': 600}\n",
    "merged_dict = {**dict1, **dict2}\n",
    "print(merged_dict)"
   ]
  }
 ],
 "metadata": {
  "kernelspec": {
   "display_name": "base",
   "language": "python",
   "name": "python3"
  },
  "language_info": {
   "codemirror_mode": {
    "name": "ipython",
    "version": 3
   },
   "file_extension": ".py",
   "mimetype": "text/x-python",
   "name": "python",
   "nbconvert_exporter": "python",
   "pygments_lexer": "ipython3",
   "version": "3.12.7"
  }
 },
 "nbformat": 4,
 "nbformat_minor": 5
}

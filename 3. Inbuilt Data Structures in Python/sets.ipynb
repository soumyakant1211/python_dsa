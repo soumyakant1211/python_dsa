{
 "cells": [
  {
   "cell_type": "markdown",
   "id": "dca055bd",
   "metadata": {},
   "source": [
    "Sets are the in built datatypes in Python used to store collection of unique items. They are unordered meaning, that elements do not follow a specific order and they do not allow duplicate elements. They are useful for membership tests, eliminating duplicate entries and performing mathematical set operations like union, intersection, difference and symmetric difference."
   ]
  },
  {
   "cell_type": "markdown",
   "id": "494f4c2a",
   "metadata": {},
   "source": [
    "Ways of Creating a Set"
   ]
  },
  {
   "cell_type": "code",
   "execution_count": 133,
   "id": "769e7dc3",
   "metadata": {},
   "outputs": [
    {
     "name": "stdout",
     "output_type": "stream",
     "text": [
      "{1, 2, 3, 4, 5}\n",
      "<class 'set'>\n"
     ]
    }
   ],
   "source": [
    "mySet = {1,2,3,4,5}\n",
    "print(mySet)\n",
    "print(type(mySet))"
   ]
  },
  {
   "cell_type": "code",
   "execution_count": 134,
   "id": "e9d37dd3",
   "metadata": {},
   "outputs": [
    {
     "name": "stdout",
     "output_type": "stream",
     "text": [
      "<class 'set'>\n"
     ]
    }
   ],
   "source": [
    "myEmptySet = set()\n",
    "print(type(myEmptySet))"
   ]
  },
  {
   "cell_type": "code",
   "execution_count": 135,
   "id": "3c03c5c1",
   "metadata": {},
   "outputs": [
    {
     "name": "stdout",
     "output_type": "stream",
     "text": [
      "{1, 2, 3, 4, 5}\n"
     ]
    }
   ],
   "source": [
    "myNumberSet = set([1,2,3,4,5])\n",
    "print(myNumberSet)"
   ]
  },
  {
   "cell_type": "code",
   "execution_count": 136,
   "id": "ff591188",
   "metadata": {},
   "outputs": [
    {
     "name": "stdout",
     "output_type": "stream",
     "text": [
      "{1, 2, 3, 4, 5}\n"
     ]
    }
   ],
   "source": [
    "mySet1 = set([1,2,2,3,3,3,4,4,4,4,5,5,5,5,5])\n",
    "print(mySet1)"
   ]
  },
  {
   "cell_type": "markdown",
   "id": "356ae25f",
   "metadata": {},
   "source": [
    "Set Operations"
   ]
  },
  {
   "cell_type": "code",
   "execution_count": 137,
   "id": "082b7074",
   "metadata": {},
   "outputs": [
    {
     "name": "stdout",
     "output_type": "stream",
     "text": [
      "{1, 2, 3, 4, 5, 6}\n"
     ]
    }
   ],
   "source": [
    "## Adding Elements to a Set\n",
    "\n",
    "mySet1.add(6)\n",
    "print(mySet1)"
   ]
  },
  {
   "cell_type": "code",
   "execution_count": 138,
   "id": "eea8d897",
   "metadata": {},
   "outputs": [
    {
     "name": "stdout",
     "output_type": "stream",
     "text": [
      "{1, 2, 3, 4, 5, 6}\n"
     ]
    }
   ],
   "source": [
    "## If we are adding the same element again, then it will pass without any error\n",
    "\n",
    "mySet1.add(6)\n",
    "print(mySet1)"
   ]
  },
  {
   "cell_type": "code",
   "execution_count": 139,
   "id": "58b6c5a5",
   "metadata": {},
   "outputs": [
    {
     "name": "stdout",
     "output_type": "stream",
     "text": [
      "{1, 2, 3, 4, 5}\n"
     ]
    }
   ],
   "source": [
    "## Removing Elements from a Set\n",
    "\n",
    "mySet1.remove(6)\n",
    "print(mySet1)"
   ]
  },
  {
   "cell_type": "code",
   "execution_count": 140,
   "id": "02571331",
   "metadata": {},
   "outputs": [],
   "source": [
    "## When we try to remove an element that is not present in the set, then it will throw an KeyError\n",
    "\n",
    "# mySet1.remove(8)"
   ]
  },
  {
   "cell_type": "code",
   "execution_count": 141,
   "id": "b5692532",
   "metadata": {},
   "outputs": [
    {
     "name": "stdout",
     "output_type": "stream",
     "text": [
      "{1, 2, 3, 4, 5}\n"
     ]
    }
   ],
   "source": [
    "## If we are removing the same element again or different element, if we use discard method, then it will pass without any error\n",
    "\n",
    "mySet1.discard(8)\n",
    "print(mySet1)"
   ]
  },
  {
   "cell_type": "code",
   "execution_count": 142,
   "id": "9e7b02ac",
   "metadata": {},
   "outputs": [
    {
     "name": "stdout",
     "output_type": "stream",
     "text": [
      "1\n",
      "{2, 3, 4, 5}\n"
     ]
    }
   ],
   "source": [
    "## Removing the first inserted element\n",
    "\n",
    "removedElement = mySet1.pop()\n",
    "print(removedElement)\n",
    "print(mySet1)"
   ]
  },
  {
   "cell_type": "code",
   "execution_count": 143,
   "id": "d0f126e4",
   "metadata": {},
   "outputs": [
    {
     "name": "stdout",
     "output_type": "stream",
     "text": [
      "set()\n"
     ]
    }
   ],
   "source": [
    "## Clearing all elements from a Set\n",
    "\n",
    "mySet1.clear()\n",
    "print(mySet1)"
   ]
  },
  {
   "cell_type": "markdown",
   "id": "3f81b62f",
   "metadata": {},
   "source": [
    "Set Membership Test"
   ]
  },
  {
   "cell_type": "code",
   "execution_count": 144,
   "id": "7e34eac5",
   "metadata": {},
   "outputs": [
    {
     "name": "stdout",
     "output_type": "stream",
     "text": [
      "True\n",
      "False\n"
     ]
    }
   ],
   "source": [
    "mySet = {1,2,3,4,5}\n",
    "print(3 in mySet)\n",
    "print(6 in mySet)"
   ]
  },
  {
   "cell_type": "markdown",
   "id": "16113ff9",
   "metadata": {},
   "source": [
    "Mathematical Operations in Sets"
   ]
  },
  {
   "cell_type": "code",
   "execution_count": 145,
   "id": "53534472",
   "metadata": {},
   "outputs": [
    {
     "name": "stdout",
     "output_type": "stream",
     "text": [
      "{1, 2, 3, 4, 5, 6, 7, 8, 9, 10}\n",
      "{5, 6}\n",
      "{1, 2, 3, 4}\n",
      "{1, 2, 3, 4, 7, 8, 9, 10}\n",
      "{5, 6}\n",
      "{7, 8, 9, 10}\n",
      "set()\n"
     ]
    }
   ],
   "source": [
    "set1 = {1,2,3,4,5,6}\n",
    "set2 = {5,6,7,8,9,10}\n",
    "\n",
    "## Union of two sets\n",
    "print(set1.union(set2))\n",
    "\n",
    "## Intersection of two sets\n",
    "print(set1.intersection(set2))\n",
    "\n",
    "## Difference between two sets\n",
    "print(set1.difference(set2))\n",
    "\n",
    "## Symmetric Difference between two sets\n",
    "print(set1.symmetric_difference(set2))\n",
    "\n",
    "## Intersection Update of two sets\n",
    "set1.intersection_update(set2)\n",
    "print(set1)\n",
    "\n",
    "## Symmetric Difference Update between two sets\n",
    "set1.symmetric_difference_update(set2)\n",
    "print(set1)\n",
    "\n",
    "## Difference Update between two sets\n",
    "set1.difference_update(set2)\n",
    "print(set1)"
   ]
  },
  {
   "cell_type": "markdown",
   "id": "ea91fe28",
   "metadata": {},
   "source": [
    "Set Methods"
   ]
  },
  {
   "cell_type": "code",
   "execution_count": 146,
   "id": "3c49651a",
   "metadata": {},
   "outputs": [
    {
     "name": "stdout",
     "output_type": "stream",
     "text": [
      "False\n",
      "True\n",
      "False\n"
     ]
    }
   ],
   "source": [
    "set1 = {1,2,3,4,5,6}\n",
    "set2 = {1,2,3}\n",
    "\n",
    "## Subset\n",
    "print(set1.issubset(set2))\n",
    "\n",
    "## Superset\n",
    "print(set1.issuperset(set2))\n",
    "\n",
    "## Disjoint\n",
    "print(set1.isdisjoint(set2))"
   ]
  },
  {
   "cell_type": "code",
   "execution_count": 147,
   "id": "1009f36b",
   "metadata": {},
   "outputs": [
    {
     "name": "stdout",
     "output_type": "stream",
     "text": [
      "{1, 2, 3, 4, 5}\n"
     ]
    }
   ],
   "source": [
    "## Converting a List to a Set\n",
    "\n",
    "myList = [1,2,2,3,3,3,4,4,4,4,5,5,5,5,5]\n",
    "print(set(myList))"
   ]
  },
  {
   "cell_type": "code",
   "execution_count": 148,
   "id": "8b2081ae",
   "metadata": {},
   "outputs": [
    {
     "name": "stdout",
     "output_type": "stream",
     "text": [
      "{'more', 'programming', 'integrate', 'a', 'you', 'Python', 'systems', 'and', 'work', 'language', 'effectively', 'that', 'quickly', 'is', 'lets'}\n",
      "15\n",
      "15\n"
     ]
    }
   ],
   "source": [
    "## Counting unique words in a string\n",
    "\n",
    "myString = \"Python is a programming language that lets you work quickly and integrate systems more effectively\"\n",
    "words = myString.split()\n",
    "\n",
    "## Converting a List to a Set\n",
    "uniqueWords = set(words)\n",
    "\n",
    "## Counting unique words\n",
    "print(uniqueWords)\n",
    "print(len(uniqueWords))\n",
    "\n",
    "## Counting unique words\n",
    "print(len(set(myString.split())))"
   ]
  }
 ],
 "metadata": {
  "kernelspec": {
   "display_name": "base",
   "language": "python",
   "name": "python3"
  },
  "language_info": {
   "codemirror_mode": {
    "name": "ipython",
    "version": 3
   },
   "file_extension": ".py",
   "mimetype": "text/x-python",
   "name": "python",
   "nbconvert_exporter": "python",
   "pygments_lexer": "ipython3",
   "version": "3.12.7"
  }
 },
 "nbformat": 4,
 "nbformat_minor": 5
}

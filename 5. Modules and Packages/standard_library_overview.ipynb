{
 "cells": [
  {
   "cell_type": "markdown",
   "id": "b9492847",
   "metadata": {},
   "source": [
    "Python's Standard Library is a vast collection of modules and packages that come bundled with Python, providing a wide range of functionalities out of the box. Here's an overview of some of the most commonly used modules and packages:"
   ]
  },
  {
   "cell_type": "code",
   "execution_count": 16,
   "id": "5acd1e0e",
   "metadata": {},
   "outputs": [
    {
     "name": "stdout",
     "output_type": "stream",
     "text": [
      "array('i', [1, 2, 3, 4, 5])\n",
      "<class 'array.array'>\n"
     ]
    }
   ],
   "source": [
    "# Array\n",
    "\n",
    "import array\n",
    "arr = array.array('i', [1, 2, 3, 4, 5])\n",
    "print(arr)\n",
    "print(type(arr))"
   ]
  },
  {
   "cell_type": "code",
   "execution_count": 17,
   "id": "11340522",
   "metadata": {},
   "outputs": [
    {
     "name": "stdout",
     "output_type": "stream",
     "text": [
      "3.141592653589793\n",
      "4.0\n",
      "120\n",
      "8.0\n"
     ]
    }
   ],
   "source": [
    "# Math\n",
    "\n",
    "import math\n",
    "print(math.pi)\n",
    "print(math.sqrt(16))\n",
    "print(math.factorial(5))\n",
    "print(math.pow(2, 3))"
   ]
  },
  {
   "cell_type": "code",
   "execution_count": 18,
   "id": "8fe6fd10",
   "metadata": {},
   "outputs": [
    {
     "name": "stdout",
     "output_type": "stream",
     "text": [
      "1\n",
      "0.2204657507575194\n",
      "1\n"
     ]
    }
   ],
   "source": [
    "# Random\n",
    "\n",
    "import random\n",
    "print(random.randint(1, 10))\n",
    "print(random.random())\n",
    "print(random.choice([1, 2, 3, 4, 5]))"
   ]
  },
  {
   "cell_type": "code",
   "execution_count": 19,
   "id": "527cb042",
   "metadata": {},
   "outputs": [
    {
     "name": "stdout",
     "output_type": "stream",
     "text": [
      "d:\\Python with DSA by Krish Naik\\10. Modules and Packages\n",
      "['import.ipynb', 'package', 'standard_library_overview.ipynb', 'test.py']\n"
     ]
    }
   ],
   "source": [
    "# File and Directory Access\n",
    "\n",
    "import os\n",
    "print(os.getcwd())\n",
    "print(os.listdir())\n",
    "os.mkdir('new_directory')\n",
    "file_path = os.path.join(os.getcwd(), \"example.txt\")\n",
    "\n",
    "# Create the file (write mode creates the file if it doesn't exist)\n",
    "with open(file_path, \"w\") as f:\n",
    "    f.write(\"This is a new file created using the os module in Python.\")"
   ]
  },
  {
   "cell_type": "code",
   "execution_count": 20,
   "id": "c7d5e2a3",
   "metadata": {},
   "outputs": [
    {
     "data": {
      "text/plain": [
       "'copy_of_file.txt'"
      ]
     },
     "execution_count": 20,
     "metadata": {},
     "output_type": "execute_result"
    }
   ],
   "source": [
    "# High level operations on files and collections of files\n",
    "\n",
    "import shutil\n",
    "shutil.copy('example.txt', 'copy_of_file.txt')"
   ]
  },
  {
   "cell_type": "code",
   "execution_count": 21,
   "id": "7a495808",
   "metadata": {},
   "outputs": [
    {
     "name": "stdout",
     "output_type": "stream",
     "text": [
      "{\"name\": \"Soumyakant\", \"age\": 25}\n",
      "<class 'str'>\n",
      "{'name': 'Soumyakant', 'age': 25}\n",
      "<class 'dict'>\n"
     ]
    }
   ],
   "source": [
    "# Data Serialization\n",
    "\n",
    "import json\n",
    "data = {'name': 'Soumyakant', 'age': 25}\n",
    "jsonStr = json.dumps(data)\n",
    "print(jsonStr)\n",
    "print(type(jsonStr))\n",
    "parsedData = json.loads(jsonStr)\n",
    "print(parsedData)\n",
    "print(type(parsedData))"
   ]
  },
  {
   "cell_type": "code",
   "execution_count": 22,
   "id": "dcd363d5",
   "metadata": {},
   "outputs": [
    {
     "name": "stdout",
     "output_type": "stream",
     "text": [
      "['Name', 'Age']\n",
      "['Soumyakant', '25']\n",
      "['John Doe', '30']\n"
     ]
    }
   ],
   "source": [
    "# CSV\n",
    "\n",
    "import csv\n",
    "with open('data.csv', mode='w', newline='') as file:\n",
    "    writer = csv.writer(file)\n",
    "    writer.writerow(['Name', 'Age'])\n",
    "    writer.writerow(['Soumyakant', 25])\n",
    "    writer.writerow(['John Doe', 30])\n",
    "\n",
    "with open('data.csv', mode='r') as file:\n",
    "    reader = csv.reader(file)\n",
    "    for row in reader:\n",
    "        print(row)"
   ]
  },
  {
   "cell_type": "code",
   "execution_count": 23,
   "id": "05129d4f",
   "metadata": {},
   "outputs": [
    {
     "name": "stdout",
     "output_type": "stream",
     "text": [
      "2025-05-20 11:38:20.413664\n",
      "2025-05-19 11:38:20.413664\n"
     ]
    }
   ],
   "source": [
    "# Datetime\n",
    "\n",
    "from datetime import datetime, timedelta\n",
    "\n",
    "now = datetime.now()\n",
    "print(now)\n",
    "\n",
    "yesterday = now - timedelta(days=1)\n",
    "print(yesterday)"
   ]
  },
  {
   "cell_type": "code",
   "execution_count": 24,
   "id": "5c2da1f7",
   "metadata": {},
   "outputs": [
    {
     "name": "stdout",
     "output_type": "stream",
     "text": [
      "1747721300.4380846\n",
      "1747721302.4402077\n"
     ]
    }
   ],
   "source": [
    "# Time\n",
    "\n",
    "import time\n",
    "print(time.time())\n",
    "time.sleep(2)\n",
    "print(time.time())"
   ]
  },
  {
   "cell_type": "code",
   "execution_count": 25,
   "id": "a9d0faf7",
   "metadata": {},
   "outputs": [
    {
     "name": "stdout",
     "output_type": "stream",
     "text": [
      "2\n"
     ]
    }
   ],
   "source": [
    "# Regular Expressions\n",
    "\n",
    "import re\n",
    "pattern = r'\\d+'\n",
    "text = 'The 2 quick brown foxes jump over the lazy dog.'\n",
    "matches = re.search(pattern, text)\n",
    "print(matches.group())"
   ]
  }
 ],
 "metadata": {
  "kernelspec": {
   "display_name": "Python 3",
   "language": "python",
   "name": "python3"
  },
  "language_info": {
   "codemirror_mode": {
    "name": "ipython",
    "version": 3
   },
   "file_extension": ".py",
   "mimetype": "text/x-python",
   "name": "python",
   "nbconvert_exporter": "python",
   "pygments_lexer": "ipython3",
   "version": "3.11.11"
  }
 },
 "nbformat": 4,
 "nbformat_minor": 5
}

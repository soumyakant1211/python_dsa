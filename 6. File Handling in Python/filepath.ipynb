{
 "cells": [
  {
   "cell_type": "markdown",
   "id": "4c19e6d8",
   "metadata": {},
   "source": [
    "When working with files in Python, handling file paths correctly is crucial to ensure your code works across different operating systems and environments. Python provides several modules and functions for working with filepaths effectively."
   ]
  },
  {
   "cell_type": "code",
   "execution_count": 1,
   "id": "b862bc27",
   "metadata": {},
   "outputs": [
    {
     "name": "stdout",
     "output_type": "stream",
     "text": [
      "Current working directory: d:\\Python with DSA by Krish Naik\\6. File Handling in Python\n"
     ]
    }
   ],
   "source": [
    "# getting the current working directory using os module\n",
    "\n",
    "import os\n",
    "cwd = os.getcwd()\n",
    "print(\"Current working directory:\", cwd)"
   ]
  },
  {
   "cell_type": "code",
   "execution_count": 2,
   "id": "a1af9fd9",
   "metadata": {},
   "outputs": [
    {
     "name": "stdout",
     "output_type": "stream",
     "text": [
      "Directory 'new_folder' created\n"
     ]
    }
   ],
   "source": [
    "# creating a new directory using os module\n",
    "\n",
    "new_directory = \"new_folder\"\n",
    "os.mkdir(new_directory)\n",
    "print(f\"Directory '{new_directory}' created\")"
   ]
  },
  {
   "cell_type": "code",
   "execution_count": 3,
   "id": "bfa2570d",
   "metadata": {},
   "outputs": [
    {
     "name": "stdout",
     "output_type": "stream",
     "text": [
      "['binary_file.bin', 'copy_of_example.txt', 'example.txt', 'fileoperations.ipynb', 'filepath.ipynb', 'new_file.txt', 'new_folder']\n"
     ]
    }
   ],
   "source": [
    "# listing all files and directories in the current directory\n",
    "\n",
    "items = os.listdir('.')\n",
    "print(items)"
   ]
  },
  {
   "cell_type": "code",
   "execution_count": null,
   "id": "2d1a252c",
   "metadata": {},
   "outputs": [
    {
     "name": "stdout",
     "output_type": "stream",
     "text": [
      "new_folder\\example.txt\n"
     ]
    }
   ],
   "source": [
    "# joining paths with relative path using os module\n",
    "\n",
    "directory = \"new_folder\"\n",
    "file_name = \"example.txt\"\n",
    "file_path = os.path.join(directory, file_name)\n",
    "print(file_path)"
   ]
  },
  {
   "cell_type": "code",
   "execution_count": null,
   "id": "32afe0a8",
   "metadata": {},
   "outputs": [
    {
     "name": "stdout",
     "output_type": "stream",
     "text": [
      "d:\\Python with DSA by Krish Naik\\6. File Handling in Python\\new_folder\\example.txt\n"
     ]
    }
   ],
   "source": [
    "# joining paths with exact path using os module\n",
    "\n",
    "directory = \"new_folder\"\n",
    "file_name = \"example.txt\"\n",
    "file_path = os.path.join(os.getcwd(), directory, file_name)\n",
    "print(file_path)"
   ]
  },
  {
   "cell_type": "code",
   "execution_count": null,
   "id": "30987d26",
   "metadata": {},
   "outputs": [
    {
     "name": "stdout",
     "output_type": "stream",
     "text": [
      "Path 'example1.txt' does not exist\n"
     ]
    }
   ],
   "source": [
    "# checking if a path exists using os module\n",
    "\n",
    "path = 'example1.txt'\n",
    "if os.path.exists(path):\n",
    "    print(f\"Path '{path}' exists\")\n",
    "else:\n",
    "    print(f\"Path '{path}' does not exist\")"
   ]
  },
  {
   "cell_type": "code",
   "execution_count": 7,
   "id": "a1266ac6",
   "metadata": {},
   "outputs": [
    {
     "name": "stdout",
     "output_type": "stream",
     "text": [
      "'example.txt' is a file\n"
     ]
    }
   ],
   "source": [
    "# checking if a path is a file or directory using os module\n",
    "\n",
    "path = 'example.txt'\n",
    "if os.path.isfile(path):\n",
    "    print(f\"'{path}' is a file\")\n",
    "elif os.path.isdir(path):\n",
    "    print(f\"'{path}' is a directory\")\n",
    "else:\n",
    "    print(f\"'{path}' is neither a file nor a directory\")"
   ]
  },
  {
   "cell_type": "code",
   "execution_count": 8,
   "id": "a23dc8fe",
   "metadata": {},
   "outputs": [
    {
     "name": "stdout",
     "output_type": "stream",
     "text": [
      "d:\\Python with DSA by Krish Naik\\6. File Handling in Python\\example.txt\n"
     ]
    }
   ],
   "source": [
    "# getting the absolute path of a file using os module\n",
    "file_name = \"example.txt\"\n",
    "absolute_path = os.path.abspath(file_name)\n",
    "print(absolute_path)"
   ]
  }
 ],
 "metadata": {
  "kernelspec": {
   "display_name": "Python 3",
   "language": "python",
   "name": "python3"
  },
  "language_info": {
   "codemirror_mode": {
    "name": "ipython",
    "version": 3
   },
   "file_extension": ".py",
   "mimetype": "text/x-python",
   "name": "python",
   "nbconvert_exporter": "python",
   "pygments_lexer": "ipython3",
   "version": "3.11.11"
  }
 },
 "nbformat": 4,
 "nbformat_minor": 5
}

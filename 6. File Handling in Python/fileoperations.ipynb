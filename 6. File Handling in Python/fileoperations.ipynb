{
 "cells": [
  {
   "cell_type": "markdown",
   "id": "191c0015",
   "metadata": {},
   "source": [
    "File handling is a crucial part of any programming language. Python provides in-built functions and methods to read from and write to files, both text and binary"
   ]
  },
  {
   "cell_type": "code",
   "execution_count": 22,
   "id": "a5dee468",
   "metadata": {},
   "outputs": [
    {
     "name": "stdout",
     "output_type": "stream",
     "text": [
      "Hello, World!\n",
      "This is a test.\n",
      "This is a new line.\n",
      "This is another new line.\n",
      "Line 1\n",
      "Line 2\n",
      "Line 3\n",
      "\n"
     ]
    }
   ],
   "source": [
    "# reading a whole file\n",
    "\n",
    "with open('example.txt', 'r') as file:\n",
    "    # read the whole file\n",
    "    data = file.read()\n",
    "    print(data)"
   ]
  },
  {
   "cell_type": "code",
   "execution_count": 23,
   "id": "1e974323",
   "metadata": {},
   "outputs": [
    {
     "name": "stdout",
     "output_type": "stream",
     "text": [
      "Hello, World!\n",
      "This is a test.\n",
      "This is a new line.\n",
      "This is another new line.\n",
      "Line 1\n",
      "Line 2\n",
      "Line 3\n"
     ]
    }
   ],
   "source": [
    "# reading a file line by line\n",
    "with open('example.txt', 'r') as file:\n",
    "    # read the file line by line\n",
    "    for line in file:\n",
    "        print(line.strip())  # strip() removes leading/trailing whitespace"
   ]
  },
  {
   "cell_type": "code",
   "execution_count": 24,
   "id": "67231bf6",
   "metadata": {},
   "outputs": [
    {
     "name": "stdout",
     "output_type": "stream",
     "text": [
      "Hello, World!\n",
      "\n",
      "This is a test.\n",
      "\n",
      "This is a new line.\n",
      "\n",
      "This is another new line.\n",
      "\n",
      "Line 1\n",
      "\n",
      "Line 2\n",
      "\n",
      "Line 3\n",
      "\n"
     ]
    }
   ],
   "source": [
    "# reading a file line by line\n",
    "with open('example.txt', 'r') as file:\n",
    "    # read the file line by line\n",
    "    for line in file:\n",
    "        print(line)"
   ]
  },
  {
   "cell_type": "code",
   "execution_count": 25,
   "id": "82f9babc",
   "metadata": {},
   "outputs": [],
   "source": [
    "# writing to a existing file (overwrite)\n",
    "\n",
    "with open('example.txt', 'w') as file:\n",
    "    # write to the file\n",
    "    file.write('Hello, World!\\n')\n",
    "    file.write('This is a test.\\n')"
   ]
  },
  {
   "cell_type": "code",
   "execution_count": 26,
   "id": "05d2585d",
   "metadata": {},
   "outputs": [],
   "source": [
    "# writing to a file\n",
    "\n",
    "with open('example.txt', 'a') as file:\n",
    "    # append to the file\n",
    "    file.write('This is a new line.\\n')\n",
    "    file.write('This is another new line.\\n')"
   ]
  },
  {
   "cell_type": "code",
   "execution_count": 27,
   "id": "9c9207d8",
   "metadata": {},
   "outputs": [],
   "source": [
    "# writing a list of lines to a file\n",
    "\n",
    "lines = ['Line 1\\n', 'Line 2\\n', 'Line 3\\n']\n",
    "with open('example.txt', 'a') as file:\n",
    "    # write the list of lines to the file\n",
    "    file.writelines(lines)"
   ]
  },
  {
   "cell_type": "code",
   "execution_count": 28,
   "id": "8af51922",
   "metadata": {},
   "outputs": [],
   "source": [
    "# creating a new file\n",
    "with open('new_file.txt', 'w') as file:\n",
    "    # write to the new file\n",
    "    file.write('This is a new file.\\n')\n",
    "    file.write('This is another line in the new file.\\n')"
   ]
  },
  {
   "cell_type": "code",
   "execution_count": 29,
   "id": "2056307e",
   "metadata": {},
   "outputs": [],
   "source": [
    "# creating a new binary file\n",
    "\n",
    "data = b'\\x00\\x01\\x02\\x03\\x04\\x05\\x06\\x07\\x08\\x09'\n",
    "with open('binary_file.bin', 'wb') as file:\n",
    "    # write binary data to the file\n",
    "    file.write(data)"
   ]
  },
  {
   "cell_type": "code",
   "execution_count": 30,
   "id": "0aa2a193",
   "metadata": {},
   "outputs": [
    {
     "name": "stdout",
     "output_type": "stream",
     "text": [
      "b'\\x00\\x01\\x02\\x03\\x04\\x05\\x06\\x07\\x08\\t'\n"
     ]
    }
   ],
   "source": [
    "# reading a binary file\n",
    "\n",
    "with open('binary_file.bin', 'rb') as file:\n",
    "    # read binary data from the file\n",
    "    data = file.read()\n",
    "    print(data)"
   ]
  },
  {
   "cell_type": "code",
   "execution_count": 31,
   "id": "72b1f6e7",
   "metadata": {},
   "outputs": [],
   "source": [
    "# reading the content of a source file and writing it to a destination file\n",
    "\n",
    "with open('example.txt', 'r') as source_file:\n",
    "    content = source_file.read()\n",
    "    \n",
    "with open('copy_of_example.txt', 'w') as dest_file:\n",
    "        dest_file.write(content)"
   ]
  },
  {
   "cell_type": "code",
   "execution_count": 32,
   "id": "0960286d",
   "metadata": {},
   "outputs": [],
   "source": [
    "# reading the content of a source file and writing it to a destination file in a more efficient way\n",
    "\n",
    "with open('example.txt', 'r') as source_file:\n",
    "    with open('copy_of_example.txt', 'w') as dest_file:\n",
    "        # read the content of the source file and write it to the destination file\n",
    "        for line in source_file:\n",
    "            dest_file.write(line)"
   ]
  },
  {
   "cell_type": "code",
   "execution_count": 33,
   "id": "7125ca53",
   "metadata": {},
   "outputs": [
    {
     "name": "stdout",
     "output_type": "stream",
     "text": [
      "The file \"example.txt\" has 7 lines, 22 words, and 97 characters.\n"
     ]
    }
   ],
   "source": [
    "# read a text file and count the number of lines, words, and characters\n",
    "\n",
    "def count_file_content(file_path):\n",
    "    with open(file_path, 'r') as file:\n",
    "        lines = file.readlines()\n",
    "        num_lines = len(lines) # count lines\n",
    "        num_words = sum(len(line.split()) for line in lines) # count words\n",
    "        num_chars = sum(len(line) for line in lines) # count characters\n",
    "        \n",
    "    return num_lines, num_words, num_chars\n",
    "\n",
    "# Example usage\n",
    "file_path = 'example.txt'\n",
    "num_lines, num_words, num_chars = count_file_content(file_path)\n",
    "print(f'The file \"{file_path}\" has {num_lines} lines, {num_words} words, and {num_chars} characters.')"
   ]
  },
  {
   "cell_type": "markdown",
   "id": "c3ac782e",
   "metadata": {},
   "source": [
    "The w+ mode in Python is used to open a file for both reading and writing. If the file doesn't exist, it will be created and if it exists, the content will be overwritten (the content will be truncated)"
   ]
  },
  {
   "cell_type": "code",
   "execution_count": 34,
   "id": "5c9d3c95",
   "metadata": {},
   "outputs": [
    {
     "name": "stdout",
     "output_type": "stream",
     "text": [
      "Hello, World!\n",
      "This is a test.\n",
      "\n"
     ]
    }
   ],
   "source": [
    "# writing and then reading a file\n",
    "\n",
    "with open('example.txt', 'w+') as file:\n",
    "    # write to the file\n",
    "    file.write('Hello, World!\\n')\n",
    "    file.write('This is a test.\\n')\n",
    "    \n",
    "    # move the cursor to the beginning of the file\n",
    "    file.seek(0)\n",
    "    \n",
    "    # read the content of the file\n",
    "    data = file.read()\n",
    "    print(data)"
   ]
  }
 ],
 "metadata": {
  "kernelspec": {
   "display_name": "Python 3",
   "language": "python",
   "name": "python3"
  },
  "language_info": {
   "codemirror_mode": {
    "name": "ipython",
    "version": 3
   },
   "file_extension": ".py",
   "mimetype": "text/x-python",
   "name": "python",
   "nbconvert_exporter": "python",
   "pygments_lexer": "ipython3",
   "version": "3.11.11"
  }
 },
 "nbformat": 4,
 "nbformat_minor": 5
}

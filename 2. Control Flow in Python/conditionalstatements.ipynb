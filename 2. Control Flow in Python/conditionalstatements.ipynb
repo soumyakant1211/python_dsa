{
 "cells": [
  {
   "cell_type": "markdown",
   "id": "61ba51fa",
   "metadata": {},
   "source": [
    "CONDITIONAL STATEMENTS IN PYTHON:\n",
    "1. IF\n",
    "2. ELSE\n",
    "3. ELIF\n",
    "4. NESTED CONDITIONAL STATEMENTS"
   ]
  },
  {
   "cell_type": "markdown",
   "id": "cae5355f",
   "metadata": {},
   "source": [
    "IF STATEMENTS EXECUTES A BLOCK OF CODE IF THE CONDITION IN THE IF STATEMENT IS TRUE"
   ]
  },
  {
   "cell_type": "code",
   "execution_count": 9,
   "id": "c2a5a790",
   "metadata": {},
   "outputs": [
    {
     "name": "stdout",
     "output_type": "stream",
     "text": [
      "You are eligible to fight an election\n"
     ]
    }
   ],
   "source": [
    "age = 25\n",
    "if age >= 25:\n",
    "    print(\"You are eligible to fight an election\")"
   ]
  },
  {
   "cell_type": "markdown",
   "id": "9ce6e6f8",
   "metadata": {},
   "source": [
    "ELSE STATEMENTS EXECUTES A BLOCK OF CODE IF THE CONDITION IN THE IF STATEMENT IS FALSE"
   ]
  },
  {
   "cell_type": "code",
   "execution_count": 10,
   "id": "168fa76a",
   "metadata": {},
   "outputs": [
    {
     "name": "stdout",
     "output_type": "stream",
     "text": [
      "You are a minor\n"
     ]
    }
   ],
   "source": [
    "age = 16\n",
    "if age >=18:\n",
    "    print(\"You are eligible to vote\")\n",
    "else:\n",
    "    print(\"You are a minor\")"
   ]
  },
  {
   "cell_type": "markdown",
   "id": "651f9a85",
   "metadata": {},
   "source": [
    "ELIF STATEMENT STANDS FOR ELSE IF WHICH ALLOWS US TO CHECK MULTIPLE CONDITIONS"
   ]
  },
  {
   "cell_type": "code",
   "execution_count": 11,
   "id": "203b0ad1",
   "metadata": {},
   "outputs": [
    {
     "name": "stdout",
     "output_type": "stream",
     "text": [
      "You are an adult\n"
     ]
    }
   ],
   "source": [
    "age = 20\n",
    "if age < 13:\n",
    "    print(\"You are a kid\")\n",
    "elif age <= 19:\n",
    "    print(\"You are a teenager\")\n",
    "else:\n",
    "    print(\"You are an adult\")"
   ]
  },
  {
   "cell_type": "code",
   "execution_count": 12,
   "id": "2ae7aa1a",
   "metadata": {},
   "outputs": [
    {
     "name": "stdout",
     "output_type": "stream",
     "text": [
      "You are a kid\n"
     ]
    }
   ],
   "source": [
    "age = 10\n",
    "if age < 13:\n",
    "    print(\"You are a kid\")\n",
    "elif age <= 19:\n",
    "    print(\"You are a teenager\")\n",
    "else:\n",
    "    print(\"You are an adult\")"
   ]
  },
  {
   "cell_type": "code",
   "execution_count": 13,
   "id": "af13d3a4",
   "metadata": {},
   "outputs": [
    {
     "name": "stdout",
     "output_type": "stream",
     "text": [
      "You are a teenager\n"
     ]
    }
   ],
   "source": [
    "age = 15\n",
    "if age < 13:\n",
    "    print(\"You are a kid\")\n",
    "elif age <= 19:\n",
    "    print(\"You are a teenager\")\n",
    "else:\n",
    "    print(\"You are an adult\")"
   ]
  },
  {
   "cell_type": "markdown",
   "id": "14680734",
   "metadata": {},
   "source": [
    "NESTED CONDITIONAL ARE THE ONES WHERE WE CAN PLACE ONE OR MORE IF, ELIF, OR ELSE INSIDE ANOTHER IF, ELIF, AND ELSE "
   ]
  },
  {
   "cell_type": "code",
   "execution_count": 14,
   "id": "c854927d",
   "metadata": {},
   "outputs": [
    {
     "name": "stdout",
     "output_type": "stream",
     "text": [
      "The number is positive\n",
      "The number is even\n"
     ]
    }
   ],
   "source": [
    "number = int(input(\"Enter a number: \"))\n",
    "if number > 0:\n",
    "    print(\"The number is positive\")\n",
    "    if number % 2 == 0:\n",
    "        print(\"The number is even\")\n",
    "    else:\n",
    "        print(\"The number is odd\")\n",
    "else:\n",
    "    print(\"The number is negative\")"
   ]
  },
  {
   "cell_type": "code",
   "execution_count": 15,
   "id": "315be0f8",
   "metadata": {},
   "outputs": [
    {
     "name": "stdout",
     "output_type": "stream",
     "text": [
      "The year is a leap year\n"
     ]
    }
   ],
   "source": [
    "## Program to determine whether the selected year is leap year or not\n",
    "\n",
    "year = int(input(\"Enter a year: \"))\n",
    "if year % 4 == 0:\n",
    "    if year % 100 == 0:\n",
    "        if year % 400 == 0:\n",
    "            print(\"The year is a leap year\")\n",
    "        else:\n",
    "            print(\"The year is not a leap year\")\n",
    "    else:\n",
    "        print(\"The year is a leap year\")\n",
    "else:\n",
    "    print(\"The year is not a leap year\")"
   ]
  },
  {
   "cell_type": "code",
   "execution_count": 16,
   "id": "2010e482",
   "metadata": {},
   "outputs": [
    {
     "name": "stdout",
     "output_type": "stream",
     "text": [
      "15.0\n"
     ]
    }
   ],
   "source": [
    "## Program to perform arithmetic operations based on user input for operations\n",
    "\n",
    "number1 = float(input(\"Enter a number: \"))\n",
    "number2 = float(input(\"Enter another number: \"))\n",
    "enter_operation = input(\"Enter an operation: +, - *, /, //, %, **\")\n",
    "if enter_operation == \"+\":\n",
    "    print(number1 + number2)\n",
    "elif enter_operation == \"-\":\n",
    "    print(number1 - number2)\n",
    "elif enter_operation == \"*\":\n",
    "    print(number1 * number2)\n",
    "elif enter_operation == \"/\":\n",
    "    if number2 == 0:\n",
    "        print(\"Cannot divide by zero\")\n",
    "    else:\n",
    "        print(number1 / number2)\n",
    "elif enter_operation == \"//\":\n",
    "    if number2 == 0:\n",
    "        print(\"Cannot divide by zero\")\n",
    "    else:\n",
    "        print(number1 // number2)\n",
    "elif enter_operation == \"%\":\n",
    "    if number2 == 0:\n",
    "        print(\"Cannot divide by zero\")\n",
    "    else:\n",
    "        print(number1 % number2)\n",
    "elif enter_operation == \"**\":\n",
    "    print(number1 ** number2)\n",
    "else:\n",
    "    print(\"Invalid operation\")"
   ]
  },
  {
   "cell_type": "code",
   "execution_count": 17,
   "id": "cd1c52e0",
   "metadata": {},
   "outputs": [
    {
     "name": "stdout",
     "output_type": "stream",
     "text": [
      "Ticket price: $20\n"
     ]
    }
   ],
   "source": [
    "## Determine the price of the ticket based on the age\n",
    "\n",
    "age = int(input(\"Enter your age: \"))\n",
    "is_student = input(\"Are you a student? (yes/no): \").lower()\n",
    "\n",
    "if age < 3:\n",
    "    print(\"Ticket price: Free\")\n",
    "elif age >= 3 and age <= 12:\n",
    "    if is_student == \"yes\":\n",
    "        print(\"Ticket price: $10\")\n",
    "    else:\n",
    "        print(\"Ticket price: $15\")\n",
    "else:\n",
    "    print(\"Ticket price: $20\")"
   ]
  }
 ],
 "metadata": {
  "kernelspec": {
   "display_name": "base",
   "language": "python",
   "name": "python3"
  },
  "language_info": {
   "codemirror_mode": {
    "name": "ipython",
    "version": 3
   },
   "file_extension": ".py",
   "mimetype": "text/x-python",
   "name": "python",
   "nbconvert_exporter": "python",
   "pygments_lexer": "ipython3",
   "version": "3.12.7"
  }
 },
 "nbformat": 4,
 "nbformat_minor": 5
}

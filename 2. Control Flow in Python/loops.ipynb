{
 "cells": [
  {
   "cell_type": "markdown",
   "id": "f74d47dd",
   "metadata": {},
   "source": [
    "LOOPS IN PYTHON"
   ]
  },
  {
   "cell_type": "markdown",
   "id": "cd22b361",
   "metadata": {},
   "source": [
    "FOR LOOPS ARE THE LOOPS WHICH HELPS US TO ITERATE OVER A NUMBER. IT USES A RANGE FUNCTION WHICH HAS 3 PARAMETERS MAXIMUM NAMELY START PARAMETER, STOP PARAMETER AND STEP PARAMETER. THE DEFAULT STEP PARAMETER IS 1 AND THE DEFAULT START PARAMETER IS 0. THE RANGE FUNCTION WILL EXCLUDE THE LAST NUMBER."
   ]
  },
  {
   "cell_type": "code",
   "execution_count": 70,
   "id": "65fff3ce",
   "metadata": {},
   "outputs": [
    {
     "name": "stdout",
     "output_type": "stream",
     "text": [
      "0\n",
      "1\n",
      "2\n",
      "3\n",
      "4\n"
     ]
    }
   ],
   "source": [
    "## Displaying numbers from 0 to 4\n",
    "\n",
    "for i in range(5):\n",
    "    print(i)"
   ]
  },
  {
   "cell_type": "code",
   "execution_count": 71,
   "id": "4cefdd31",
   "metadata": {},
   "outputs": [
    {
     "name": "stdout",
     "output_type": "stream",
     "text": [
      "1\n",
      "2\n",
      "3\n",
      "4\n",
      "5\n"
     ]
    }
   ],
   "source": [
    "## Displaying numbers from 1 to 5\n",
    "\n",
    "for i in range(1, 6):\n",
    "    print(i)"
   ]
  },
  {
   "cell_type": "code",
   "execution_count": 72,
   "id": "1a567b92",
   "metadata": {},
   "outputs": [
    {
     "name": "stdout",
     "output_type": "stream",
     "text": [
      "1\n",
      "2\n",
      "3\n",
      "4\n",
      "5\n"
     ]
    }
   ],
   "source": [
    "## Displaying numbers from 1 to 5\n",
    "\n",
    "for i in range(1, 6, 1):\n",
    "    print(i)"
   ]
  },
  {
   "cell_type": "code",
   "execution_count": 73,
   "id": "9649da65",
   "metadata": {},
   "outputs": [
    {
     "name": "stdout",
     "output_type": "stream",
     "text": [
      "1\n",
      "3\n",
      "5\n"
     ]
    }
   ],
   "source": [
    "## Displaying odd numbers from 1 to 5\n",
    "\n",
    "for i in range(1, 6, 2):\n",
    "    print(i)"
   ]
  },
  {
   "cell_type": "code",
   "execution_count": 74,
   "id": "a0079237",
   "metadata": {},
   "outputs": [
    {
     "name": "stdout",
     "output_type": "stream",
     "text": [
      "5\n",
      "4\n",
      "3\n",
      "2\n",
      "1\n"
     ]
    }
   ],
   "source": [
    "## Displaying numbers in reverse order\n",
    "\n",
    "for i in range(5, 0, -1):\n",
    "    print(i)"
   ]
  },
  {
   "cell_type": "code",
   "execution_count": 75,
   "id": "67e16a81",
   "metadata": {},
   "outputs": [
    {
     "name": "stdout",
     "output_type": "stream",
     "text": [
      "5\n",
      "3\n",
      "1\n"
     ]
    }
   ],
   "source": [
    "## Displaying odd numbers in reverse order\n",
    "\n",
    "for i in range(5, 0, -2):\n",
    "    print(i)"
   ]
  },
  {
   "cell_type": "code",
   "execution_count": 76,
   "id": "2750e295",
   "metadata": {},
   "outputs": [
    {
     "name": "stdout",
     "output_type": "stream",
     "text": [
      "S\n",
      "o\n",
      "u\n",
      "m\n",
      "y\n",
      "a\n",
      "k\n",
      "a\n",
      "n\n",
      "t\n",
      " \n",
      "T\n",
      "r\n",
      "i\n",
      "p\n",
      "a\n",
      "t\n",
      "h\n",
      "y\n"
     ]
    }
   ],
   "source": [
    "## Displaying all the characters of a string\n",
    "\n",
    "str = \"Soumyakant Tripathy\"\n",
    "\n",
    "for char in str:\n",
    "    print(char)"
   ]
  },
  {
   "cell_type": "markdown",
   "id": "9d73b779",
   "metadata": {},
   "source": [
    "WHILE LOOPS CONTINUES TO EXECUTE AS LONG AS THE CONDITION IS TRUE"
   ]
  },
  {
   "cell_type": "code",
   "execution_count": 77,
   "id": "133a9a0f",
   "metadata": {},
   "outputs": [
    {
     "name": "stdout",
     "output_type": "stream",
     "text": [
      "0\n",
      "1\n",
      "2\n",
      "3\n",
      "4\n",
      "5\n"
     ]
    }
   ],
   "source": [
    "## Displaying numbers from 0 to 5 using while loop\n",
    "\n",
    "i = 0\n",
    "\n",
    "while i <= 5:\n",
    "    print(i)\n",
    "    i += 1"
   ]
  },
  {
   "cell_type": "code",
   "execution_count": 78,
   "id": "829b9226",
   "metadata": {},
   "outputs": [
    {
     "name": "stdout",
     "output_type": "stream",
     "text": [
      "0\n"
     ]
    }
   ],
   "source": [
    "## Displaying numbers from 1 to 5 using while loop\n",
    "\n",
    "i = 0\n",
    "\n",
    "while i % 2 == 0:\n",
    "    print(i)\n",
    "    i += 1"
   ]
  },
  {
   "cell_type": "markdown",
   "id": "d6a07973",
   "metadata": {},
   "source": [
    "LOOP CONTROL STATEMENTS\n",
    "1. break\n",
    "2. continue\n",
    "3. pass"
   ]
  },
  {
   "cell_type": "markdown",
   "id": "8ad6117f",
   "metadata": {},
   "source": [
    "BREAK STATEMENT EXITS THE FOR LOOP PREMATURELY"
   ]
  },
  {
   "cell_type": "code",
   "execution_count": 79,
   "id": "54b3adfd",
   "metadata": {},
   "outputs": [
    {
     "name": "stdout",
     "output_type": "stream",
     "text": [
      "1\n",
      "2\n"
     ]
    }
   ],
   "source": [
    "## break statement\n",
    "\n",
    "for i in range(1, 6):\n",
    "    if i == 3:\n",
    "        break\n",
    "    print(i)"
   ]
  },
  {
   "cell_type": "markdown",
   "id": "21be9978",
   "metadata": {},
   "source": [
    "CONTINUE STATEMENT SKIPS THE CURRENT ITERATION AND CONTINUE WITH THE NEXT"
   ]
  },
  {
   "cell_type": "code",
   "execution_count": 80,
   "id": "fe997880",
   "metadata": {},
   "outputs": [
    {
     "name": "stdout",
     "output_type": "stream",
     "text": [
      "1\n",
      "2\n",
      "4\n",
      "5\n"
     ]
    }
   ],
   "source": [
    "## continue statement\n",
    "\n",
    "for i in range(1, 6):\n",
    "    if i == 3:\n",
    "        continue\n",
    "    print(i)"
   ]
  },
  {
   "cell_type": "markdown",
   "id": "eb6ef17a",
   "metadata": {},
   "source": [
    "PASS IS A NULL OPERATION AND DOES NOTHING"
   ]
  },
  {
   "cell_type": "code",
   "execution_count": 81,
   "id": "c3d8172b",
   "metadata": {},
   "outputs": [
    {
     "name": "stdout",
     "output_type": "stream",
     "text": [
      "1\n",
      "2\n",
      "Value of i is 3\n",
      "3\n",
      "4\n",
      "5\n"
     ]
    }
   ],
   "source": [
    "## pass statement\n",
    "\n",
    "for i in range(1, 6):\n",
    "    if i == 3:\n",
    "        print(f\"Value of i is {i}\")\n",
    "        pass\n",
    "    print(i)"
   ]
  },
  {
   "cell_type": "markdown",
   "id": "a48039f0",
   "metadata": {},
   "source": [
    "NESTED LOOPS ARE THE LOOPS INSIDE ANOTHER LOOP"
   ]
  },
  {
   "cell_type": "code",
   "execution_count": 82,
   "id": "97a46f39",
   "metadata": {},
   "outputs": [
    {
     "name": "stdout",
     "output_type": "stream",
     "text": [
      "i = 1, j = 1\n",
      "i = 1, j = 2\n",
      "i = 1, j = 3\n",
      "i = 1, j = 4\n",
      "i = 1, j = 5\n",
      "i = 2, j = 1\n",
      "i = 2, j = 2\n",
      "i = 2, j = 3\n",
      "i = 2, j = 4\n",
      "i = 2, j = 5\n",
      "i = 3, j = 1\n",
      "i = 3, j = 2\n",
      "i = 3, j = 3\n",
      "i = 3, j = 4\n",
      "i = 3, j = 5\n",
      "i = 4, j = 1\n",
      "i = 4, j = 2\n",
      "i = 4, j = 3\n",
      "i = 4, j = 4\n",
      "i = 4, j = 5\n",
      "i = 5, j = 1\n",
      "i = 5, j = 2\n",
      "i = 5, j = 3\n",
      "i = 5, j = 4\n",
      "i = 5, j = 5\n"
     ]
    }
   ],
   "source": [
    "## example of nested loop\n",
    "\n",
    "for i in range(1, 6):\n",
    "    for j in range(1, 6):\n",
    "        print(f\"i = {i}, j = {j}\")"
   ]
  },
  {
   "cell_type": "code",
   "execution_count": 83,
   "id": "f124f668",
   "metadata": {},
   "outputs": [
    {
     "name": "stdout",
     "output_type": "stream",
     "text": [
      "The sum of first 25 natural numbers is 325\n"
     ]
    }
   ],
   "source": [
    "## sum of first n natural numbers using while loop\n",
    "\n",
    "n = int(input(\"Enter a number: \"))\n",
    "\n",
    "i = 1\n",
    "sum = 0\n",
    "\n",
    "while i <= n:\n",
    "    sum += i\n",
    "    i += 1\n",
    "\n",
    "print(f\"The sum of first {n} natural numbers is {sum}\")"
   ]
  },
  {
   "cell_type": "code",
   "execution_count": 84,
   "id": "e4477cd5",
   "metadata": {},
   "outputs": [
    {
     "name": "stdout",
     "output_type": "stream",
     "text": [
      "The sum of first 30 natural numbers is 465\n"
     ]
    }
   ],
   "source": [
    "## sum of first n natural numbers using for loop\n",
    "\n",
    "n = int(input(\"Enter a number: \"))\n",
    "\n",
    "sum = 0\n",
    "\n",
    "for i in range(1, n + 1):\n",
    "    sum += i\n",
    "\n",
    "print(f\"The sum of first {n} natural numbers is {sum}\")"
   ]
  },
  {
   "cell_type": "code",
   "execution_count": 85,
   "id": "057a3ac7",
   "metadata": {},
   "outputs": [
    {
     "name": "stdout",
     "output_type": "stream",
     "text": [
      "You entered a negative number\n"
     ]
    }
   ],
   "source": [
    "## displaying all prime numbers between 1 to N\n",
    "\n",
    "n = int(input(\"Enter a number: \"))\n",
    "\n",
    "if n == 1:\n",
    "    print(\"There are no prime numbers\")\n",
    "elif n > 1:\n",
    "    for i in range(2, n + 1):\n",
    "        for j in range(2, i):\n",
    "            if i % j == 0:\n",
    "                break\n",
    "        else:\n",
    "            print(i)\n",
    "else:\n",
    "    print(\"You entered a negative number\")"
   ]
  }
 ],
 "metadata": {
  "kernelspec": {
   "display_name": "base",
   "language": "python",
   "name": "python3"
  },
  "language_info": {
   "codemirror_mode": {
    "name": "ipython",
    "version": 3
   },
   "file_extension": ".py",
   "mimetype": "text/x-python",
   "name": "python",
   "nbconvert_exporter": "python",
   "pygments_lexer": "ipython3",
   "version": "3.12.7"
  }
 },
 "nbformat": 4,
 "nbformat_minor": 5
}

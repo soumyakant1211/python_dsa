{
 "cells": [
  {
   "cell_type": "markdown",
   "id": "769cd04a",
   "metadata": {},
   "source": [
    "Filter (filter()) function constructs an iterator from elements of an iterable for which a function returns true. It is used to filter out items from a list (or any other iterable) based on a condition."
   ]
  },
  {
   "cell_type": "code",
   "execution_count": 8,
   "id": "e90d8450",
   "metadata": {},
   "outputs": [
    {
     "data": {
      "text/plain": [
       "[2, 4, 6, 8, 10, 12, 14]"
      ]
     },
     "execution_count": 8,
     "metadata": {},
     "output_type": "execute_result"
    }
   ],
   "source": [
    "# filtering out the even numbers from a list using filter() function\n",
    "\n",
    "def is_even(num):\n",
    "    \"\"\"Return True if num is even, False otherwise.\"\"\"\n",
    "    if num % 2 == 0:\n",
    "        return True\n",
    "\n",
    "lst = [1, 2, 3, 4, 5, 6, 7, 8, 9, 10, 11, 12, 13, 14, 15]\n",
    "list(filter(is_even, lst))"
   ]
  },
  {
   "cell_type": "code",
   "execution_count": 9,
   "id": "6b712d71",
   "metadata": {},
   "outputs": [
    {
     "data": {
      "text/plain": [
       "[6, 7, 8, 9, 10, 11, 12, 13, 14, 15]"
      ]
     },
     "execution_count": 9,
     "metadata": {},
     "output_type": "execute_result"
    }
   ],
   "source": [
    "# using filter() function with lambda function\n",
    "\n",
    "lst = [1, 2, 3, 4, 5, 6, 7, 8, 9, 10, 11, 12, 13, 14, 15]\n",
    "list(filter(lambda num: num > 5, lst))"
   ]
  },
  {
   "cell_type": "code",
   "execution_count": 10,
   "id": "fbe93a4e",
   "metadata": {},
   "outputs": [
    {
     "data": {
      "text/plain": [
       "[6, 8, 10, 12, 14]"
      ]
     },
     "execution_count": 10,
     "metadata": {},
     "output_type": "execute_result"
    }
   ],
   "source": [
    "# using filter() function with lambda function and multiple conditions\n",
    "\n",
    "lst = [1, 2, 3, 4, 5, 6, 7, 8, 9, 10, 11, 12, 13, 14, 15]\n",
    "list(filter(lambda num: num > 5 and num % 2 == 0, lst))"
   ]
  },
  {
   "cell_type": "code",
   "execution_count": 13,
   "id": "dd558732",
   "metadata": {},
   "outputs": [
    {
     "data": {
      "text/plain": [
       "[{'name': 'Bob', 'age': 22}, {'name': 'Charlie', 'age': 23}]"
      ]
     },
     "execution_count": 13,
     "metadata": {},
     "output_type": "execute_result"
    }
   ],
   "source": [
    "# using filter() function to check whose age is greater than 20\n",
    "\n",
    "students = [\n",
    "    {'name': 'Alice', 'age': 20},\n",
    "    {'name': 'Bob', 'age': 22},\n",
    "    {'name': 'Charlie', 'age': 23}\n",
    "]\n",
    "\n",
    "list(filter(lambda student: student['age'] > 20, students))\n"
   ]
  },
  {
   "cell_type": "code",
   "execution_count": 12,
   "id": "dadc3d1c",
   "metadata": {},
   "outputs": [
    {
     "data": {
      "text/plain": [
       "['Bob', 'Charlie']"
      ]
     },
     "execution_count": 12,
     "metadata": {},
     "output_type": "execute_result"
    }
   ],
   "source": [
    "# using map() function and filter() function to get the names of the students whose age is greater than 20\n",
    "\n",
    "students = [\n",
    "    {'name': 'Alice', 'age': 20},\n",
    "    {'name': 'Bob', 'age': 22},\n",
    "    {'name': 'Charlie', 'age': 23}\n",
    "]\n",
    "\n",
    "list(map(lambda student: student['name'], filter(lambda student: student['age'] > 20, students)))"
   ]
  }
 ],
 "metadata": {
  "kernelspec": {
   "display_name": "base",
   "language": "python",
   "name": "python3"
  },
  "language_info": {
   "codemirror_mode": {
    "name": "ipython",
    "version": 3
   },
   "file_extension": ".py",
   "mimetype": "text/x-python",
   "name": "python",
   "nbconvert_exporter": "python",
   "pygments_lexer": "ipython3",
   "version": "3.12.7"
  }
 },
 "nbformat": 4,
 "nbformat_minor": 5
}

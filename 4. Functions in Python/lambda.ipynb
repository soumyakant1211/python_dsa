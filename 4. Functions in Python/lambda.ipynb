{
 "cells": [
  {
   "cell_type": "markdown",
   "id": "cad8f6e4",
   "metadata": {},
   "source": [
    "Lambda Functions are the small anonymous functions that are defined using lambda keyword. They can have any number of arguments but one expression. They are commonly used for short operations or as arguments to higher order functions."
   ]
  },
  {
   "cell_type": "code",
   "execution_count": 1,
   "id": "13198352",
   "metadata": {},
   "outputs": [],
   "source": [
    "# syntax: lambda arguments : expression"
   ]
  },
  {
   "cell_type": "code",
   "execution_count": 2,
   "id": "86713fa1",
   "metadata": {},
   "outputs": [
    {
     "name": "stdout",
     "output_type": "stream",
     "text": [
      "7\n"
     ]
    }
   ],
   "source": [
    "# addition\n",
    "add = lambda a,b : a + b\n",
    "print(add(3,4))"
   ]
  },
  {
   "cell_type": "code",
   "execution_count": 3,
   "id": "d0e3e7b4",
   "metadata": {},
   "outputs": [
    {
     "name": "stdout",
     "output_type": "stream",
     "text": [
      "False\n",
      "True\n"
     ]
    }
   ],
   "source": [
    "# even or odd\n",
    "even_or_odd = lambda num : num % 2 == 0\n",
    "print(even_or_odd(3))\n",
    "print(even_or_odd(4))"
   ]
  },
  {
   "cell_type": "code",
   "execution_count": 4,
   "id": "699d0652",
   "metadata": {},
   "outputs": [
    {
     "name": "stdout",
     "output_type": "stream",
     "text": [
      "6\n"
     ]
    }
   ],
   "source": [
    "# lambda with multiple parameters\n",
    "\n",
    "sum = lambda a,b,c : a + b + c\n",
    "print(sum(1,2,3))"
   ]
  }
 ],
 "metadata": {
  "kernelspec": {
   "display_name": "base",
   "language": "python",
   "name": "python3"
  },
  "language_info": {
   "codemirror_mode": {
    "name": "ipython",
    "version": 3
   },
   "file_extension": ".py",
   "mimetype": "text/x-python",
   "name": "python",
   "nbconvert_exporter": "python",
   "pygments_lexer": "ipython3",
   "version": "3.12.7"
  }
 },
 "nbformat": 4,
 "nbformat_minor": 5
}

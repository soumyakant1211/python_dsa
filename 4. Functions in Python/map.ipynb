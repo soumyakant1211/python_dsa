{
 "cells": [
  {
   "cell_type": "markdown",
   "id": "bee7671b",
   "metadata": {},
   "source": [
    "Map (map()) function applies a given function to all items in a input list(or any other iterable) and returns a map object (an iterator). This is particularly useful for transforming data in a list comprehensively. It uses lazy loading techniques."
   ]
  },
  {
   "cell_type": "code",
   "execution_count": 3,
   "id": "e8a38eaa",
   "metadata": {},
   "outputs": [
    {
     "name": "stdout",
     "output_type": "stream",
     "text": [
      "[1, 4, 9, 16, 25, 36, 49, 64, 81, 100]\n"
     ]
    }
   ],
   "source": [
    "# Using map() along with a normal function to square numbers\n",
    "\n",
    "def square(x):\n",
    "    return x * x\n",
    "\n",
    "numbers = [1,2,3,4,5,6,7,8,9,10]\n",
    "\n",
    "squareNumbers = list(map(square, numbers))\n",
    "\n",
    "print(squareNumbers)"
   ]
  },
  {
   "cell_type": "code",
   "execution_count": 4,
   "id": "c1e30ddb",
   "metadata": {},
   "outputs": [
    {
     "name": "stdout",
     "output_type": "stream",
     "text": [
      "[1, 4, 9, 16, 25, 36, 49, 64, 81, 100]\n"
     ]
    }
   ],
   "source": [
    "# Using map() along with a lambda function to square numbers\n",
    "\n",
    "numbers = [1,2,3,4,5,6,7,8,9,10]\n",
    "\n",
    "squareNumbers = list(map(lambda x: x**2, numbers))\n",
    "\n",
    "print(squareNumbers)"
   ]
  },
  {
   "cell_type": "code",
   "execution_count": 5,
   "id": "6b86e52e",
   "metadata": {},
   "outputs": [
    {
     "name": "stdout",
     "output_type": "stream",
     "text": [
      "[7, 9, 11, 13, 15]\n"
     ]
    }
   ],
   "source": [
    "# map() with multiple iterables\n",
    "\n",
    "numbers1 = [1,2,3,4,5]\n",
    "numbers2 = [6,7,8,9,10]\n",
    "\n",
    "addNumbers = list(map(lambda x, y: x + y, numbers1, numbers2))\n",
    "\n",
    "print(addNumbers)"
   ]
  },
  {
   "cell_type": "code",
   "execution_count": 6,
   "id": "84349d0f",
   "metadata": {},
   "outputs": [
    {
     "name": "stdout",
     "output_type": "stream",
     "text": [
      "[1, 2, 3, 4, 5]\n"
     ]
    }
   ],
   "source": [
    "# map() to convert a list of strings to integers\n",
    "\n",
    "strnumbers = ['1', '2', '3', '4', '5']\n",
    "intNumbers = list(map(int, strnumbers))\n",
    "print(intNumbers)"
   ]
  },
  {
   "cell_type": "code",
   "execution_count": 7,
   "id": "11992a68",
   "metadata": {},
   "outputs": [
    {
     "name": "stdout",
     "output_type": "stream",
     "text": [
      "['HELLO', 'WORLD', 'PYTHON', 'PROGRAMMING']\n"
     ]
    }
   ],
   "source": [
    "# converting all lowercase letters to uppercase using map()\n",
    "\n",
    "words = ['hello', 'world', 'python', 'programming']\n",
    "\n",
    "upperWords = list(map(str.upper, words))\n",
    "\n",
    "print(upperWords)"
   ]
  },
  {
   "cell_type": "code",
   "execution_count": 8,
   "id": "aa6a4137",
   "metadata": {},
   "outputs": [
    {
     "name": "stdout",
     "output_type": "stream",
     "text": [
      "['Alice', 'Bob', 'Charlie']\n"
     ]
    }
   ],
   "source": [
    "# fetching the names of the students from a list of dictionaries using map()\n",
    "students = [\n",
    "    {'name': 'Alice', 'age': 20},\n",
    "    {'name': 'Bob', 'age': 22},\n",
    "    {'name': 'Charlie', 'age': 23}\n",
    "]\n",
    "\n",
    "names = list(map(lambda student: student['name'], students))\n",
    "\n",
    "print(names)"
   ]
  }
 ],
 "metadata": {
  "kernelspec": {
   "display_name": "base",
   "language": "python",
   "name": "python3"
  },
  "language_info": {
   "codemirror_mode": {
    "name": "ipython",
    "version": 3
   },
   "file_extension": ".py",
   "mimetype": "text/x-python",
   "name": "python",
   "nbconvert_exporter": "python",
   "pygments_lexer": "ipython3",
   "version": "3.12.7"
  }
 },
 "nbformat": 4,
 "nbformat_minor": 5
}

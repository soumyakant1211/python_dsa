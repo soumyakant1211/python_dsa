{
 "cells": [
  {
   "cell_type": "markdown",
   "id": "19d0792d",
   "metadata": {},
   "source": [
    "#### Functions are the blocks of code that performs a specific task and helps in organising code, reusing code and improving readability."
   ]
  },
  {
   "cell_type": "code",
   "execution_count": 178,
   "id": "7a4db563",
   "metadata": {},
   "outputs": [],
   "source": [
    "# Syntax:\n",
    "\n",
    "# def function_name(parameters):\n",
    "#    \"\"\"Docstring\"\"\"\n",
    "#    # function body\n",
    "#    return expression or value"
   ]
  },
  {
   "cell_type": "code",
   "execution_count": 179,
   "id": "daf47abb",
   "metadata": {},
   "outputs": [
    {
     "name": "stdout",
     "output_type": "stream",
     "text": [
      "24 is an even number\n",
      "33 is an odd number\n"
     ]
    }
   ],
   "source": [
    "# function with a single parameter\n",
    "def even_or_odd(num):\n",
    "    \"\"\"This function checks if a number is even or odd\"\"\"\n",
    "    if num % 2 == 0:\n",
    "        print(f\"{num} is an even number\")\n",
    "    else:\n",
    "        print(f\"{num} is an odd number\")\n",
    "\n",
    "# calling the function\n",
    "even_or_odd(24)\n",
    "even_or_odd(33)"
   ]
  },
  {
   "cell_type": "code",
   "execution_count": 180,
   "id": "bc078ec5",
   "metadata": {},
   "outputs": [
    {
     "name": "stdout",
     "output_type": "stream",
     "text": [
      "11\n"
     ]
    }
   ],
   "source": [
    "# function with multiple parameters\n",
    "def add(num1, num2):\n",
    "    \"\"\"This function adds two numbers\"\"\"\n",
    "    print(num1 + num2)\n",
    "\n",
    "# calling the function\n",
    "add(5, 6)\n"
   ]
  },
  {
   "cell_type": "markdown",
   "id": "da156673",
   "metadata": {},
   "source": [
    "#### Some functions have default parameters i.e., if we do not pass any value during function call, the default value declared in the function definition will be used."
   ]
  },
  {
   "cell_type": "code",
   "execution_count": 181,
   "id": "28d9aecb",
   "metadata": {},
   "outputs": [
    {
     "name": "stdout",
     "output_type": "stream",
     "text": [
      "Hello, Guest, Welcome to May Fair Resorts\n",
      "Hello, Krish, Welcome to May Fair Resorts\n"
     ]
    }
   ],
   "source": [
    "# default parameters\n",
    "\n",
    "def greeting(name=\"Guest\"):\n",
    "    \"\"\"This function greets a person\"\"\"\n",
    "    print(f\"Hello, {name}, Welcome to May Fair Resorts\")\n",
    "\n",
    "# calling the function\n",
    "greeting()\n",
    "greeting(\"Krish\")"
   ]
  },
  {
   "cell_type": "code",
   "execution_count": 182,
   "id": "bfbe4ffb",
   "metadata": {},
   "outputs": [
    {
     "name": "stdout",
     "output_type": "stream",
     "text": [
      "1\n",
      "2\n",
      "3\n",
      "4\n",
      "5\n",
      "6\n",
      "7\n",
      "8\n",
      "9\n",
      "10\n",
      "Soumya\n"
     ]
    }
   ],
   "source": [
    "# Variable length arguments (Positional Arguments and Keyword Arguments)\n",
    "\n",
    "# Positional Arguments as an example\n",
    "def print_numbers(*soumya):\n",
    "    \"\"\"Printing all numbers present in a list using positional arguments\"\"\"\n",
    "    for number in soumya:\n",
    "        print(number)\n",
    "\n",
    "# calling the function\n",
    "print_numbers(1, 2, 3, 4, 5, 6, 7, 8, 9, 10, \"Soumya\")"
   ]
  },
  {
   "cell_type": "code",
   "execution_count": 183,
   "id": "dc72ebbc",
   "metadata": {},
   "outputs": [
    {
     "name": "stdout",
     "output_type": "stream",
     "text": [
      "1\n",
      "2\n",
      "3\n",
      "4\n",
      "5\n",
      "6\n",
      "7\n",
      "8\n",
      "9\n",
      "10\n",
      "Soumya\n"
     ]
    }
   ],
   "source": [
    "# Use the keyword args for positional arguments as it is the best practice\n",
    "\n",
    "def print_numbers(*args):\n",
    "    \"\"\"Printing all numbers present in a list using positional arguments\"\"\"\n",
    "    for number in args:\n",
    "        print(number)\n",
    "\n",
    "# calling the function\n",
    "print_numbers(1, 2, 3, 4, 5, 6, 7, 8, 9, 10, \"Soumya\")"
   ]
  },
  {
   "cell_type": "code",
   "execution_count": 184,
   "id": "949bb19e",
   "metadata": {},
   "outputs": [
    {
     "name": "stdout",
     "output_type": "stream",
     "text": [
      "name : Soumya\n",
      "age : 25\n",
      "city : Bangalore\n"
     ]
    }
   ],
   "source": [
    "# Keyword Arguments\n",
    "\n",
    "# All the values for the keyword arguments are passed as a dictionary or in the form of a key-value pair\n",
    "\n",
    "# For best practice use keyword kwargs to pass a keyword arguments\n",
    "\n",
    "def print_details(**kwargs):\n",
    "    \"\"\"This function will display the details of the person\"\"\"\n",
    "    for key, value in kwargs.items():\n",
    "        print(f\"{key} : {value}\")\n",
    "\n",
    "# calling the function\n",
    "print_details(name=\"Soumya\", age=25, city=\"Bangalore\")"
   ]
  },
  {
   "cell_type": "code",
   "execution_count": 185,
   "id": "b2f21e5a",
   "metadata": {},
   "outputs": [
    {
     "name": "stdout",
     "output_type": "stream",
     "text": [
      "1\n",
      "2\n",
      "3\n",
      "4\n",
      "5\n",
      "name : Soumya\n",
      "age : 25\n",
      "city : Bangalore\n"
     ]
    }
   ],
   "source": [
    "# Using positional and keyword arguments together\n",
    "\n",
    "def print_details(*args, **kwargs):\n",
    "    \"\"\"This function will display the details of the person and the list of numbers\"\"\"\n",
    "    for value in args:\n",
    "        print(value)\n",
    "        \n",
    "    for key, value in kwargs.items():\n",
    "        print(f\"{key} : {value}\")\n",
    "\n",
    "# calling the function\n",
    "print_details(1, 2, 3, 4, 5, name=\"Soumya\", age=25, city=\"Bangalore\")"
   ]
  },
  {
   "cell_type": "markdown",
   "id": "fda4785a",
   "metadata": {},
   "source": [
    "Note: *args can only be used before **kwargs or as a single argument in a function definition. "
   ]
  },
  {
   "cell_type": "code",
   "execution_count": 186,
   "id": "8ba43431",
   "metadata": {},
   "outputs": [
    {
     "data": {
      "text/plain": [
       "30"
      ]
     },
     "execution_count": 186,
     "metadata": {},
     "output_type": "execute_result"
    }
   ],
   "source": [
    "# Returning a value from a function\n",
    "\n",
    "def multiply(num1, num2):\n",
    "    \"\"\"This function multiplies two numbers\"\"\"\n",
    "    return num1 * num2\n",
    "\n",
    "# calling the function\n",
    "multiply(5, 6)\n"
   ]
  },
  {
   "cell_type": "code",
   "execution_count": 187,
   "id": "9022b90a",
   "metadata": {},
   "outputs": [
    {
     "data": {
      "text/plain": [
       "(30, 11)"
      ]
     },
     "execution_count": 187,
     "metadata": {},
     "output_type": "execute_result"
    }
   ],
   "source": [
    "# Returning multiple values from a function as a tuple\n",
    "\n",
    "def multiply(num1, num2):\n",
    "    \"\"\"This function adds and multiplies two numbers\"\"\"\n",
    "    return num1 * num2, num1 + num2\n",
    "# Using the function to get the results\n",
    "multiply(5, 6)\n"
   ]
  },
  {
   "cell_type": "markdown",
   "id": "3c4a029d",
   "metadata": {},
   "source": [
    "#### Examples of Function:"
   ]
  },
  {
   "cell_type": "markdown",
   "id": "f4dce852",
   "metadata": {},
   "source": [
    "##### 1. Temperature Conversion"
   ]
  },
  {
   "cell_type": "code",
   "execution_count": 188,
   "id": "2972504d",
   "metadata": {},
   "outputs": [
    {
     "name": "stdout",
     "output_type": "stream",
     "text": [
      "86.0\n",
      "25.0\n"
     ]
    }
   ],
   "source": [
    "def convert_temperature(temp, unit):\n",
    "    \"\"\"This function converts temperature between celsius and fahrenheit\"\"\"\n",
    "    if unit == \"C\":\n",
    "        return temp * 9 / 5 + 32\n",
    "    elif unit == \"F\":\n",
    "        return (temp - 32) * 5 / 9\n",
    "    else:\n",
    "        return \"Invalid unit\"\n",
    "    \n",
    "# calling the function\n",
    "print(convert_temperature(30, \"C\"))\n",
    "print(convert_temperature(77, \"F\"))"
   ]
  },
  {
   "cell_type": "markdown",
   "id": "2d133038",
   "metadata": {},
   "source": [
    "##### 2. Password Strength Checker"
   ]
  },
  {
   "cell_type": "code",
   "execution_count": 189,
   "id": "4692b755",
   "metadata": {},
   "outputs": [
    {
     "name": "stdout",
     "output_type": "stream",
     "text": [
      "True\n",
      "False\n"
     ]
    }
   ],
   "source": [
    "def is_strong_password(password):\n",
    "    \"\"\"This function checks if a password is strong\"\"\"\n",
    "    if len(password) >= 8:\n",
    "        return True\n",
    "    if not any(char.isupper() for char in password):\n",
    "        return False\n",
    "    if not any(char.islower() for char in password):\n",
    "        return False\n",
    "    if not any(char.isdigit() for char in password):\n",
    "        return False\n",
    "    if not any(char in \"!@#$%^&*()_+-=\" for char in password):\n",
    "        return False\n",
    "    return True\n",
    "\n",
    "# calling the function\n",
    "print(is_strong_password(\"Adrv@123\"))\n",
    "print(is_strong_password(\"hello\"))"
   ]
  },
  {
   "cell_type": "markdown",
   "id": "092f1243",
   "metadata": {},
   "source": [
    "##### 3. Calculate the total costs of items in a shopping cart"
   ]
  },
  {
   "cell_type": "code",
   "execution_count": 190,
   "id": "c03fe80c",
   "metadata": {},
   "outputs": [
    {
     "name": "stdout",
     "output_type": "stream",
     "text": [
      "700\n"
     ]
    }
   ],
   "source": [
    "def calculate_total_cost(cart):\n",
    "    \"\"\"This function calculates the total cost of a shopping cart\"\"\"\n",
    "    total_cost = 0\n",
    "    for item in cart:\n",
    "        total_cost += item[\"price\"] * item[\"quantity\"]\n",
    "    return total_cost\n",
    "\n",
    "# calling the function\n",
    "cart = [\n",
    "    {\"name\": \"Shirt\", \"price\": 100, \"quantity\": 2}, \n",
    "    {\"name\": \"Jeans\", \"price\": 150, \"quantity\": 1}, \n",
    "    {\"name\": \"Shoes\", \"price\": 200, \"quantity\": 1},\n",
    "    {\"name\": \"Hat\", \"price\": 50, \"quantity\": 3}\n",
    "    ]\n",
    "print(calculate_total_cost(cart))"
   ]
  },
  {
   "cell_type": "markdown",
   "id": "d7e8ed6c",
   "metadata": {},
   "source": [
    "##### 4. Check if a string is a palindrome"
   ]
  },
  {
   "cell_type": "code",
   "execution_count": 191,
   "id": "c837a308",
   "metadata": {},
   "outputs": [
    {
     "name": "stdout",
     "output_type": "stream",
     "text": [
      "True\n",
      "False\n",
      "True\n"
     ]
    }
   ],
   "source": [
    "def is_palindrome(word):\n",
    "    \"\"\"This function checks if a word is a palindrome\"\"\"\n",
    "    word = word.lower().replace(\" \", \"\")\n",
    "    return word == word[::-1]\n",
    "\n",
    "# calling the function\n",
    "print(is_palindrome(\"racecar\"))\n",
    "print(is_palindrome(\"hello\"))\n",
    "print(is_palindrome(\"A man a plan a canal Panama\"))"
   ]
  },
  {
   "cell_type": "markdown",
   "id": "691f6955",
   "metadata": {},
   "source": [
    "##### 5. Calculate the factorial of a number using Recursion"
   ]
  },
  {
   "cell_type": "code",
   "execution_count": 192,
   "id": "e198e4e0",
   "metadata": {},
   "outputs": [
    {
     "data": {
      "text/plain": [
       "120"
      ]
     },
     "execution_count": 192,
     "metadata": {},
     "output_type": "execute_result"
    }
   ],
   "source": [
    "# Function which gets called inside the same function is known as recursive function\n",
    "# Factorial of 5 written as 5! = 5 * 4 * 3 * 2 * 1\n",
    "\n",
    "def factorial(n):\n",
    "    \"\"\"This function calculates the factorial of a number\"\"\"\n",
    "    if n == 0:\n",
    "        return 1\n",
    "    return n * factorial(n - 1)\n",
    "\n",
    "# calling the function    \n",
    "factorial(5)"
   ]
  },
  {
   "cell_type": "markdown",
   "id": "95adde7e",
   "metadata": {},
   "source": [
    "##### 6. A function to read a file and count the frequency of each word"
   ]
  },
  {
   "cell_type": "code",
   "execution_count": 193,
   "id": "2cb31868",
   "metadata": {},
   "outputs": [
    {
     "name": "stdout",
     "output_type": "stream",
     "text": [
      "Hello: 1\n",
      "Krish,: 1\n",
      "I: 2\n",
      "am: 2\n",
      "Soumyakant.: 1\n",
      "Nice: 1\n",
      "to: 1\n",
      "meet: 1\n",
      "you!: 1\n",
      "learning: 1\n",
      "Python.: 1\n"
     ]
    }
   ],
   "source": [
    "def count_word_frequency(filepath):\n",
    "    \"\"\"This function counts the frequency of each word in a file\"\"\"\n",
    "    word_frequency = {}\n",
    "    with open(filepath, \"r\") as file:\n",
    "        for line in file:\n",
    "            words = line.split()\n",
    "            for word in words:\n",
    "                if word in word_frequency:\n",
    "                    word_frequency[word] += 1\n",
    "                else:\n",
    "                    word_frequency[word] = 1\n",
    "    return word_frequency\n",
    "\n",
    "# calling the function\n",
    "filepath = \"sample.txt\"\n",
    "word_frequency = count_word_frequency(filepath)\n",
    "for word, frequency in word_frequency.items():\n",
    "    print(f\"{word}: {frequency}\")"
   ]
  },
  {
   "cell_type": "code",
   "execution_count": 194,
   "id": "aca18716",
   "metadata": {},
   "outputs": [
    {
     "name": "stdout",
     "output_type": "stream",
     "text": [
      "{'Hello': 1, 'Krish,': 1, 'I': 2, 'am': 2, 'Soumyakant.': 1, 'Nice': 1, 'to': 1, 'meet': 1, 'you!': 1, 'learning': 1, 'Python.': 1}\n"
     ]
    }
   ],
   "source": [
    "def count_word_frequency(filepath):\n",
    "    \"\"\"This function counts the frequency of each word in a file\"\"\"\n",
    "    word_frequency = {}\n",
    "    with open(filepath, \"r\") as file:\n",
    "        for line in file:\n",
    "            words = line.split()\n",
    "            for word in words:\n",
    "                if word in word_frequency:\n",
    "                    word_frequency[word] += 1\n",
    "                else:\n",
    "                    word_frequency[word] = 1\n",
    "    return word_frequency\n",
    "\n",
    "# calling the function\n",
    "print(count_word_frequency(\"sample.txt\"))"
   ]
  },
  {
   "cell_type": "markdown",
   "id": "192b2ee0",
   "metadata": {},
   "source": [
    "##### 7. Validate Email Address"
   ]
  },
  {
   "cell_type": "code",
   "execution_count": 195,
   "id": "690ea535",
   "metadata": {},
   "outputs": [
    {
     "name": "stdout",
     "output_type": "stream",
     "text": [
      "True\n",
      "False\n"
     ]
    }
   ],
   "source": [
    "import re\n",
    "\n",
    "def is_valid_email(email):\n",
    "    \"\"\"This function checks if an email is valid\"\"\"\n",
    "    pattern = r\"^[a-zA-Z0-9._%+-]+@[a-zA-Z0-9.-]+\\.[a-zA-Z]{2,}$\"\n",
    "    return re.match(pattern, email) is not None\n",
    "\n",
    "# calling the function\n",
    "print(is_valid_email(\"2V0t0@example.com\"))\n",
    "print(is_valid_email(\"soumya123gmailcom\"))"
   ]
  }
 ],
 "metadata": {
  "kernelspec": {
   "display_name": "base",
   "language": "python",
   "name": "python3"
  },
  "language_info": {
   "codemirror_mode": {
    "name": "ipython",
    "version": 3
   },
   "file_extension": ".py",
   "mimetype": "text/x-python",
   "name": "python",
   "nbconvert_exporter": "python",
   "pygments_lexer": "ipython3",
   "version": "3.12.7"
  }
 },
 "nbformat": 4,
 "nbformat_minor": 5
}

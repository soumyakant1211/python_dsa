{
 "cells": [
  {
   "cell_type": "markdown",
   "id": "0afef002",
   "metadata": {},
   "source": [
    "Modules and Packages helps in organizing and reusing codes. Packages or modules can be imported by two ways:\n",
    "1. import package_name\n",
    "2. from package_name import module_name"
   ]
  },
  {
   "cell_type": "code",
   "execution_count": 57,
   "id": "9dea8cd9",
   "metadata": {},
   "outputs": [
    {
     "name": "stdout",
     "output_type": "stream",
     "text": [
      "2.0\n",
      "3.0\n",
      "3.141592653589793\n"
     ]
    }
   ],
   "source": [
    "import math\n",
    "print(math.sqrt(4))\n",
    "print(math.sqrt(9))\n",
    "print(math.pi)"
   ]
  },
  {
   "cell_type": "code",
   "execution_count": 58,
   "id": "eec4d482",
   "metadata": {},
   "outputs": [
    {
     "name": "stdout",
     "output_type": "stream",
     "text": [
      "[1 2 3]\n",
      "<class 'numpy.ndarray'>\n"
     ]
    }
   ],
   "source": [
    "import numpy as np\n",
    "np_array = np.array([1, 2, 3])\n",
    "print(np_array)\n",
    "print(type(np_array))"
   ]
  },
  {
   "cell_type": "code",
   "execution_count": 59,
   "id": "ad757b3e",
   "metadata": {},
   "outputs": [
    {
     "name": "stdout",
     "output_type": "stream",
     "text": [
      "3\n"
     ]
    }
   ],
   "source": [
    "from package.maths import addition\n",
    "print(addition(1, 2))"
   ]
  },
  {
   "cell_type": "code",
   "execution_count": 60,
   "id": "4531f914",
   "metadata": {},
   "outputs": [
    {
     "name": "stdout",
     "output_type": "stream",
     "text": [
      "7\n",
      "2\n"
     ]
    }
   ],
   "source": [
    "from package.maths import *\n",
    "print(addition(3, 4))\n",
    "print(subtraction(5, 3))"
   ]
  },
  {
   "cell_type": "code",
   "execution_count": 61,
   "id": "1ec3e2ec",
   "metadata": {},
   "outputs": [
    {
     "name": "stdout",
     "output_type": "stream",
     "text": [
      "6\n"
     ]
    }
   ],
   "source": [
    "from package.subpackages import mult\n",
    "\n",
    "print(mult.multiply(2, 3))"
   ]
  }
 ],
 "metadata": {
  "kernelspec": {
   "display_name": "Python 3",
   "language": "python",
   "name": "python3"
  },
  "language_info": {
   "codemirror_mode": {
    "name": "ipython",
    "version": 3
   },
   "file_extension": ".py",
   "mimetype": "text/x-python",
   "name": "python",
   "nbconvert_exporter": "python",
   "pygments_lexer": "ipython3",
   "version": "3.11.11"
  }
 },
 "nbformat": 4,
 "nbformat_minor": 5
}

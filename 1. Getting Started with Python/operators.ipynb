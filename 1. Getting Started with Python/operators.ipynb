{
 "cells": [
  {
   "cell_type": "markdown",
   "id": "3e53a47e",
   "metadata": {},
   "source": [
    "Operators in Python"
   ]
  },
  {
   "cell_type": "markdown",
   "id": "3d53fbc1",
   "metadata": {},
   "source": [
    "Arithmetic Operators"
   ]
  },
  {
   "cell_type": "code",
   "execution_count": 56,
   "id": "329fadbf",
   "metadata": {},
   "outputs": [
    {
     "name": "stdout",
     "output_type": "stream",
     "text": [
      "15\n"
     ]
    }
   ],
   "source": [
    "# Addition Operation\n",
    "\n",
    "a = 10\n",
    "b = 5\n",
    "c = a + b\n",
    "print(c)"
   ]
  },
  {
   "cell_type": "code",
   "execution_count": 57,
   "id": "cfaddc47",
   "metadata": {},
   "outputs": [
    {
     "name": "stdout",
     "output_type": "stream",
     "text": [
      "5\n"
     ]
    }
   ],
   "source": [
    "# Substraction Operation\n",
    "\n",
    "c = a - b\n",
    "print(c)"
   ]
  },
  {
   "cell_type": "code",
   "execution_count": 58,
   "id": "9d15ea42",
   "metadata": {},
   "outputs": [
    {
     "name": "stdout",
     "output_type": "stream",
     "text": [
      "50\n"
     ]
    }
   ],
   "source": [
    "# Multiplication Operation\n",
    "\n",
    "c = a * b\n",
    "print(c)"
   ]
  },
  {
   "cell_type": "code",
   "execution_count": 59,
   "id": "286a1750",
   "metadata": {},
   "outputs": [
    {
     "name": "stdout",
     "output_type": "stream",
     "text": [
      "2.0\n"
     ]
    }
   ],
   "source": [
    "# Division Operation\n",
    "\n",
    "c = a / b\n",
    "print(c)"
   ]
  },
  {
   "cell_type": "code",
   "execution_count": 60,
   "id": "b1e8d621",
   "metadata": {},
   "outputs": [
    {
     "name": "stdout",
     "output_type": "stream",
     "text": [
      "2\n"
     ]
    }
   ],
   "source": [
    "# Floor Division Operation\n",
    "\n",
    "c = a // b\n",
    "print(c)"
   ]
  },
  {
   "cell_type": "code",
   "execution_count": 61,
   "id": "96d75021",
   "metadata": {},
   "outputs": [
    {
     "name": "stdout",
     "output_type": "stream",
     "text": [
      "3.3333333333333335\n",
      "3\n"
     ]
    }
   ],
   "source": [
    "num1 = 10\n",
    "num2 = 3\n",
    "\n",
    "# Division Operation\n",
    "print(num1 / num2) \n",
    "\n",
    "# Floor Division Operation\n",
    "print(num1 // num2)\n",
    "\n",
    "# Floor Division Operation uses the floor function logic i.e., it rounds off the result to the nearest whole number. If the result is 4.2 or 4.7, then it rounds off to 4."
   ]
  },
  {
   "cell_type": "code",
   "execution_count": 62,
   "id": "6cc4b896",
   "metadata": {},
   "outputs": [
    {
     "name": "stdout",
     "output_type": "stream",
     "text": [
      "0\n"
     ]
    }
   ],
   "source": [
    "# Modulus Operation\n",
    "\n",
    "c = a % b\n",
    "print(c)"
   ]
  },
  {
   "cell_type": "code",
   "execution_count": 63,
   "id": "79131b02",
   "metadata": {},
   "outputs": [
    {
     "name": "stdout",
     "output_type": "stream",
     "text": [
      "100000\n"
     ]
    }
   ],
   "source": [
    "# Exponent Operation\n",
    "\n",
    "c = a ** b\n",
    "print(c)"
   ]
  },
  {
   "cell_type": "markdown",
   "id": "252fec95",
   "metadata": {},
   "source": [
    "Comparision Operators"
   ]
  },
  {
   "cell_type": "code",
   "execution_count": 64,
   "id": "5408168c",
   "metadata": {},
   "outputs": [
    {
     "name": "stdout",
     "output_type": "stream",
     "text": [
      "True\n",
      "False\n"
     ]
    }
   ],
   "source": [
    "# Equality Operation (==)\n",
    "\n",
    "x = 10\n",
    "y = 10\n",
    "print(x == y)\n",
    "\n",
    "name1 = \"Tripathy\"\n",
    "name2 = \"tripathy\"\n",
    "print(name1 == name2)\n"
   ]
  },
  {
   "cell_type": "code",
   "execution_count": 65,
   "id": "a26fec04",
   "metadata": {},
   "outputs": [
    {
     "name": "stdout",
     "output_type": "stream",
     "text": [
      "True\n"
     ]
    }
   ],
   "source": [
    "# Inequality Operation (!=)\n",
    "\n",
    "name1 != name2\n",
    "\n",
    "x = \"Soumyakant\"\n",
    "y = \"soumyakant\"\n",
    "print(x != y)"
   ]
  },
  {
   "cell_type": "code",
   "execution_count": 66,
   "id": "1eb6a153",
   "metadata": {},
   "outputs": [
    {
     "name": "stdout",
     "output_type": "stream",
     "text": [
      "True\n"
     ]
    }
   ],
   "source": [
    "# Greater than Operation (>)\n",
    "\n",
    "x = 10\n",
    "y = 5\n",
    "print(x > y)"
   ]
  },
  {
   "cell_type": "code",
   "execution_count": 67,
   "id": "75765cc1",
   "metadata": {},
   "outputs": [
    {
     "name": "stdout",
     "output_type": "stream",
     "text": [
      "False\n"
     ]
    }
   ],
   "source": [
    "# Less than Operation (<)\n",
    "\n",
    "print(x < y)"
   ]
  },
  {
   "cell_type": "code",
   "execution_count": 68,
   "id": "fe967b0c",
   "metadata": {},
   "outputs": [
    {
     "name": "stdout",
     "output_type": "stream",
     "text": [
      "True\n"
     ]
    }
   ],
   "source": [
    "# Greater than or equal to Operation (>=)\n",
    "\n",
    "x = 10\n",
    "y = 10\n",
    "print(x >= y)"
   ]
  },
  {
   "cell_type": "code",
   "execution_count": 69,
   "id": "28b2f579",
   "metadata": {},
   "outputs": [
    {
     "name": "stdout",
     "output_type": "stream",
     "text": [
      "True\n"
     ]
    }
   ],
   "source": [
    "# Less than or equal to Operation (<=)\n",
    "\n",
    "x = 10\n",
    "y = 10\n",
    "print(x <= y)"
   ]
  },
  {
   "cell_type": "markdown",
   "id": "7795b928",
   "metadata": {},
   "source": [
    "Logical Operators"
   ]
  },
  {
   "cell_type": "code",
   "execution_count": 70,
   "id": "3d4bbd99",
   "metadata": {},
   "outputs": [
    {
     "name": "stdout",
     "output_type": "stream",
     "text": [
      "False\n"
     ]
    }
   ],
   "source": [
    "# AND Operation\n",
    "# If both the conditions are true, then the result will be true\n",
    "\n",
    "x = True\n",
    "y = False\n",
    "print(x and y)"
   ]
  },
  {
   "cell_type": "code",
   "execution_count": 71,
   "id": "95beedb4",
   "metadata": {},
   "outputs": [
    {
     "name": "stdout",
     "output_type": "stream",
     "text": [
      "True\n"
     ]
    }
   ],
   "source": [
    "# OR Operation\n",
    "# If any one of the conditions is true, then the result will be true\n",
    "\n",
    "x = True\n",
    "y = False\n",
    "print(x or y)"
   ]
  },
  {
   "cell_type": "code",
   "execution_count": 72,
   "id": "465b3f80",
   "metadata": {},
   "outputs": [
    {
     "name": "stdout",
     "output_type": "stream",
     "text": [
      "False\n"
     ]
    }
   ],
   "source": [
    "# NOT Operation\n",
    "# If the condition is false, then the result will be true\n",
    "\n",
    "x = True\n",
    "print(not x)"
   ]
  },
  {
   "cell_type": "markdown",
   "id": "352335d1",
   "metadata": {},
   "source": [
    "Simple Calculator Program with some more Arithmetic Operators"
   ]
  },
  {
   "cell_type": "code",
   "execution_count": 73,
   "id": "6a07aa6e",
   "metadata": {},
   "outputs": [
    {
     "name": "stdout",
     "output_type": "stream",
     "text": [
      "The sum of 80.0 and 40.0 is 120.0\n",
      "The difference between 80.0 and 40.0 is 40.0\n",
      "The product of 80.0 and 40.0 is 3200.0\n",
      "The quotient of 80.0 and 40.0 is 2.0\n",
      "The floor division of 80.0 and 40.0 is 2.0\n",
      "The modulus of 80.0 and 40.0 is 0.0\n",
      "The exponent of 80.0 and 40.0 is 1.3292279957849159e+76\n"
     ]
    }
   ],
   "source": [
    "number1 = float(input(\"Enter a number: \"))\n",
    "number2 = float(input(\"Enter another number: \"))\n",
    "\n",
    "# Perform arithmetic operations\n",
    "addition = number1 + number2\n",
    "subtraction = number1 - number2\n",
    "multiplication = number1 * number2\n",
    "division = number1 / number2\n",
    "floor_division = number1 // number2\n",
    "modulus = number1 % number2\n",
    "exponent = number1 ** number2\n",
    "\n",
    "# Print the results\n",
    "print(\"The sum of\", number1, \"and\", number2, \"is\", addition)\n",
    "print(\"The difference between\", number1, \"and\", number2, \"is\", subtraction)\n",
    "print(\"The product of\", number1, \"and\", number2, \"is\", multiplication)\n",
    "print(\"The quotient of\", number1, \"and\", number2, \"is\", division)\n",
    "print(\"The floor division of\", number1, \"and\", number2, \"is\", floor_division)\n",
    "print(\"The modulus of\", number1, \"and\", number2, \"is\", modulus)\n",
    "print(\"The exponent of\", number1, \"and\", number2, \"is\", exponent)"
   ]
  }
 ],
 "metadata": {
  "kernelspec": {
   "display_name": "base",
   "language": "python",
   "name": "python3"
  },
  "language_info": {
   "codemirror_mode": {
    "name": "ipython",
    "version": 3
   },
   "file_extension": ".py",
   "mimetype": "text/x-python",
   "name": "python",
   "nbconvert_exporter": "python",
   "pygments_lexer": "ipython3",
   "version": "3.12.7"
  }
 },
 "nbformat": 4,
 "nbformat_minor": 5
}

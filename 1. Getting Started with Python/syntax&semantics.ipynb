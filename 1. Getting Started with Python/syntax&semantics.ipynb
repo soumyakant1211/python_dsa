{
 "cells": [
  {
   "cell_type": "markdown",
   "id": "769e7e03",
   "metadata": {
    "vscode": {
     "languageId": "plaintext"
    }
   },
   "source": [
    "Syntax and Semantics in Python"
   ]
  },
  {
   "cell_type": "markdown",
   "id": "fc81d350",
   "metadata": {},
   "source": [
    "Syntax refers to a set of rules that define a combination of symbols that are considered to be correctly structured programs in a language. In simpler terms, syntax is about the correct arrangements of words and symbols in a code."
   ]
  },
  {
   "cell_type": "markdown",
   "id": "ba69c597",
   "metadata": {},
   "source": [
    "Semantics refer to the meaning or the interpretation of the symbols, characters and commands in a language. It is about what the code is supposed to do when it runs."
   ]
  },
  {
   "cell_type": "markdown",
   "id": "89c4da01",
   "metadata": {},
   "source": [
    "Basic Syntax Rules in Python:\n",
    "1. Case Sensitivity\n",
    "2. Indentation\n",
    "3. Comments\n",
    "4. Line Continuation\n",
    "5. Multiple Statements in a single line"
   ]
  },
  {
   "cell_type": "code",
   "execution_count": 17,
   "id": "a4f38710",
   "metadata": {},
   "outputs": [
    {
     "name": "stdout",
     "output_type": "stream",
     "text": [
      "Soumyakant\n",
      "Tripathy\n"
     ]
    }
   ],
   "source": [
    "## Case Sensitivity\n",
    "name = \"Soumyakant\"\n",
    "Name = \"Tripathy\"\n",
    "print(name)\n",
    "print(Name)"
   ]
  },
  {
   "cell_type": "markdown",
   "id": "4cf1b9c8",
   "metadata": {},
   "source": [
    "Indentation in Python is used to define the structure and hierarchy of the code. Unlike many other programming languages, that use braces {} to delimit the blocks of code. Python uses indentation to determine the grouping of statements which means that all the statement within a block must be indented at the same level. Python uses indentation to define blocks of code and consistent use of spaces (commonly 4) or a tab is required."
   ]
  },
  {
   "cell_type": "code",
   "execution_count": 18,
   "id": "e2a6824e",
   "metadata": {},
   "outputs": [
    {
     "name": "stdout",
     "output_type": "stream",
     "text": [
      "Young\n",
      "25\n"
     ]
    }
   ],
   "source": [
    "age = 25\n",
    "if age < 30:\n",
    "    print(\"Young\")\n",
    "print(age)"
   ]
  },
  {
   "cell_type": "code",
   "execution_count": 19,
   "id": "c3a578fb",
   "metadata": {},
   "outputs": [
    {
     "name": "stdout",
     "output_type": "stream",
     "text": [
      "Hello, Guys, how are you?\n"
     ]
    }
   ],
   "source": [
    "## This is a single line comment\n",
    "print(\"Hello, Guys, how are you?\")"
   ]
  },
  {
   "cell_type": "code",
   "execution_count": 20,
   "id": "f43ea00e",
   "metadata": {},
   "outputs": [
    {
     "name": "stdout",
     "output_type": "stream",
     "text": [
      "43\n"
     ]
    }
   ],
   "source": [
    "## Line Continuation\n",
    "total=1+2+3+4+5+6+7+\\\n",
    "4+5+6\n",
    "print(total)"
   ]
  },
  {
   "cell_type": "code",
   "execution_count": 21,
   "id": "8ec789e7",
   "metadata": {},
   "outputs": [
    {
     "name": "stdout",
     "output_type": "stream",
     "text": [
      "15\n"
     ]
    }
   ],
   "source": [
    "## Multiple Statements on a Single Line\n",
    "x=5; y=10; z=x+y\n",
    "print(z)"
   ]
  },
  {
   "cell_type": "code",
   "execution_count": 22,
   "id": "af42f63a",
   "metadata": {},
   "outputs": [
    {
     "ename": "NameError",
     "evalue": "name 'b' is not defined",
     "output_type": "error",
     "traceback": [
      "\u001b[1;31m---------------------------------------------------------------------------\u001b[0m",
      "\u001b[1;31mNameError\u001b[0m                                 Traceback (most recent call last)",
      "Cell \u001b[1;32mIn[22], line 2\u001b[0m\n\u001b[0;32m      1\u001b[0m \u001b[38;5;66;03m## Syntax error (NameError)\u001b[39;00m\n\u001b[1;32m----> 2\u001b[0m a\u001b[38;5;241m=\u001b[39mb\n",
      "\u001b[1;31mNameError\u001b[0m: name 'b' is not defined"
     ]
    }
   ],
   "source": [
    "## Syntax error (NameError)\n",
    "a=b"
   ]
  },
  {
   "cell_type": "markdown",
   "id": "816f1154",
   "metadata": {},
   "source": [
    "Understanding Semantics in Python with the help of variable assignment and indentation."
   ]
  },
  {
   "cell_type": "code",
   "execution_count": 23,
   "id": "5a0c5f16",
   "metadata": {},
   "outputs": [
    {
     "name": "stdout",
     "output_type": "stream",
     "text": [
      "<class 'int'>\n",
      "<class 'str'>\n"
     ]
    }
   ],
   "source": [
    "## This is an example of Type Inference\n",
    "age = 25\n",
    "name = \"Soumyakant\"\n",
    "print(type(age))\n",
    "print(type(name))"
   ]
  },
  {
   "cell_type": "code",
   "execution_count": 24,
   "id": "2d8632e6",
   "metadata": {},
   "outputs": [
    {
     "name": "stdout",
     "output_type": "stream",
     "text": [
      "Correct Indentation\n",
      "This will be printed\n",
      "Outside if block\n"
     ]
    }
   ],
   "source": [
    "if True:\n",
    "    print(\"Correct Indentation\")\n",
    "    if False:\n",
    "        print(\"This will not be printed\")\n",
    "    print(\"This will be printed\")\n",
    "print(\"Outside if block\")"
   ]
  }
 ],
 "metadata": {
  "kernelspec": {
   "display_name": "base",
   "language": "python",
   "name": "python3"
  },
  "language_info": {
   "codemirror_mode": {
    "name": "ipython",
    "version": 3
   },
   "file_extension": ".py",
   "mimetype": "text/x-python",
   "name": "python",
   "nbconvert_exporter": "python",
   "pygments_lexer": "ipython3",
   "version": "3.12.7"
  }
 },
 "nbformat": 4,
 "nbformat_minor": 5
}

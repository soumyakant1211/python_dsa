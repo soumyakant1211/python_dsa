{
 "cells": [
  {
   "cell_type": "markdown",
   "id": "6e7933e6",
   "metadata": {},
   "source": [
    "Datatypes in Python"
   ]
  },
  {
   "cell_type": "markdown",
   "id": "5a13cb65",
   "metadata": {},
   "source": [
    "Datatypes are classification of data which tell the compiler or interpreter how the programmer intends to use the data.\n",
    "\n",
    "They determine the type of operations that can be performed on the data, the values, the data can take and the amount of memory needed to store that data.\n",
    "\n",
    "Importance of Datatypes:\n",
    "Datatypes ensure that data is stored in an efficient way.\n",
    "They help in performing correct operations on data.\n",
    "Proper use of datatypes can prevent errors and bugs in the program."
   ]
  },
  {
   "cell_type": "markdown",
   "id": "9ffcd737",
   "metadata": {},
   "source": [
    "Integers"
   ]
  },
  {
   "cell_type": "code",
   "execution_count": 8,
   "id": "3ef9d105",
   "metadata": {},
   "outputs": [
    {
     "data": {
      "text/plain": [
       "int"
      ]
     },
     "execution_count": 8,
     "metadata": {},
     "output_type": "execute_result"
    }
   ],
   "source": [
    "age = 25\n",
    "type(age)"
   ]
  },
  {
   "cell_type": "markdown",
   "id": "350b1cd6",
   "metadata": {},
   "source": [
    "Floating Type"
   ]
  },
  {
   "cell_type": "code",
   "execution_count": 9,
   "id": "9e50a50f",
   "metadata": {},
   "outputs": [
    {
     "data": {
      "text/plain": [
       "float"
      ]
     },
     "execution_count": 9,
     "metadata": {},
     "output_type": "execute_result"
    }
   ],
   "source": [
    "height = 6.4\n",
    "type(height)"
   ]
  },
  {
   "cell_type": "markdown",
   "id": "ce876806",
   "metadata": {},
   "source": [
    "Strings"
   ]
  },
  {
   "cell_type": "code",
   "execution_count": 10,
   "id": "bb8d4891",
   "metadata": {},
   "outputs": [
    {
     "data": {
      "text/plain": [
       "str"
      ]
     },
     "execution_count": 10,
     "metadata": {},
     "output_type": "execute_result"
    }
   ],
   "source": [
    "name = \"Soumyakant\"\n",
    "type(name)"
   ]
  },
  {
   "cell_type": "markdown",
   "id": "54bc58fa",
   "metadata": {},
   "source": [
    "Boolean"
   ]
  },
  {
   "cell_type": "code",
   "execution_count": 11,
   "id": "51b16a7c",
   "metadata": {},
   "outputs": [
    {
     "data": {
      "text/plain": [
       "bool"
      ]
     },
     "execution_count": 11,
     "metadata": {},
     "output_type": "execute_result"
    }
   ],
   "source": [
    "True\n",
    "type(True)"
   ]
  },
  {
   "cell_type": "code",
   "execution_count": 12,
   "id": "f5a20ae8",
   "metadata": {},
   "outputs": [
    {
     "data": {
      "text/plain": [
       "bool"
      ]
     },
     "execution_count": 12,
     "metadata": {},
     "output_type": "execute_result"
    }
   ],
   "source": [
    "is_married = False\n",
    "type(is_married)"
   ]
  },
  {
   "cell_type": "code",
   "execution_count": 13,
   "id": "48fc5940",
   "metadata": {},
   "outputs": [
    {
     "data": {
      "text/plain": [
       "bool"
      ]
     },
     "execution_count": 13,
     "metadata": {},
     "output_type": "execute_result"
    }
   ],
   "source": [
    "a = 10\n",
    "b = 10\n",
    "type(a == b)"
   ]
  },
  {
   "cell_type": "markdown",
   "id": "632eda3b",
   "metadata": {},
   "source": [
    "Common Errors:\n",
    "\n",
    "The below code will give TypeError as Strings and Integers cannot be concatenated."
   ]
  },
  {
   "cell_type": "code",
   "execution_count": 14,
   "id": "df2b0af8",
   "metadata": {},
   "outputs": [],
   "source": [
    "# result = \"Hello\" + 5"
   ]
  },
  {
   "cell_type": "code",
   "execution_count": 15,
   "id": "0b286ad6",
   "metadata": {},
   "outputs": [
    {
     "name": "stdout",
     "output_type": "stream",
     "text": [
      "Hello5\n"
     ]
    }
   ],
   "source": [
    "result = \"Hello\" + \"5\"\n",
    "print(result)"
   ]
  },
  {
   "cell_type": "code",
   "execution_count": 16,
   "id": "c4700929",
   "metadata": {},
   "outputs": [
    {
     "name": "stdout",
     "output_type": "stream",
     "text": [
      "Hello5\n"
     ]
    }
   ],
   "source": [
    "result = \"Hello\" + str(5)\n",
    "print(result)"
   ]
  }
 ],
 "metadata": {
  "kernelspec": {
   "display_name": "base",
   "language": "python",
   "name": "python3"
  },
  "language_info": {
   "codemirror_mode": {
    "name": "ipython",
    "version": 3
   },
   "file_extension": ".py",
   "mimetype": "text/x-python",
   "name": "python",
   "nbconvert_exporter": "python",
   "pygments_lexer": "ipython3",
   "version": "3.12.7"
  }
 },
 "nbformat": 4,
 "nbformat_minor": 5
}

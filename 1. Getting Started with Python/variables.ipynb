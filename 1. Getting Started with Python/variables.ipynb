{
 "cells": [
  {
   "cell_type": "markdown",
   "id": "a69fcd3a",
   "metadata": {},
   "source": [
    "Variables in Python"
   ]
  },
  {
   "cell_type": "markdown",
   "id": "f1ba140b",
   "metadata": {},
   "source": [
    "Variables are the fundamentals elements in the programming used to store data that can be referenced and manipulated in a program. In Python, variables are created when you assign a value to them, and they do not need explicit declaration to reserve memory space. The declaration happens automatically when you assign to a variable"
   ]
  },
  {
   "cell_type": "code",
   "execution_count": 1,
   "id": "80173694",
   "metadata": {},
   "outputs": [],
   "source": [
    "a = 100"
   ]
  },
  {
   "cell_type": "markdown",
   "id": "8d24036f",
   "metadata": {},
   "source": [
    "Declaring and Assigning Variables:"
   ]
  },
  {
   "cell_type": "code",
   "execution_count": 2,
   "id": "72569d44",
   "metadata": {},
   "outputs": [],
   "source": [
    "age = 25\n",
    "height = 6.4\n",
    "name = \"Soumyakant\"\n",
    "is_student = True"
   ]
  },
  {
   "cell_type": "markdown",
   "id": "7bc403f0",
   "metadata": {},
   "source": [
    "Printing the variables:"
   ]
  },
  {
   "cell_type": "code",
   "execution_count": 3,
   "id": "570c14bb",
   "metadata": {},
   "outputs": [
    {
     "name": "stdout",
     "output_type": "stream",
     "text": [
      "Age: 25\n",
      "Height: 6.4\n",
      "Name: Soumyakant\n"
     ]
    }
   ],
   "source": [
    "print(\"Age:\", age)\n",
    "print(\"Height:\", height)\n",
    "print(\"Name:\", name)"
   ]
  },
  {
   "cell_type": "markdown",
   "id": "1664d5fe",
   "metadata": {},
   "source": [
    "Naming Conventions:\n",
    "Variable names should be descriptive\n",
    "They should start with a letter or an '_' and should contains letters, numbers and underscores\n",
    "Variable names are case sensitive"
   ]
  },
  {
   "cell_type": "code",
   "execution_count": 4,
   "id": "2df985bf",
   "metadata": {},
   "outputs": [],
   "source": [
    "## Valid Variable Names\n",
    "\n",
    "first_name = \"Soumyakant\"\n",
    "last_name = \"Tripathy\""
   ]
  },
  {
   "cell_type": "code",
   "execution_count": 5,
   "id": "eab32af9",
   "metadata": {},
   "outputs": [],
   "source": [
    "## Invalid Variable Names\n",
    "\n",
    "# 2age = 25\n",
    "# first-name = \"Soumyakant\"\n",
    "# @name = \"Soumyakant\""
   ]
  },
  {
   "cell_type": "code",
   "execution_count": 6,
   "id": "9e862323",
   "metadata": {},
   "outputs": [
    {
     "name": "stdout",
     "output_type": "stream",
     "text": [
      "Soumyakant\n",
      "Tripathy\n"
     ]
    }
   ],
   "source": [
    "## Case Sensitivity\n",
    "\n",
    "name = \"Soumyakant\"\n",
    "Name = \"Tripathy\"\n",
    "\n",
    "print(name)\n",
    "print(Name)"
   ]
  },
  {
   "cell_type": "markdown",
   "id": "ae83b1d8",
   "metadata": {},
   "source": [
    "Types of Variables: \n",
    "\n",
    "Python is a dynamically typed language. The type of variable is assigned at the runtime."
   ]
  },
  {
   "cell_type": "code",
   "execution_count": 7,
   "id": "308dabd3",
   "metadata": {},
   "outputs": [],
   "source": [
    "age = 25\n",
    "height = 6.4\n",
    "name = \"Soumyakant\"\n",
    "is_student = True"
   ]
  },
  {
   "cell_type": "markdown",
   "id": "5ad3dec1",
   "metadata": {},
   "source": [
    "Type Checking:"
   ]
  },
  {
   "cell_type": "code",
   "execution_count": 8,
   "id": "ebca38fd",
   "metadata": {},
   "outputs": [
    {
     "name": "stdout",
     "output_type": "stream",
     "text": [
      "<class 'int'>\n",
      "<class 'float'>\n",
      "<class 'str'>\n",
      "<class 'bool'>\n"
     ]
    }
   ],
   "source": [
    "print(type(age))\n",
    "print(type(height))\n",
    "print(type(name))\n",
    "print(type(is_student))"
   ]
  },
  {
   "cell_type": "markdown",
   "id": "3d58da1f",
   "metadata": {},
   "source": [
    "Type Conversion:"
   ]
  },
  {
   "cell_type": "code",
   "execution_count": 9,
   "id": "eda2840e",
   "metadata": {},
   "outputs": [
    {
     "name": "stdout",
     "output_type": "stream",
     "text": [
      "25 <class 'str'>\n"
     ]
    }
   ],
   "source": [
    "age_str = str(age)\n",
    "print(age_str,type(age_str))"
   ]
  },
  {
   "cell_type": "code",
   "execution_count": 10,
   "id": "8f1ff34d",
   "metadata": {},
   "outputs": [
    {
     "name": "stdout",
     "output_type": "stream",
     "text": [
      "<class 'int'>\n"
     ]
    }
   ],
   "source": [
    "age = \"25\"\n",
    "print(type(int(age)))"
   ]
  },
  {
   "cell_type": "markdown",
   "id": "73cc6950",
   "metadata": {},
   "source": [
    "The below code will give value error as characters cannot be converted into integer"
   ]
  },
  {
   "cell_type": "code",
   "execution_count": 11,
   "id": "1f349047",
   "metadata": {},
   "outputs": [],
   "source": [
    "# name = \"Soumyakant\"\n",
    "# int(name)"
   ]
  },
  {
   "cell_type": "code",
   "execution_count": 12,
   "id": "73ae4287",
   "metadata": {},
   "outputs": [
    {
     "data": {
      "text/plain": [
       "6"
      ]
     },
     "execution_count": 12,
     "metadata": {},
     "output_type": "execute_result"
    }
   ],
   "source": [
    "int(height)"
   ]
  },
  {
   "cell_type": "code",
   "execution_count": 13,
   "id": "b0e66ba2",
   "metadata": {},
   "outputs": [
    {
     "data": {
      "text/plain": [
       "6.0"
      ]
     },
     "execution_count": 13,
     "metadata": {},
     "output_type": "execute_result"
    }
   ],
   "source": [
    "float(int(height))"
   ]
  },
  {
   "cell_type": "markdown",
   "id": "8c26ca26",
   "metadata": {},
   "source": [
    "Dynamic Typing:\n",
    "\n",
    "Python allows the type of variable to change as the program executes."
   ]
  },
  {
   "cell_type": "code",
   "execution_count": 14,
   "id": "51f03569",
   "metadata": {},
   "outputs": [
    {
     "name": "stdout",
     "output_type": "stream",
     "text": [
      "10\n",
      "<class 'int'>\n",
      "Hello\n",
      "<class 'str'>\n",
      "True\n",
      "<class 'bool'>\n"
     ]
    }
   ],
   "source": [
    "var = 10\n",
    "print(var)\n",
    "print(type(var))\n",
    "\n",
    "var = \"Hello\"\n",
    "print(var)\n",
    "print(type(var))\n",
    "\n",
    "var = True\n",
    "print(var)\n",
    "print(type(var))"
   ]
  },
  {
   "cell_type": "markdown",
   "id": "ce32e1dd",
   "metadata": {},
   "source": [
    "Input Function"
   ]
  },
  {
   "cell_type": "code",
   "execution_count": 15,
   "id": "65ae3037",
   "metadata": {},
   "outputs": [
    {
     "name": "stdout",
     "output_type": "stream",
     "text": [
      "<class 'str'>\n",
      "25\n",
      "<class 'int'>\n",
      "25\n"
     ]
    }
   ],
   "source": [
    "age = input(\"What is your age?\")\n",
    "print(type(age))\n",
    "print(age)\n",
    "\n",
    "age_int = int(age)\n",
    "print(type(age_int))\n",
    "print(age_int)"
   ]
  },
  {
   "cell_type": "markdown",
   "id": "004e2b73",
   "metadata": {},
   "source": [
    "Simple Calculator Program"
   ]
  },
  {
   "cell_type": "code",
   "execution_count": 16,
   "id": "001308c8",
   "metadata": {},
   "outputs": [
    {
     "name": "stdout",
     "output_type": "stream",
     "text": [
      "The sum of 65.0 and 32.5 is 97.5\n",
      "The difference between 65.0 and 32.5 is 32.5\n",
      "The product of 65.0 and 32.5 is 2112.5\n",
      "The quotient of 65.0 and 32.5 is 2.0\n"
     ]
    }
   ],
   "source": [
    "number1 = float(input(\"Enter a number: \"))\n",
    "number2 = float(input(\"Enter another number: \"))\n",
    "\n",
    "sum = number1 + number2\n",
    "difference = number1 - number2\n",
    "product = number1 * number2\n",
    "quotient = number1 / number2\n",
    "\n",
    "print(\"The sum of\", number1, \"and\", number2, \"is\", sum)\n",
    "print(\"The difference between\", number1, \"and\", number2, \"is\", difference)\n",
    "print(\"The product of\", number1, \"and\", number2, \"is\", product)\n",
    "print(\"The quotient of\", number1, \"and\", number2, \"is\", quotient)"
   ]
  }
 ],
 "metadata": {
  "kernelspec": {
   "display_name": "base",
   "language": "python",
   "name": "python3"
  },
  "language_info": {
   "codemirror_mode": {
    "name": "ipython",
    "version": 3
   },
   "file_extension": ".py",
   "mimetype": "text/x-python",
   "name": "python",
   "nbconvert_exporter": "python",
   "pygments_lexer": "ipython3",
   "version": "3.12.7"
  }
 },
 "nbformat": 4,
 "nbformat_minor": 5
}

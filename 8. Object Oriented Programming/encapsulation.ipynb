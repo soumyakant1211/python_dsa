{
 "cells": [
  {
   "cell_type": "markdown",
   "id": "a93981eb",
   "metadata": {},
   "source": [
    "### Encapsulation and Abstraction\n",
    "\n",
    "Encapsulation and Abstraction are two fundamental principles of Object Oriented Programming (OOP) that helps in designing robust, maintainable, and reusable code. Encapsulation involves bundling of data and methods that operate on the data within a single unit, while abstraction involves hiding complex implementation details and exposing only the necessary features."
   ]
  },
  {
   "cell_type": "markdown",
   "id": "15240bf3",
   "metadata": {},
   "source": [
    "### Encapsulation\n",
    "\n",
    "Encapsulation is the concept of wrapping data (variables) and methods (functions) together as a single unit. It restricts direct access of the object's components, which is a means of preventing accidental interference and misuse of the data."
   ]
  },
  {
   "cell_type": "code",
   "execution_count": 15,
   "id": "1d29048c",
   "metadata": {},
   "outputs": [
    {
     "name": "stdout",
     "output_type": "stream",
     "text": [
      "Soumyakant\n",
      "<__main__.Person object at 0x000001EC73D9D7D0>\n"
     ]
    }
   ],
   "source": [
    "# Access Modifiers - Public Variables\n",
    "# Public variables can be accessed from anywhere in the code.\n",
    "\n",
    "class Person:\n",
    "    def __init__(self, name, age):\n",
    "        self.name = name  # Public variable\n",
    "        self.age = age    # Public variable\n",
    "\n",
    "# getter function to access the public variable\n",
    "def get_name(person):\n",
    "    return person.name  # Accessing public variable\n",
    "\n",
    "person = Person(\"Soumyakant\", 25)\n",
    "get_name_info = get_name(person)\n",
    "print(get_name_info)\n",
    "print(person)"
   ]
  },
  {
   "cell_type": "code",
   "execution_count": 16,
   "id": "00a7c367",
   "metadata": {},
   "outputs": [
    {
     "data": {
      "text/plain": [
       "['__class__',\n",
       " '__delattr__',\n",
       " '__dict__',\n",
       " '__dir__',\n",
       " '__doc__',\n",
       " '__eq__',\n",
       " '__format__',\n",
       " '__ge__',\n",
       " '__getattribute__',\n",
       " '__getstate__',\n",
       " '__gt__',\n",
       " '__hash__',\n",
       " '__init__',\n",
       " '__init_subclass__',\n",
       " '__le__',\n",
       " '__lt__',\n",
       " '__module__',\n",
       " '__ne__',\n",
       " '__new__',\n",
       " '__reduce__',\n",
       " '__reduce_ex__',\n",
       " '__repr__',\n",
       " '__setattr__',\n",
       " '__sizeof__',\n",
       " '__str__',\n",
       " '__subclasshook__',\n",
       " '__weakref__',\n",
       " 'age',\n",
       " 'name']"
      ]
     },
     "execution_count": 16,
     "metadata": {},
     "output_type": "execute_result"
    }
   ],
   "source": [
    "dir(person)  # This will show all attributes including public ones"
   ]
  },
  {
   "cell_type": "code",
   "execution_count": 17,
   "id": "cfa758e0",
   "metadata": {},
   "outputs": [
    {
     "data": {
      "text/plain": [
       "['_PersonPrivate__age',\n",
       " '_PersonPrivate__name',\n",
       " '__class__',\n",
       " '__delattr__',\n",
       " '__dict__',\n",
       " '__dir__',\n",
       " '__doc__',\n",
       " '__eq__',\n",
       " '__format__',\n",
       " '__ge__',\n",
       " '__getattribute__',\n",
       " '__getstate__',\n",
       " '__gt__',\n",
       " '__hash__',\n",
       " '__init__',\n",
       " '__init_subclass__',\n",
       " '__le__',\n",
       " '__lt__',\n",
       " '__module__',\n",
       " '__ne__',\n",
       " '__new__',\n",
       " '__reduce__',\n",
       " '__reduce_ex__',\n",
       " '__repr__',\n",
       " '__setattr__',\n",
       " '__sizeof__',\n",
       " '__str__',\n",
       " '__subclasshook__',\n",
       " '__weakref__',\n",
       " 'gender']"
      ]
     },
     "execution_count": 17,
     "metadata": {},
     "output_type": "execute_result"
    }
   ],
   "source": [
    "# Acess Modifiers - Private Variables\n",
    "\n",
    "class PersonPrivate:\n",
    "    def __init__(self, name, age, gender):\n",
    "        self.__name = name  # Private variable\n",
    "        self.__age = age    # Private variable\n",
    "        self.gender = gender    # Public variable\n",
    "\n",
    "person = PersonPrivate(\"Soumyakant\", 25, \"Male\")\n",
    "dir(person)  # This will not show private variables"
   ]
  },
  {
   "cell_type": "markdown",
   "id": "c0fffa9f",
   "metadata": {},
   "source": [
    "### Note\n",
    "\n",
    "Public variables can be accessed from anywhere in the code. Private and Protected Variables cannot be access ouside the class but protected variables can be accessed by the derived class."
   ]
  },
  {
   "cell_type": "code",
   "execution_count": 18,
   "id": "516de8a2",
   "metadata": {},
   "outputs": [
    {
     "ename": "AttributeError",
     "evalue": "'PersonPrivate' object has no attribute '__name'",
     "output_type": "error",
     "traceback": [
      "\u001b[31m---------------------------------------------------------------------------\u001b[39m",
      "\u001b[31mAttributeError\u001b[39m                            Traceback (most recent call last)",
      "\u001b[36mCell\u001b[39m\u001b[36m \u001b[39m\u001b[32mIn[18]\u001b[39m\u001b[32m, line 13\u001b[39m\n\u001b[32m     10\u001b[39m     \u001b[38;5;28;01mreturn\u001b[39;00m person.__name  \u001b[38;5;66;03m# Attempting to access private variable will raise an error\u001b[39;00m\n\u001b[32m     12\u001b[39m person = PersonPrivate(\u001b[33m\"\u001b[39m\u001b[33mSoumyakant\u001b[39m\u001b[33m\"\u001b[39m, \u001b[32m25\u001b[39m, \u001b[33m\"\u001b[39m\u001b[33mMale\u001b[39m\u001b[33m\"\u001b[39m)\n\u001b[32m---> \u001b[39m\u001b[32m13\u001b[39m get_name_info = \u001b[43mget_name\u001b[49m\u001b[43m(\u001b[49m\u001b[43mperson\u001b[49m\u001b[43m)\u001b[49m  \u001b[38;5;66;03m# This will raise an AttributeError\u001b[39;00m\n\u001b[32m     14\u001b[39m \u001b[38;5;66;03m# Uncommenting the line below will raise an error\u001b[39;00m\n\u001b[32m     15\u001b[39m \u001b[38;5;28mprint\u001b[39m(get_name_info)\n",
      "\u001b[36mCell\u001b[39m\u001b[36m \u001b[39m\u001b[32mIn[18]\u001b[39m\u001b[32m, line 10\u001b[39m, in \u001b[36mget_name\u001b[39m\u001b[34m(person)\u001b[39m\n\u001b[32m      9\u001b[39m \u001b[38;5;28;01mdef\u001b[39;00m\u001b[38;5;250m \u001b[39m\u001b[34mget_name\u001b[39m(person):\n\u001b[32m---> \u001b[39m\u001b[32m10\u001b[39m     \u001b[38;5;28;01mreturn\u001b[39;00m \u001b[43mperson\u001b[49m\u001b[43m.\u001b[49m\u001b[43m__name\u001b[49m\n",
      "\u001b[31mAttributeError\u001b[39m: 'PersonPrivate' object has no attribute '__name'"
     ]
    }
   ],
   "source": [
    "# Attribute Error while trying to access private variables\n",
    "\n",
    "class PersonPrivate:\n",
    "    def __init__(self, name, age, gender):\n",
    "        self.__name = name  # Private variable\n",
    "        self.__age = age    # Private variable\n",
    "        self.gender = gender    # Public variable\n",
    "\n",
    "def get_name(person):\n",
    "    return person.__name  # Attempting to access private variable will raise an error\n",
    "\n",
    "person = PersonPrivate(\"Soumyakant\", 25, \"Male\")\n",
    "get_name_info = get_name(person)  # This will raise an AttributeError\n",
    "# Uncommenting the line below will raise an error\n",
    "print(get_name_info)"
   ]
  },
  {
   "cell_type": "code",
   "execution_count": 20,
   "id": "93c71e8b",
   "metadata": {},
   "outputs": [
    {
     "name": "stdout",
     "output_type": "stream",
     "text": [
      "Soumyakant\n"
     ]
    },
    {
     "data": {
      "text/plain": [
       "['__class__',\n",
       " '__delattr__',\n",
       " '__dict__',\n",
       " '__dir__',\n",
       " '__doc__',\n",
       " '__eq__',\n",
       " '__format__',\n",
       " '__ge__',\n",
       " '__getattribute__',\n",
       " '__getstate__',\n",
       " '__gt__',\n",
       " '__hash__',\n",
       " '__init__',\n",
       " '__init_subclass__',\n",
       " '__le__',\n",
       " '__lt__',\n",
       " '__module__',\n",
       " '__ne__',\n",
       " '__new__',\n",
       " '__reduce__',\n",
       " '__reduce_ex__',\n",
       " '__repr__',\n",
       " '__setattr__',\n",
       " '__sizeof__',\n",
       " '__str__',\n",
       " '__subclasshook__',\n",
       " '__weakref__',\n",
       " '_age',\n",
       " '_name',\n",
       " 'gender']"
      ]
     },
     "execution_count": 20,
     "metadata": {},
     "output_type": "execute_result"
    }
   ],
   "source": [
    "class Person:\n",
    "    def __init__(self, name, age, gender):\n",
    "        self._name = name  # Protected variable\n",
    "        self._age = age  # Protected variable\n",
    "        self.gender = gender  # Public variable\n",
    "\n",
    "class Employee(Person):\n",
    "    def __init__(self, name, age, gender):\n",
    "        super().__init__(name, age, gender)\n",
    "\n",
    "employee = Employee(\"Soumyakant\", 25, \"Male\")\n",
    "print(employee._name)  # Accessing protected variable, but should be done with caution\n",
    "dir(employee)\n"
   ]
  },
  {
   "cell_type": "code",
   "execution_count": 21,
   "id": "8d320700",
   "metadata": {},
   "outputs": [
    {
     "name": "stdout",
     "output_type": "stream",
     "text": [
      "Soumyakant\n",
      "John\n",
      "25\n",
      "Age must be positive\n"
     ]
    }
   ],
   "source": [
    "# Encapsulation - Using getter and setter methods\n",
    "class PersonEncapsulation:\n",
    "    def __init__(self, name, age):\n",
    "        self.__name = name  # Private variable\n",
    "        self.__age = age    # Private variable\n",
    "\n",
    "    # Getter for name\n",
    "    def get_name(self):\n",
    "        return self.__name\n",
    "\n",
    "    # Setter for name\n",
    "    def set_name(self, name):\n",
    "        self.__name = name\n",
    "\n",
    "    # Getter for age\n",
    "    def get_age(self):\n",
    "        return self.__age\n",
    "\n",
    "    # Setter for age\n",
    "    def set_age(self, age):\n",
    "        if age > 0:\n",
    "            self.__age = age\n",
    "        else:\n",
    "            return \"Age must be positive\"\n",
    "\n",
    "# Example usage\n",
    "person = PersonEncapsulation(\"Soumyakant\", 25)\n",
    "print(person.get_name())  # Output: \"Soumyakant\"\n",
    "person.set_name(\"John\")\n",
    "print(person.get_name())  # Output: \"John\"\n",
    "print(person.get_age())  # Output: 25\n",
    "print(person.set_age(-1))  # Output: \"Age must be positive\"\n"
   ]
  }
 ],
 "metadata": {
  "kernelspec": {
   "display_name": "Python 3",
   "language": "python",
   "name": "python3"
  },
  "language_info": {
   "codemirror_mode": {
    "name": "ipython",
    "version": 3
   },
   "file_extension": ".py",
   "mimetype": "text/x-python",
   "name": "python",
   "nbconvert_exporter": "python",
   "pygments_lexer": "ipython3",
   "version": "3.11.11"
  }
 },
 "nbformat": 4,
 "nbformat_minor": 5
}

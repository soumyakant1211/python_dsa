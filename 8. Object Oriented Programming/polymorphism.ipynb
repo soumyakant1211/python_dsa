{
 "cells": [
  {
   "cell_type": "markdown",
   "id": "33c3f172",
   "metadata": {},
   "source": [
    "### Polymorphism\n",
    "\n",
    "Polymorphism is the core concept in Object Oriented Programming (OOP) that allows objects of different classes to be treated as objects of a common superclass. It provides a way to perform a single action in different forms. It is typically achieved through method overriding and interfaces."
   ]
  },
  {
   "cell_type": "markdown",
   "id": "6240412c",
   "metadata": {},
   "source": [
    "### Method Overriding\n",
    "\n",
    "Method Overriding allows a child class to provide a specific implementation of a method that is already defined in its parent class"
   ]
  },
  {
   "cell_type": "code",
   "execution_count": 3,
   "id": "4fd84a2a",
   "metadata": {},
   "outputs": [
    {
     "name": "stdout",
     "output_type": "stream",
     "text": [
      "Woof!\n",
      "Meow!\n",
      "Woof!\n",
      "Meow!\n"
     ]
    }
   ],
   "source": [
    "# Base Class\n",
    "\n",
    "class Animal:\n",
    "    def speak(self):\n",
    "        return \"Sound of an animal\"\n",
    "    \n",
    "# Derived Class 1\n",
    "class Dog(Animal):\n",
    "    def speak(self):\n",
    "        return \"Woof!\"\n",
    "    \n",
    "# Derived Class 2\n",
    "class Cat(Animal):\n",
    "    def speak(self):\n",
    "        return \"Meow!\"\n",
    "    \n",
    "# function to demonstrate polymorphism\n",
    "def animal_sound(animal):\n",
    "    print(animal.speak())\n",
    "\n",
    "# Create objects of derived classes\n",
    "dog = Dog()\n",
    "cat = Cat()\n",
    "\n",
    "# print the animal sounds\n",
    "print(dog.speak())\n",
    "print(cat.speak())\n",
    "\n",
    "\n",
    "# Call the function with objects of derived classes\n",
    "animal_sound(dog)\n",
    "animal_sound(cat)"
   ]
  },
  {
   "cell_type": "code",
   "execution_count": 4,
   "id": "0812e68d",
   "metadata": {},
   "outputs": [
    {
     "name": "stdout",
     "output_type": "stream",
     "text": [
      "The area is: 78.5\n",
      "The area is: 24\n"
     ]
    }
   ],
   "source": [
    "# Polymorphism with functions and methods\n",
    "\n",
    "# Base Class\n",
    "class Shape:\n",
    "    def area(self):\n",
    "        return \"The area of the shape\"\n",
    "    \n",
    "# Derived Class 1\n",
    "class Circle(Shape):\n",
    "    def __init__(self, radius):\n",
    "        self.radius = radius\n",
    "\n",
    "    def area(self):\n",
    "        return 3.14 * self.radius * self.radius\n",
    "    \n",
    "# Derived Class 2\n",
    "\n",
    "class Rectangle(Shape):\n",
    "    def __init__(self, width, height):\n",
    "        self.width = width\n",
    "        self.height = height\n",
    "\n",
    "    def area(self):\n",
    "        return self.width * self.height\n",
    "    \n",
    "# function to demonstrate polymorphism with shapes\n",
    "def shape_area(shape):\n",
    "    print(f\"The area is: {shape.area()}\")\n",
    "\n",
    "# Create objects of derived classes\n",
    "circle = Circle(5)\n",
    "rectangle = Rectangle(4, 6)\n",
    "\n",
    "# Call the function with objects of derived classes\n",
    "shape_area(circle)\n",
    "shape_area(rectangle)"
   ]
  },
  {
   "cell_type": "markdown",
   "id": "9a9a9f02",
   "metadata": {},
   "source": [
    "### Abstract Base Class\n",
    "\n",
    "Abstract Base Class (ABC) are used to define common methods for a group of related objects. They can enforce that dervided class implement particular methods, promoting consistency across different implementations."
   ]
  },
  {
   "cell_type": "code",
   "execution_count": 5,
   "id": "92fbf4fd",
   "metadata": {},
   "outputs": [
    {
     "name": "stdout",
     "output_type": "stream",
     "text": [
      "Car is starting\n"
     ]
    }
   ],
   "source": [
    "# Polymorphism with Abstract Base Class\n",
    "\n",
    "from abc import ABC, abstractmethod\n",
    "\n",
    "# define an abstract base class\n",
    "class Vehicle(ABC):\n",
    "    @abstractmethod\n",
    "    def start(self):\n",
    "        pass\n",
    "\n",
    "# Derived Class 1\n",
    "class Car(Vehicle):\n",
    "    def start(self):\n",
    "        return \"Car is starting\"\n",
    "\n",
    "# Derived Class 2\n",
    "class Bike(Vehicle):\n",
    "    def start(self):\n",
    "        return \"Bike is starting\"\n",
    "    \n",
    "# function to demonstrate polymorphism with vehicles\n",
    "def vehicle_start(vehicle):\n",
    "    print(vehicle.start())\n",
    "\n",
    "# Create objects of derived classes\n",
    "car = Car()\n",
    "bike = Bike()\n",
    "\n",
    "# Call the function with objects of derived classes\n",
    "vehicle_start(car)"
   ]
  }
 ],
 "metadata": {
  "kernelspec": {
   "display_name": "Python 3",
   "language": "python",
   "name": "python3"
  },
  "language_info": {
   "codemirror_mode": {
    "name": "ipython",
    "version": 3
   },
   "file_extension": ".py",
   "mimetype": "text/x-python",
   "name": "python",
   "nbconvert_exporter": "python",
   "pygments_lexer": "ipython3",
   "version": "3.11.11"
  }
 },
 "nbformat": 4,
 "nbformat_minor": 5
}

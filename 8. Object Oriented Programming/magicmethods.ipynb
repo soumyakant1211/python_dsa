{
 "cells": [
  {
   "cell_type": "markdown",
   "id": "aa418e45",
   "metadata": {},
   "source": [
    "### Magic Methods\n",
    "\n",
    "Magic Methods in Python also known as dunder methods (double underscore methods) are special methods that start and end with double underscores. These methods enable you to define the behaviour of objects for built in operations such as arithmetic, comparision, and more. They are predefined methods in Python that we can override to change the behaviour of objects. "
   ]
  },
  {
   "cell_type": "code",
   "execution_count": 1,
   "id": "1d83870d",
   "metadata": {},
   "outputs": [
    {
     "data": {
      "text/plain": [
       "'\\n__init__(self, ...): Initializes a new instance of the class.\\n__str__(self): Returns a string representation of the object.\\n__repr__(self): Returns a detailed string representation of the object.\\n__len__(self): Returns the length of the object.\\n__getitem__(self, key): Gets an item from the container.\\n__setitem__(self, key, value): Sets an item in the container.\\n'"
      ]
     },
     "execution_count": 1,
     "metadata": {},
     "output_type": "execute_result"
    }
   ],
   "source": [
    "# Some common magic methods are:\n",
    "\n",
    "'''\n",
    "__init__(self, ...): Initializes a new instance of the class.\n",
    "__str__(self): Returns a string representation of the object.\n",
    "__repr__(self): Returns a detailed string representation of the object.\n",
    "__len__(self): Returns the length of the object.\n",
    "__getitem__(self, key): Gets an item from the container.\n",
    "__setitem__(self, key, value): Sets an item in the container.\n",
    "'''"
   ]
  },
  {
   "cell_type": "code",
   "execution_count": null,
   "id": "8c3c641d",
   "metadata": {},
   "outputs": [
    {
     "name": "stdout",
     "output_type": "stream",
     "text": [
      "<__main__.Person object at 0x0000028D49EBEE50>\n"
     ]
    },
    {
     "data": {
      "text/plain": [
       "['__class__',\n",
       " '__delattr__',\n",
       " '__dict__',\n",
       " '__dir__',\n",
       " '__doc__',\n",
       " '__eq__',\n",
       " '__format__',\n",
       " '__ge__',\n",
       " '__getattribute__',\n",
       " '__getstate__',\n",
       " '__gt__',\n",
       " '__hash__',\n",
       " '__init__',\n",
       " '__init_subclass__',\n",
       " '__le__',\n",
       " '__lt__',\n",
       " '__module__',\n",
       " '__ne__',\n",
       " '__new__',\n",
       " '__reduce__',\n",
       " '__reduce_ex__',\n",
       " '__repr__',\n",
       " '__setattr__',\n",
       " '__sizeof__',\n",
       " '__str__',\n",
       " '__subclasshook__',\n",
       " '__weakref__']"
      ]
     },
     "execution_count": 2,
     "metadata": {},
     "output_type": "execute_result"
    }
   ],
   "source": [
    "# Example of a class with magic methods\n",
    "class Person:\n",
    "    pass\n",
    "\n",
    "person = Person()\n",
    "print(person)\n",
    "dir(person)"
   ]
  },
  {
   "cell_type": "code",
   "execution_count": 4,
   "id": "70595bf2",
   "metadata": {},
   "outputs": [
    {
     "name": "stdout",
     "output_type": "stream",
     "text": [
      "Soumyakant is 25 years old\n"
     ]
    }
   ],
   "source": [
    "# Basic Magic Methods:\n",
    "\n",
    "class Person:\n",
    "    def __init__(self, name, age):\n",
    "        self.name = name\n",
    "        self.age = age\n",
    "\n",
    "    def __str__(self):\n",
    "        return f\"{self.name} is {self.age} years old\"\n",
    "\n",
    "person = Person(\"Soumyakant\", 25)\n",
    "print(person)  # Calls __str__ method"
   ]
  },
  {
   "cell_type": "code",
   "execution_count": 10,
   "id": "78f8afcf",
   "metadata": {},
   "outputs": [
    {
     "name": "stdout",
     "output_type": "stream",
     "text": [
      "Soumyakant is 25 years old\n",
      "Person(name=Soumyakant, age=25)\n"
     ]
    }
   ],
   "source": [
    "# Basic Magic Methods:\n",
    "\n",
    "class Person:\n",
    "    def __init__(self, name, age):\n",
    "        self.name = name\n",
    "        self.age = age\n",
    "\n",
    "    def __str__(self):\n",
    "        return f\"{self.name} is {self.age} years old\"\n",
    "\n",
    "    def __repr__(self):\n",
    "        return f\"Person(name={self.name}, age={self.age})\"\n",
    "\n",
    "person = Person(\"Soumyakant\", 25)\n",
    "print(person)  # Calls __str__ method\n",
    "print(repr(person))  # Calls __repr__ method"
   ]
  }
 ],
 "metadata": {
  "kernelspec": {
   "display_name": "Python 3",
   "language": "python",
   "name": "python3"
  },
  "language_info": {
   "codemirror_mode": {
    "name": "ipython",
    "version": 3
   },
   "file_extension": ".py",
   "mimetype": "text/x-python",
   "name": "python",
   "nbconvert_exporter": "python",
   "pygments_lexer": "ipython3",
   "version": "3.11.11"
  }
 },
 "nbformat": 4,
 "nbformat_minor": 5
}

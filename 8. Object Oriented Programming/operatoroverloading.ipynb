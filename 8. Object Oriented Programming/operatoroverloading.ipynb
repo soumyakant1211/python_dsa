{
 "cells": [
  {
   "cell_type": "markdown",
   "id": "2a955bcc",
   "metadata": {},
   "source": [
    "### Operator Overloading\n",
    "\n",
    "Operator Overloading allows us to write the behaviour of operators (+, -, *, etc) for custom objects. This can be achieved by overriding specific magic methods of a class."
   ]
  },
  {
   "cell_type": "code",
   "execution_count": 4,
   "id": "457736fa",
   "metadata": {},
   "outputs": [
    {
     "data": {
      "text/plain": [
       "'\\n__ add__(self, other): Adds two objects using the + operator.\\n__ sub__(self, other): Subtracts two objects using the - operator.\\n__ mul__(self, other): Multiplies two objects using the * operator.\\n__ truediv__(self, other): Divides two objects using the / operator.\\n__ floordiv__(self, other): Divides two objects using the // operator.\\n__ mod__(self, other): Computes the modulus of two objects using the % operator.\\n__ pow__(self, other): Raises one object to the power of another using the ** operator.\\n__ eq__(self, other): Checks if two objects are equal using the == operator.\\n__ ne__(self, other): Checks if two objects are not equal using the != operator.\\n__ lt__(self, other): Checks if one object is less than another using the < operator.\\n__ le__(self, other): Checks if one object is less than or equal to another using the <= operator.\\n__ gt__(self, other): Checks if one object is greater than another using the > operator.\\n__ ge__(self, other): Checks if one object is greater than or equal to another using the >= operator.\\n'"
      ]
     },
     "execution_count": 4,
     "metadata": {},
     "output_type": "execute_result"
    }
   ],
   "source": [
    "# Some common Operator Overloading Magic Methods are:\n",
    "\n",
    "'''\n",
    "__ add__(self, other): Adds two objects using the + operator.\n",
    "__ sub__(self, other): Subtracts two objects using the - operator.\n",
    "__ mul__(self, other): Multiplies two objects using the * operator.\n",
    "__ truediv__(self, other): Divides two objects using the / operator.\n",
    "__ floordiv__(self, other): Divides two objects using the // operator.\n",
    "__ mod__(self, other): Computes the modulus of two objects using the % operator.\n",
    "__ pow__(self, other): Raises one object to the power of another using the ** operator.\n",
    "__ eq__(self, other): Checks if two objects are equal using the == operator.\n",
    "__ ne__(self, other): Checks if two objects are not equal using the != operator.\n",
    "__ lt__(self, other): Checks if one object is less than another using the < operator.\n",
    "__ le__(self, other): Checks if one object is less than or equal to another using the <= operator.\n",
    "__ gt__(self, other): Checks if one object is greater than another using the > operator.\n",
    "__ ge__(self, other): Checks if one object is greater than or equal to another using the >= operator.\n",
    "'''"
   ]
  },
  {
   "cell_type": "code",
   "execution_count": 5,
   "id": "d481147a",
   "metadata": {},
   "outputs": [
    {
     "name": "stdout",
     "output_type": "stream",
     "text": [
      "Vector(3, 5)\n",
      "Vector(1, 1)\n",
      "Vector(4, 6)\n",
      "Vector(1.0, 1.5)\n",
      "False\n"
     ]
    }
   ],
   "source": [
    "class Vector:\n",
    "    def __init__(self, x, y):\n",
    "        self.x = x\n",
    "        self.y = y\n",
    "    \n",
    "    def __add__(self, other):\n",
    "        return Vector(self.x + other.x, self.y + other.y)\n",
    "\n",
    "    def __sub__(self, other):\n",
    "        return Vector(self.x - other.x, self.y - other.y)\n",
    "\n",
    "    def __mul__(self, scalar):\n",
    "        return Vector(self.x * scalar, self.y * scalar)\n",
    "\n",
    "    def __truediv__(self, scalar):\n",
    "        if scalar == 0:\n",
    "            raise ValueError(\"Cannot divide by zero\")\n",
    "        return Vector(self.x / scalar, self.y / scalar)\n",
    "\n",
    "    def __eq__(self, other):\n",
    "        return self.x == other.x and self.y == other.y\n",
    "\n",
    "    def __repr__(self):\n",
    "        return f\"Vector({self.x}, {self.y})\"\n",
    "    \n",
    "# Example usage:\n",
    "v1 = Vector(2, 3)\n",
    "v2 = Vector(1, 2)\n",
    "v3 = v1 + v2\n",
    "v4 = v1 - v2\n",
    "v5 = v1 * 2\n",
    "v6 = v1 / 2\n",
    "v7 = v1 == v2\n",
    "print(v3)  # Output: Vector(3, 5)\n",
    "print(v4)  # Output: Vector(1, 1)\n",
    "print(v5)  # Output: Vector(4, 6)\n",
    "print(v6)  # Output: Vector(1.0, 1.5)\n",
    "print(v7)  # Output: False"
   ]
  },
  {
   "cell_type": "code",
   "execution_count": 6,
   "id": "df504cde",
   "metadata": {},
   "outputs": [
    {
     "name": "stdout",
     "output_type": "stream",
     "text": [
      "3 + 5i\n",
      "1 + 1i\n",
      "-4 + 7i\n",
      "1.6 + -0.2i\n",
      "False\n"
     ]
    }
   ],
   "source": [
    "# Overloading Operators for Complex numbers\n",
    "\n",
    "class Complex:\n",
    "    def __init__(self, real=0, imag=0):\n",
    "        self.real = real\n",
    "        self.imag = imag\n",
    "    \n",
    "    def __add__(self, other):\n",
    "        return Complex(self.real + other.real, self.imag + other.imag)\n",
    "    \n",
    "    def __sub__(self, other):\n",
    "        return Complex(self.real - other.real, self.imag - other.imag)\n",
    "    \n",
    "    def __mul__(self, other):\n",
    "        return Complex(self.real * other.real - self.imag * other.imag,\n",
    "                       self.real * other.imag + self.imag * other.real)\n",
    "    \n",
    "    def __truediv__(self, other):\n",
    "        denominator = other.real**2 + other.imag**2\n",
    "        return Complex((self.real * other.real + self.imag * other.imag) / denominator,\n",
    "                       (self.imag * other.real - self.real * other.imag) / denominator)\n",
    "    \n",
    "    def __eq__(self, other):\n",
    "        return self.real == other.real and self.imag == other.imag\n",
    "\n",
    "    def __repr__(self):\n",
    "        return f\"{self.real} + {self.imag}i\"\n",
    "\n",
    "# Example usage:\n",
    "c1 = Complex(2, 3)\n",
    "c2 = Complex(1, 2)\n",
    "c3 = c1 + c2\n",
    "c4 = c1 - c2\n",
    "c5 = c1 * c2\n",
    "c6 = c1 / c2\n",
    "c7 = c1 == c2  # Check equality\n",
    "print(c3)  # Output: 3 + 5i \n",
    "print(c4)  # Output: 1 + 1i\n",
    "print(c5)  # Output: -1 + 5i\n",
    "print(c6)  # Output: 0.5 + 1.5i\n",
    "print(c7)  # Output: False"
   ]
  }
 ],
 "metadata": {
  "kernelspec": {
   "display_name": "Python 3",
   "language": "python",
   "name": "python3"
  },
  "language_info": {
   "codemirror_mode": {
    "name": "ipython",
    "version": 3
   },
   "file_extension": ".py",
   "mimetype": "text/x-python",
   "name": "python",
   "nbconvert_exporter": "python",
   "pygments_lexer": "ipython3",
   "version": "3.11.11"
  }
 },
 "nbformat": 4,
 "nbformat_minor": 5
}

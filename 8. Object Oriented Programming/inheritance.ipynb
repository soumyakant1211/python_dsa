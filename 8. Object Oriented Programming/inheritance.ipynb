{
 "cells": [
  {
   "cell_type": "markdown",
   "id": "0a7b120e",
   "metadata": {},
   "source": [
    "Inheritance is a fundamental concept in Object Oriented Programming (OOP) that allows a class to inherit attributes and methods from another class."
   ]
  },
  {
   "cell_type": "code",
   "execution_count": 13,
   "id": "552a76ea",
   "metadata": {},
   "outputs": [
    {
     "name": "stdout",
     "output_type": "stream",
     "text": [
      "The person will drive a petrol car.\n",
      "Tesla supports autopilot: True\n",
      "The person will drive a electric car.\n"
     ]
    }
   ],
   "source": [
    "# single inheritance\n",
    "\n",
    "# base class\n",
    "\n",
    "class Car:\n",
    "    def __init__(self, windows, doors, enginetype):\n",
    "        self.windows = windows\n",
    "        self.doors = doors\n",
    "        self.enginetype = enginetype\n",
    "\n",
    "    def drive(self):\n",
    "        print(f\"The person will drive a {self.enginetype} car.\")\n",
    "\n",
    "car = Car(4, 4, \"petrol\")\n",
    "car.drive()\n",
    "\n",
    "# derived class\n",
    "\n",
    "class Tesla(Car):\n",
    "    def __init__(self, windows, doors, enginetype, autopilot):\n",
    "        super().__init__(windows, doors, enginetype)\n",
    "        self.autopilot = autopilot\n",
    "\n",
    "    def autopilotmode(self):\n",
    "        print(f\"Tesla supports autopilot: {self.autopilot}\")\n",
    "\n",
    "tesla = Tesla(4, 5, \"electric\", True)\n",
    "tesla.autopilotmode()\n",
    "tesla.drive()"
   ]
  },
  {
   "cell_type": "markdown",
   "id": "f76886f6",
   "metadata": {},
   "source": [
    "Multiple Inheritance is the inheritance which inherits the properties of more than one base class"
   ]
  },
  {
   "cell_type": "code",
   "execution_count": 14,
   "id": "186a9d5c",
   "metadata": {},
   "outputs": [
    {
     "name": "stdout",
     "output_type": "stream",
     "text": [
      "Buddy says Woof!\n",
      "Buddy is owned by Alice\n"
     ]
    }
   ],
   "source": [
    "# multiple inheritance\n",
    "\n",
    "class Animal:\n",
    "    def __init__(self, name):\n",
    "        self.name = name\n",
    "\n",
    "    def speak(self):\n",
    "        print(\"Subclass must implement this method\")\n",
    "\n",
    "class Pet:\n",
    "    def __init__(self, owner):\n",
    "        self.owner = owner\n",
    "\n",
    "class Dog(Animal, Pet):\n",
    "    def __init__(self, name, owner):\n",
    "        Animal.__init__(self, name)\n",
    "        Pet.__init__(self, owner)\n",
    "\n",
    "    def speak(self):\n",
    "        print(f\"{self.name} says Woof!\")\n",
    "\n",
    "dog = Dog(\"Buddy\", \"Alice\")\n",
    "dog.speak()\n",
    "print(f\"{dog.name} is owned by {dog.owner}\")"
   ]
  },
  {
   "cell_type": "markdown",
   "id": "6f6d9701",
   "metadata": {},
   "source": [
    "Multilevel Inheritance is the inheritance where a class inherits from a derived class, which in turn inherits from another base class."
   ]
  },
  {
   "cell_type": "code",
   "execution_count": 15,
   "id": "d0a40fab",
   "metadata": {},
   "outputs": [
    {
     "name": "stdout",
     "output_type": "stream",
     "text": [
      "Max walks on land.\n",
      "Max says Woof!\n"
     ]
    }
   ],
   "source": [
    "# multilevel inheritance\n",
    "\n",
    "class Animal:\n",
    "    def __init__(self, name):\n",
    "        self.name = name\n",
    "\n",
    "class Mammal(Animal):\n",
    "    def walk(self):\n",
    "        print(f\"{self.name} walks on land.\")\n",
    "\n",
    "class Dog(Mammal):\n",
    "    def speak(self):\n",
    "        print(f\"{self.name} says Woof!\")\n",
    "\n",
    "dog = Dog(\"Max\")\n",
    "dog.walk()\n",
    "dog.speak()\n"
   ]
  },
  {
   "cell_type": "markdown",
   "id": "8cce9c4f",
   "metadata": {},
   "source": [
    "Hierarchical Inheritance is the inheritance where multiple child classes inherit from the same parent class.\n"
   ]
  },
  {
   "cell_type": "code",
   "execution_count": 16,
   "id": "a4c73c2c",
   "metadata": {},
   "outputs": [
    {
     "name": "stdout",
     "output_type": "stream",
     "text": [
      "Animal: Rocky\n",
      "Rocky says Woof!\n",
      "Animal: Milo\n",
      "Milo says Meow!\n"
     ]
    }
   ],
   "source": [
    "# hierarchical inheritance\n",
    "\n",
    "class Animal:\n",
    "    def __init__(self, name):\n",
    "        self.name = name\n",
    "\n",
    "    def info(self):\n",
    "        print(f\"Animal: {self.name}\")\n",
    "\n",
    "class Dog(Animal):\n",
    "    def speak(self):\n",
    "        print(f\"{self.name} says Woof!\")\n",
    "\n",
    "class Cat(Animal):\n",
    "    def speak(self):\n",
    "        print(f\"{self.name} says Meow!\")\n",
    "\n",
    "dog = Dog(\"Rocky\")\n",
    "cat = Cat(\"Milo\")\n",
    "\n",
    "dog.info()\n",
    "dog.speak()\n",
    "\n",
    "cat.info()\n",
    "cat.speak()\n"
   ]
  },
  {
   "cell_type": "markdown",
   "id": "2550cc07",
   "metadata": {},
   "source": [
    "Hybrid Inheritance is a combination of two or more types of inheritance like multiple and multilevel."
   ]
  },
  {
   "cell_type": "code",
   "execution_count": 17,
   "id": "ba7abedd",
   "metadata": {},
   "outputs": [
    {
     "name": "stdout",
     "output_type": "stream",
     "text": [
      "LivingBeing initialized\n",
      "Shadow says Woof! Owned by Emma\n"
     ]
    }
   ],
   "source": [
    "# hybrid inheritance\n",
    "\n",
    "class LivingBeing:\n",
    "    def __init__(self):\n",
    "        print(\"LivingBeing initialized\")\n",
    "\n",
    "class Animal(LivingBeing):\n",
    "    def __init__(self, name):\n",
    "        super().__init__()\n",
    "        self.name = name\n",
    "\n",
    "class Pet:\n",
    "    def __init__(self, owner):\n",
    "        self.owner = owner\n",
    "\n",
    "class Dog(Animal, Pet):  # Hybrid: inherits from both Animal (multilevel) and Pet (multiple)\n",
    "    def __init__(self, name, owner):\n",
    "        Animal.__init__(self, name)\n",
    "        Pet.__init__(self, owner)\n",
    "\n",
    "    def speak(self):\n",
    "        print(f\"{self.name} says Woof! Owned by {self.owner}\")\n",
    "\n",
    "dog = Dog(\"Shadow\", \"Emma\")\n",
    "dog.speak()\n"
   ]
  }
 ],
 "metadata": {
  "kernelspec": {
   "display_name": "Python 3",
   "language": "python",
   "name": "python3"
  },
  "language_info": {
   "codemirror_mode": {
    "name": "ipython",
    "version": 3
   },
   "file_extension": ".py",
   "mimetype": "text/x-python",
   "name": "python",
   "nbconvert_exporter": "python",
   "pygments_lexer": "ipython3",
   "version": "3.11.11"
  }
 },
 "nbformat": 4,
 "nbformat_minor": 5
}
